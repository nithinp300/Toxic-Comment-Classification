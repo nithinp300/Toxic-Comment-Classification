{
  "metadata": {
    "kernelspec": {
      "language": "python",
      "display_name": "Python 3",
      "name": "python3"
    },
    "language_info": {
      "name": "python",
      "version": "3.7.10",
      "mimetype": "text/x-python",
      "codemirror_mode": {
        "name": "ipython",
        "version": 3
      },
      "pygments_lexer": "ipython3",
      "nbconvert_exporter": "python",
      "file_extension": ".py"
    },
    "colab": {
      "provenance": []
    }
  },
  "nbformat_minor": 0,
  "nbformat": 4,
  "cells": [
    {
      "cell_type": "markdown",
      "source": [
        "## Toxic Comment Classification using BERT"
      ],
      "metadata": {
        "id": "E8DGXxy2NOYE"
      }
    },
    {
      "cell_type": "markdown",
      "source": [
        "### Objective\n",
        "Creating a bert model which predicts the probability of each type of toxicity for each comment.\n",
        "\n",
        "This notebook is divided into two parts. <br>\n",
        "In **part I** The model in this part runs only for one distribution of train set and validation set and you can see the inital performance results(auc score) we get from this model. <br>\n",
        "In **part II**, We bring all necessary blocks of code from part I and then show how 5 models can be developed for different choices of train set and validation set as in k_fold (k = 5). The probablites for all types of toxicity for each comment is then estimated as mean value from these 5 models."
      ],
      "metadata": {
        "id": "35NFACrsNOYF"
      }
    },
    {
      "cell_type": "markdown",
      "source": [
        "## PART I\n",
        "## 1. Prepare the data\n",
        "### a. Loading libraries"
      ],
      "metadata": {
        "id": "ShdR3YSTNOYF"
      }
    },
    {
      "cell_type": "code",
      "source": [
        "import numpy as np\n",
        "import pandas as pd\n",
        "import os\n",
        "import random\n",
        "import time\n",
        "\n",
        "import re\n",
        "import string\n",
        "import nltk\n",
        "from nltk.corpus import stopwords\n",
        "\n",
        "import matplotlib.pyplot as plt\n",
        "import seaborn as sns\n",
        "sns.set(style=\"ticks\", context=\"talk\")\n",
        "plt.style.use('dark_background')\n",
        "\n",
        "from tqdm import tqdm\n",
        "\n",
        "import torch\n",
        "import torch.nn as nn\n",
        "import torch.nn.functional as func\n",
        "from torch.utils.data import DataLoader, Dataset\n",
        "\n",
        "import transformers\n",
        "from transformers import AdamW, get_linear_schedule_with_warmup\n",
        "\n",
        "import tokenizers\n",
        "from sklearn.metrics import mean_squared_error, roc_auc_score, roc_curve, auc\n",
        "\n",
        "import warnings\n",
        "warnings.simplefilter('ignore')"
      ],
      "metadata": {
        "execution": {
          "iopub.status.busy": "2021-10-10T10:28:43.191171Z",
          "iopub.execute_input": "2021-10-10T10:28:43.191584Z",
          "iopub.status.idle": "2021-10-10T10:28:51.443169Z",
          "shell.execute_reply.started": "2021-10-10T10:28:43.191500Z",
          "shell.execute_reply": "2021-10-10T10:28:51.441915Z"
        },
        "trusted": true,
        "id": "oY7CCxRANOYG"
      },
      "execution_count": 1,
      "outputs": []
    },
    {
      "cell_type": "markdown",
      "source": [
        "We set a seed for reproducability of the results."
      ],
      "metadata": {
        "id": "rDuRn8xgNOYG"
      }
    },
    {
      "cell_type": "code",
      "source": [
        "SEED = 34\n",
        "\n",
        "def random_seed(SEED):\n",
        "    random.seed(SEED)\n",
        "    os.environ['PYTHONHASHSEED'] = str(SEED)\n",
        "    np.random.seed(SEED)\n",
        "    torch.manual_seed(SEED)\n",
        "    torch.cuda.manual_seed(SEED)\n",
        "    torch.cuda.manual_seed_all(SEED)\n",
        "    torch.backends.cudnn.deterministic = True\n",
        "\n",
        "random_seed(SEED)"
      ],
      "metadata": {
        "execution": {
          "iopub.status.busy": "2021-10-10T10:28:51.447678Z",
          "iopub.execute_input": "2021-10-10T10:28:51.447990Z",
          "iopub.status.idle": "2021-10-10T10:28:51.459834Z",
          "shell.execute_reply.started": "2021-10-10T10:28:51.447961Z",
          "shell.execute_reply": "2021-10-10T10:28:51.458488Z"
        },
        "trusted": true,
        "id": "DUh6Mm9qNOYG"
      },
      "execution_count": 27,
      "outputs": []
    },
    {
      "cell_type": "code",
      "source": [
        "train = pd.read_csv('./toxic-comment-classification-dataset/train.csv.zip', nrows = 200 )\n",
        "train.head()"
      ],
      "metadata": {
        "execution": {
          "iopub.status.busy": "2021-10-10T10:28:51.463122Z",
          "iopub.execute_input": "2021-10-10T10:28:51.463714Z",
          "iopub.status.idle": "2021-10-10T10:28:51.561696Z",
          "shell.execute_reply.started": "2021-10-10T10:28:51.463648Z",
          "shell.execute_reply": "2021-10-10T10:28:51.560497Z"
        },
        "trusted": true,
        "colab": {
          "base_uri": "https://localhost:8080/",
          "height": 206
        },
        "id": "3cAIKhhDNOYG",
        "outputId": "e4db16d9-dcf9-4b0f-ae93-44c617026ce8"
      },
      "execution_count": 29,
      "outputs": [
        {
          "output_type": "execute_result",
          "data": {
            "text/plain": [
              "                 id                                       comment_text  toxic  \\\n",
              "0  0000997932d777bf  Explanation\\nWhy the edits made under my usern...      0   \n",
              "1  000103f0d9cfb60f  D'aww! He matches this background colour I'm s...      0   \n",
              "2  000113f07ec002fd  Hey man, I'm really not trying to edit war. It...      0   \n",
              "3  0001b41b1c6bb37e  \"\\nMore\\nI can't make any real suggestions on ...      0   \n",
              "4  0001d958c54c6e35  You, sir, are my hero. Any chance you remember...      0   \n",
              "\n",
              "   severe_toxic  obscene  threat  insult  identity_hate  \n",
              "0             0        0       0       0              0  \n",
              "1             0        0       0       0              0  \n",
              "2             0        0       0       0              0  \n",
              "3             0        0       0       0              0  \n",
              "4             0        0       0       0              0  "
            ],
            "text/html": [
              "\n",
              "  <div id=\"df-c124014c-2dcc-44f0-b698-3767a14cdd80\" class=\"colab-df-container\">\n",
              "    <div>\n",
              "<style scoped>\n",
              "    .dataframe tbody tr th:only-of-type {\n",
              "        vertical-align: middle;\n",
              "    }\n",
              "\n",
              "    .dataframe tbody tr th {\n",
              "        vertical-align: top;\n",
              "    }\n",
              "\n",
              "    .dataframe thead th {\n",
              "        text-align: right;\n",
              "    }\n",
              "</style>\n",
              "<table border=\"1\" class=\"dataframe\">\n",
              "  <thead>\n",
              "    <tr style=\"text-align: right;\">\n",
              "      <th></th>\n",
              "      <th>id</th>\n",
              "      <th>comment_text</th>\n",
              "      <th>toxic</th>\n",
              "      <th>severe_toxic</th>\n",
              "      <th>obscene</th>\n",
              "      <th>threat</th>\n",
              "      <th>insult</th>\n",
              "      <th>identity_hate</th>\n",
              "    </tr>\n",
              "  </thead>\n",
              "  <tbody>\n",
              "    <tr>\n",
              "      <th>0</th>\n",
              "      <td>0000997932d777bf</td>\n",
              "      <td>Explanation\\nWhy the edits made under my usern...</td>\n",
              "      <td>0</td>\n",
              "      <td>0</td>\n",
              "      <td>0</td>\n",
              "      <td>0</td>\n",
              "      <td>0</td>\n",
              "      <td>0</td>\n",
              "    </tr>\n",
              "    <tr>\n",
              "      <th>1</th>\n",
              "      <td>000103f0d9cfb60f</td>\n",
              "      <td>D'aww! He matches this background colour I'm s...</td>\n",
              "      <td>0</td>\n",
              "      <td>0</td>\n",
              "      <td>0</td>\n",
              "      <td>0</td>\n",
              "      <td>0</td>\n",
              "      <td>0</td>\n",
              "    </tr>\n",
              "    <tr>\n",
              "      <th>2</th>\n",
              "      <td>000113f07ec002fd</td>\n",
              "      <td>Hey man, I'm really not trying to edit war. It...</td>\n",
              "      <td>0</td>\n",
              "      <td>0</td>\n",
              "      <td>0</td>\n",
              "      <td>0</td>\n",
              "      <td>0</td>\n",
              "      <td>0</td>\n",
              "    </tr>\n",
              "    <tr>\n",
              "      <th>3</th>\n",
              "      <td>0001b41b1c6bb37e</td>\n",
              "      <td>\"\\nMore\\nI can't make any real suggestions on ...</td>\n",
              "      <td>0</td>\n",
              "      <td>0</td>\n",
              "      <td>0</td>\n",
              "      <td>0</td>\n",
              "      <td>0</td>\n",
              "      <td>0</td>\n",
              "    </tr>\n",
              "    <tr>\n",
              "      <th>4</th>\n",
              "      <td>0001d958c54c6e35</td>\n",
              "      <td>You, sir, are my hero. Any chance you remember...</td>\n",
              "      <td>0</td>\n",
              "      <td>0</td>\n",
              "      <td>0</td>\n",
              "      <td>0</td>\n",
              "      <td>0</td>\n",
              "      <td>0</td>\n",
              "    </tr>\n",
              "  </tbody>\n",
              "</table>\n",
              "</div>\n",
              "    <div class=\"colab-df-buttons\">\n",
              "\n",
              "  <div class=\"colab-df-container\">\n",
              "    <button class=\"colab-df-convert\" onclick=\"convertToInteractive('df-c124014c-2dcc-44f0-b698-3767a14cdd80')\"\n",
              "            title=\"Convert this dataframe to an interactive table.\"\n",
              "            style=\"display:none;\">\n",
              "\n",
              "  <svg xmlns=\"http://www.w3.org/2000/svg\" height=\"24px\" viewBox=\"0 -960 960 960\">\n",
              "    <path d=\"M120-120v-720h720v720H120Zm60-500h600v-160H180v160Zm220 220h160v-160H400v160Zm0 220h160v-160H400v160ZM180-400h160v-160H180v160Zm440 0h160v-160H620v160ZM180-180h160v-160H180v160Zm440 0h160v-160H620v160Z\"/>\n",
              "  </svg>\n",
              "    </button>\n",
              "\n",
              "  <style>\n",
              "    .colab-df-container {\n",
              "      display:flex;\n",
              "      gap: 12px;\n",
              "    }\n",
              "\n",
              "    .colab-df-convert {\n",
              "      background-color: #E8F0FE;\n",
              "      border: none;\n",
              "      border-radius: 50%;\n",
              "      cursor: pointer;\n",
              "      display: none;\n",
              "      fill: #1967D2;\n",
              "      height: 32px;\n",
              "      padding: 0 0 0 0;\n",
              "      width: 32px;\n",
              "    }\n",
              "\n",
              "    .colab-df-convert:hover {\n",
              "      background-color: #E2EBFA;\n",
              "      box-shadow: 0px 1px 2px rgba(60, 64, 67, 0.3), 0px 1px 3px 1px rgba(60, 64, 67, 0.15);\n",
              "      fill: #174EA6;\n",
              "    }\n",
              "\n",
              "    .colab-df-buttons div {\n",
              "      margin-bottom: 4px;\n",
              "    }\n",
              "\n",
              "    [theme=dark] .colab-df-convert {\n",
              "      background-color: #3B4455;\n",
              "      fill: #D2E3FC;\n",
              "    }\n",
              "\n",
              "    [theme=dark] .colab-df-convert:hover {\n",
              "      background-color: #434B5C;\n",
              "      box-shadow: 0px 1px 3px 1px rgba(0, 0, 0, 0.15);\n",
              "      filter: drop-shadow(0px 1px 2px rgba(0, 0, 0, 0.3));\n",
              "      fill: #FFFFFF;\n",
              "    }\n",
              "  </style>\n",
              "\n",
              "    <script>\n",
              "      const buttonEl =\n",
              "        document.querySelector('#df-c124014c-2dcc-44f0-b698-3767a14cdd80 button.colab-df-convert');\n",
              "      buttonEl.style.display =\n",
              "        google.colab.kernel.accessAllowed ? 'block' : 'none';\n",
              "\n",
              "      async function convertToInteractive(key) {\n",
              "        const element = document.querySelector('#df-c124014c-2dcc-44f0-b698-3767a14cdd80');\n",
              "        const dataTable =\n",
              "          await google.colab.kernel.invokeFunction('convertToInteractive',\n",
              "                                                    [key], {});\n",
              "        if (!dataTable) return;\n",
              "\n",
              "        const docLinkHtml = 'Like what you see? Visit the ' +\n",
              "          '<a target=\"_blank\" href=https://colab.research.google.com/notebooks/data_table.ipynb>data table notebook</a>'\n",
              "          + ' to learn more about interactive tables.';\n",
              "        element.innerHTML = '';\n",
              "        dataTable['output_type'] = 'display_data';\n",
              "        await google.colab.output.renderOutput(dataTable, element);\n",
              "        const docLink = document.createElement('div');\n",
              "        docLink.innerHTML = docLinkHtml;\n",
              "        element.appendChild(docLink);\n",
              "      }\n",
              "    </script>\n",
              "  </div>\n",
              "\n",
              "\n",
              "<div id=\"df-8fc19625-efd7-40f6-9f6e-e3522cd12a3f\">\n",
              "  <button class=\"colab-df-quickchart\" onclick=\"quickchart('df-8fc19625-efd7-40f6-9f6e-e3522cd12a3f')\"\n",
              "            title=\"Suggest charts\"\n",
              "            style=\"display:none;\">\n",
              "\n",
              "<svg xmlns=\"http://www.w3.org/2000/svg\" height=\"24px\"viewBox=\"0 0 24 24\"\n",
              "     width=\"24px\">\n",
              "    <g>\n",
              "        <path d=\"M19 3H5c-1.1 0-2 .9-2 2v14c0 1.1.9 2 2 2h14c1.1 0 2-.9 2-2V5c0-1.1-.9-2-2-2zM9 17H7v-7h2v7zm4 0h-2V7h2v10zm4 0h-2v-4h2v4z\"/>\n",
              "    </g>\n",
              "</svg>\n",
              "  </button>\n",
              "\n",
              "<style>\n",
              "  .colab-df-quickchart {\n",
              "      --bg-color: #E8F0FE;\n",
              "      --fill-color: #1967D2;\n",
              "      --hover-bg-color: #E2EBFA;\n",
              "      --hover-fill-color: #174EA6;\n",
              "      --disabled-fill-color: #AAA;\n",
              "      --disabled-bg-color: #DDD;\n",
              "  }\n",
              "\n",
              "  [theme=dark] .colab-df-quickchart {\n",
              "      --bg-color: #3B4455;\n",
              "      --fill-color: #D2E3FC;\n",
              "      --hover-bg-color: #434B5C;\n",
              "      --hover-fill-color: #FFFFFF;\n",
              "      --disabled-bg-color: #3B4455;\n",
              "      --disabled-fill-color: #666;\n",
              "  }\n",
              "\n",
              "  .colab-df-quickchart {\n",
              "    background-color: var(--bg-color);\n",
              "    border: none;\n",
              "    border-radius: 50%;\n",
              "    cursor: pointer;\n",
              "    display: none;\n",
              "    fill: var(--fill-color);\n",
              "    height: 32px;\n",
              "    padding: 0;\n",
              "    width: 32px;\n",
              "  }\n",
              "\n",
              "  .colab-df-quickchart:hover {\n",
              "    background-color: var(--hover-bg-color);\n",
              "    box-shadow: 0 1px 2px rgba(60, 64, 67, 0.3), 0 1px 3px 1px rgba(60, 64, 67, 0.15);\n",
              "    fill: var(--button-hover-fill-color);\n",
              "  }\n",
              "\n",
              "  .colab-df-quickchart-complete:disabled,\n",
              "  .colab-df-quickchart-complete:disabled:hover {\n",
              "    background-color: var(--disabled-bg-color);\n",
              "    fill: var(--disabled-fill-color);\n",
              "    box-shadow: none;\n",
              "  }\n",
              "\n",
              "  .colab-df-spinner {\n",
              "    border: 2px solid var(--fill-color);\n",
              "    border-color: transparent;\n",
              "    border-bottom-color: var(--fill-color);\n",
              "    animation:\n",
              "      spin 1s steps(1) infinite;\n",
              "  }\n",
              "\n",
              "  @keyframes spin {\n",
              "    0% {\n",
              "      border-color: transparent;\n",
              "      border-bottom-color: var(--fill-color);\n",
              "      border-left-color: var(--fill-color);\n",
              "    }\n",
              "    20% {\n",
              "      border-color: transparent;\n",
              "      border-left-color: var(--fill-color);\n",
              "      border-top-color: var(--fill-color);\n",
              "    }\n",
              "    30% {\n",
              "      border-color: transparent;\n",
              "      border-left-color: var(--fill-color);\n",
              "      border-top-color: var(--fill-color);\n",
              "      border-right-color: var(--fill-color);\n",
              "    }\n",
              "    40% {\n",
              "      border-color: transparent;\n",
              "      border-right-color: var(--fill-color);\n",
              "      border-top-color: var(--fill-color);\n",
              "    }\n",
              "    60% {\n",
              "      border-color: transparent;\n",
              "      border-right-color: var(--fill-color);\n",
              "    }\n",
              "    80% {\n",
              "      border-color: transparent;\n",
              "      border-right-color: var(--fill-color);\n",
              "      border-bottom-color: var(--fill-color);\n",
              "    }\n",
              "    90% {\n",
              "      border-color: transparent;\n",
              "      border-bottom-color: var(--fill-color);\n",
              "    }\n",
              "  }\n",
              "</style>\n",
              "\n",
              "  <script>\n",
              "    async function quickchart(key) {\n",
              "      const quickchartButtonEl =\n",
              "        document.querySelector('#' + key + ' button');\n",
              "      quickchartButtonEl.disabled = true;  // To prevent multiple clicks.\n",
              "      quickchartButtonEl.classList.add('colab-df-spinner');\n",
              "      try {\n",
              "        const charts = await google.colab.kernel.invokeFunction(\n",
              "            'suggestCharts', [key], {});\n",
              "      } catch (error) {\n",
              "        console.error('Error during call to suggestCharts:', error);\n",
              "      }\n",
              "      quickchartButtonEl.classList.remove('colab-df-spinner');\n",
              "      quickchartButtonEl.classList.add('colab-df-quickchart-complete');\n",
              "    }\n",
              "    (() => {\n",
              "      let quickchartButtonEl =\n",
              "        document.querySelector('#df-8fc19625-efd7-40f6-9f6e-e3522cd12a3f button');\n",
              "      quickchartButtonEl.style.display =\n",
              "        google.colab.kernel.accessAllowed ? 'block' : 'none';\n",
              "    })();\n",
              "  </script>\n",
              "</div>\n",
              "\n",
              "    </div>\n",
              "  </div>\n"
            ]
          },
          "metadata": {},
          "execution_count": 29
        }
      ]
    },
    {
      "cell_type": "code",
      "source": [
        "temp = train[train['toxic'] == 1]\n",
        "temp.head()"
      ],
      "metadata": {
        "execution": {
          "iopub.status.busy": "2021-10-10T10:28:51.564041Z",
          "iopub.execute_input": "2021-10-10T10:28:51.564441Z",
          "iopub.status.idle": "2021-10-10T10:28:51.595828Z",
          "shell.execute_reply.started": "2021-10-10T10:28:51.564402Z",
          "shell.execute_reply": "2021-10-10T10:28:51.594832Z"
        },
        "trusted": true,
        "colab": {
          "base_uri": "https://localhost:8080/",
          "height": 206
        },
        "id": "HT0V6X2UNOYH",
        "outputId": "9472f87d-25c6-4a1e-b97a-4a629b17a269"
      },
      "execution_count": 30,
      "outputs": [
        {
          "output_type": "execute_result",
          "data": {
            "text/plain": [
              "                  id                                       comment_text  \\\n",
              "6   0002bcb3da6cb337       COCKSUCKER BEFORE YOU PISS AROUND ON MY WORK   \n",
              "12  0005c987bdfc9d4b  Hey... what is it..\\n@ | talk .\\nWhat is it......   \n",
              "16  0007e25b2121310b  Bye! \\n\\nDon't look, come or think of comming ...   \n",
              "42  001810bf8c45bf5f  You are gay or antisemmitian? \\n\\nArchangel WH...   \n",
              "43  00190820581d90ce           FUCK YOUR FILTHY MOTHER IN THE ASS, DRY!   \n",
              "\n",
              "    toxic  severe_toxic  obscene  threat  insult  identity_hate  \n",
              "6       1             1        1       0       1              0  \n",
              "12      1             0        0       0       0              0  \n",
              "16      1             0        0       0       0              0  \n",
              "42      1             0        1       0       1              1  \n",
              "43      1             0        1       0       1              0  "
            ],
            "text/html": [
              "\n",
              "  <div id=\"df-2a9702d9-f0ea-4fac-9719-f46ed1571c14\" class=\"colab-df-container\">\n",
              "    <div>\n",
              "<style scoped>\n",
              "    .dataframe tbody tr th:only-of-type {\n",
              "        vertical-align: middle;\n",
              "    }\n",
              "\n",
              "    .dataframe tbody tr th {\n",
              "        vertical-align: top;\n",
              "    }\n",
              "\n",
              "    .dataframe thead th {\n",
              "        text-align: right;\n",
              "    }\n",
              "</style>\n",
              "<table border=\"1\" class=\"dataframe\">\n",
              "  <thead>\n",
              "    <tr style=\"text-align: right;\">\n",
              "      <th></th>\n",
              "      <th>id</th>\n",
              "      <th>comment_text</th>\n",
              "      <th>toxic</th>\n",
              "      <th>severe_toxic</th>\n",
              "      <th>obscene</th>\n",
              "      <th>threat</th>\n",
              "      <th>insult</th>\n",
              "      <th>identity_hate</th>\n",
              "    </tr>\n",
              "  </thead>\n",
              "  <tbody>\n",
              "    <tr>\n",
              "      <th>6</th>\n",
              "      <td>0002bcb3da6cb337</td>\n",
              "      <td>COCKSUCKER BEFORE YOU PISS AROUND ON MY WORK</td>\n",
              "      <td>1</td>\n",
              "      <td>1</td>\n",
              "      <td>1</td>\n",
              "      <td>0</td>\n",
              "      <td>1</td>\n",
              "      <td>0</td>\n",
              "    </tr>\n",
              "    <tr>\n",
              "      <th>12</th>\n",
              "      <td>0005c987bdfc9d4b</td>\n",
              "      <td>Hey... what is it..\\n@ | talk .\\nWhat is it......</td>\n",
              "      <td>1</td>\n",
              "      <td>0</td>\n",
              "      <td>0</td>\n",
              "      <td>0</td>\n",
              "      <td>0</td>\n",
              "      <td>0</td>\n",
              "    </tr>\n",
              "    <tr>\n",
              "      <th>16</th>\n",
              "      <td>0007e25b2121310b</td>\n",
              "      <td>Bye! \\n\\nDon't look, come or think of comming ...</td>\n",
              "      <td>1</td>\n",
              "      <td>0</td>\n",
              "      <td>0</td>\n",
              "      <td>0</td>\n",
              "      <td>0</td>\n",
              "      <td>0</td>\n",
              "    </tr>\n",
              "    <tr>\n",
              "      <th>42</th>\n",
              "      <td>001810bf8c45bf5f</td>\n",
              "      <td>You are gay or antisemmitian? \\n\\nArchangel WH...</td>\n",
              "      <td>1</td>\n",
              "      <td>0</td>\n",
              "      <td>1</td>\n",
              "      <td>0</td>\n",
              "      <td>1</td>\n",
              "      <td>1</td>\n",
              "    </tr>\n",
              "    <tr>\n",
              "      <th>43</th>\n",
              "      <td>00190820581d90ce</td>\n",
              "      <td>FUCK YOUR FILTHY MOTHER IN THE ASS, DRY!</td>\n",
              "      <td>1</td>\n",
              "      <td>0</td>\n",
              "      <td>1</td>\n",
              "      <td>0</td>\n",
              "      <td>1</td>\n",
              "      <td>0</td>\n",
              "    </tr>\n",
              "  </tbody>\n",
              "</table>\n",
              "</div>\n",
              "    <div class=\"colab-df-buttons\">\n",
              "\n",
              "  <div class=\"colab-df-container\">\n",
              "    <button class=\"colab-df-convert\" onclick=\"convertToInteractive('df-2a9702d9-f0ea-4fac-9719-f46ed1571c14')\"\n",
              "            title=\"Convert this dataframe to an interactive table.\"\n",
              "            style=\"display:none;\">\n",
              "\n",
              "  <svg xmlns=\"http://www.w3.org/2000/svg\" height=\"24px\" viewBox=\"0 -960 960 960\">\n",
              "    <path d=\"M120-120v-720h720v720H120Zm60-500h600v-160H180v160Zm220 220h160v-160H400v160Zm0 220h160v-160H400v160ZM180-400h160v-160H180v160Zm440 0h160v-160H620v160ZM180-180h160v-160H180v160Zm440 0h160v-160H620v160Z\"/>\n",
              "  </svg>\n",
              "    </button>\n",
              "\n",
              "  <style>\n",
              "    .colab-df-container {\n",
              "      display:flex;\n",
              "      gap: 12px;\n",
              "    }\n",
              "\n",
              "    .colab-df-convert {\n",
              "      background-color: #E8F0FE;\n",
              "      border: none;\n",
              "      border-radius: 50%;\n",
              "      cursor: pointer;\n",
              "      display: none;\n",
              "      fill: #1967D2;\n",
              "      height: 32px;\n",
              "      padding: 0 0 0 0;\n",
              "      width: 32px;\n",
              "    }\n",
              "\n",
              "    .colab-df-convert:hover {\n",
              "      background-color: #E2EBFA;\n",
              "      box-shadow: 0px 1px 2px rgba(60, 64, 67, 0.3), 0px 1px 3px 1px rgba(60, 64, 67, 0.15);\n",
              "      fill: #174EA6;\n",
              "    }\n",
              "\n",
              "    .colab-df-buttons div {\n",
              "      margin-bottom: 4px;\n",
              "    }\n",
              "\n",
              "    [theme=dark] .colab-df-convert {\n",
              "      background-color: #3B4455;\n",
              "      fill: #D2E3FC;\n",
              "    }\n",
              "\n",
              "    [theme=dark] .colab-df-convert:hover {\n",
              "      background-color: #434B5C;\n",
              "      box-shadow: 0px 1px 3px 1px rgba(0, 0, 0, 0.15);\n",
              "      filter: drop-shadow(0px 1px 2px rgba(0, 0, 0, 0.3));\n",
              "      fill: #FFFFFF;\n",
              "    }\n",
              "  </style>\n",
              "\n",
              "    <script>\n",
              "      const buttonEl =\n",
              "        document.querySelector('#df-2a9702d9-f0ea-4fac-9719-f46ed1571c14 button.colab-df-convert');\n",
              "      buttonEl.style.display =\n",
              "        google.colab.kernel.accessAllowed ? 'block' : 'none';\n",
              "\n",
              "      async function convertToInteractive(key) {\n",
              "        const element = document.querySelector('#df-2a9702d9-f0ea-4fac-9719-f46ed1571c14');\n",
              "        const dataTable =\n",
              "          await google.colab.kernel.invokeFunction('convertToInteractive',\n",
              "                                                    [key], {});\n",
              "        if (!dataTable) return;\n",
              "\n",
              "        const docLinkHtml = 'Like what you see? Visit the ' +\n",
              "          '<a target=\"_blank\" href=https://colab.research.google.com/notebooks/data_table.ipynb>data table notebook</a>'\n",
              "          + ' to learn more about interactive tables.';\n",
              "        element.innerHTML = '';\n",
              "        dataTable['output_type'] = 'display_data';\n",
              "        await google.colab.output.renderOutput(dataTable, element);\n",
              "        const docLink = document.createElement('div');\n",
              "        docLink.innerHTML = docLinkHtml;\n",
              "        element.appendChild(docLink);\n",
              "      }\n",
              "    </script>\n",
              "  </div>\n",
              "\n",
              "\n",
              "<div id=\"df-a940f39b-cf8f-4885-b400-c1d79e0595cf\">\n",
              "  <button class=\"colab-df-quickchart\" onclick=\"quickchart('df-a940f39b-cf8f-4885-b400-c1d79e0595cf')\"\n",
              "            title=\"Suggest charts\"\n",
              "            style=\"display:none;\">\n",
              "\n",
              "<svg xmlns=\"http://www.w3.org/2000/svg\" height=\"24px\"viewBox=\"0 0 24 24\"\n",
              "     width=\"24px\">\n",
              "    <g>\n",
              "        <path d=\"M19 3H5c-1.1 0-2 .9-2 2v14c0 1.1.9 2 2 2h14c1.1 0 2-.9 2-2V5c0-1.1-.9-2-2-2zM9 17H7v-7h2v7zm4 0h-2V7h2v10zm4 0h-2v-4h2v4z\"/>\n",
              "    </g>\n",
              "</svg>\n",
              "  </button>\n",
              "\n",
              "<style>\n",
              "  .colab-df-quickchart {\n",
              "      --bg-color: #E8F0FE;\n",
              "      --fill-color: #1967D2;\n",
              "      --hover-bg-color: #E2EBFA;\n",
              "      --hover-fill-color: #174EA6;\n",
              "      --disabled-fill-color: #AAA;\n",
              "      --disabled-bg-color: #DDD;\n",
              "  }\n",
              "\n",
              "  [theme=dark] .colab-df-quickchart {\n",
              "      --bg-color: #3B4455;\n",
              "      --fill-color: #D2E3FC;\n",
              "      --hover-bg-color: #434B5C;\n",
              "      --hover-fill-color: #FFFFFF;\n",
              "      --disabled-bg-color: #3B4455;\n",
              "      --disabled-fill-color: #666;\n",
              "  }\n",
              "\n",
              "  .colab-df-quickchart {\n",
              "    background-color: var(--bg-color);\n",
              "    border: none;\n",
              "    border-radius: 50%;\n",
              "    cursor: pointer;\n",
              "    display: none;\n",
              "    fill: var(--fill-color);\n",
              "    height: 32px;\n",
              "    padding: 0;\n",
              "    width: 32px;\n",
              "  }\n",
              "\n",
              "  .colab-df-quickchart:hover {\n",
              "    background-color: var(--hover-bg-color);\n",
              "    box-shadow: 0 1px 2px rgba(60, 64, 67, 0.3), 0 1px 3px 1px rgba(60, 64, 67, 0.15);\n",
              "    fill: var(--button-hover-fill-color);\n",
              "  }\n",
              "\n",
              "  .colab-df-quickchart-complete:disabled,\n",
              "  .colab-df-quickchart-complete:disabled:hover {\n",
              "    background-color: var(--disabled-bg-color);\n",
              "    fill: var(--disabled-fill-color);\n",
              "    box-shadow: none;\n",
              "  }\n",
              "\n",
              "  .colab-df-spinner {\n",
              "    border: 2px solid var(--fill-color);\n",
              "    border-color: transparent;\n",
              "    border-bottom-color: var(--fill-color);\n",
              "    animation:\n",
              "      spin 1s steps(1) infinite;\n",
              "  }\n",
              "\n",
              "  @keyframes spin {\n",
              "    0% {\n",
              "      border-color: transparent;\n",
              "      border-bottom-color: var(--fill-color);\n",
              "      border-left-color: var(--fill-color);\n",
              "    }\n",
              "    20% {\n",
              "      border-color: transparent;\n",
              "      border-left-color: var(--fill-color);\n",
              "      border-top-color: var(--fill-color);\n",
              "    }\n",
              "    30% {\n",
              "      border-color: transparent;\n",
              "      border-left-color: var(--fill-color);\n",
              "      border-top-color: var(--fill-color);\n",
              "      border-right-color: var(--fill-color);\n",
              "    }\n",
              "    40% {\n",
              "      border-color: transparent;\n",
              "      border-right-color: var(--fill-color);\n",
              "      border-top-color: var(--fill-color);\n",
              "    }\n",
              "    60% {\n",
              "      border-color: transparent;\n",
              "      border-right-color: var(--fill-color);\n",
              "    }\n",
              "    80% {\n",
              "      border-color: transparent;\n",
              "      border-right-color: var(--fill-color);\n",
              "      border-bottom-color: var(--fill-color);\n",
              "    }\n",
              "    90% {\n",
              "      border-color: transparent;\n",
              "      border-bottom-color: var(--fill-color);\n",
              "    }\n",
              "  }\n",
              "</style>\n",
              "\n",
              "  <script>\n",
              "    async function quickchart(key) {\n",
              "      const quickchartButtonEl =\n",
              "        document.querySelector('#' + key + ' button');\n",
              "      quickchartButtonEl.disabled = true;  // To prevent multiple clicks.\n",
              "      quickchartButtonEl.classList.add('colab-df-spinner');\n",
              "      try {\n",
              "        const charts = await google.colab.kernel.invokeFunction(\n",
              "            'suggestCharts', [key], {});\n",
              "      } catch (error) {\n",
              "        console.error('Error during call to suggestCharts:', error);\n",
              "      }\n",
              "      quickchartButtonEl.classList.remove('colab-df-spinner');\n",
              "      quickchartButtonEl.classList.add('colab-df-quickchart-complete');\n",
              "    }\n",
              "    (() => {\n",
              "      let quickchartButtonEl =\n",
              "        document.querySelector('#df-a940f39b-cf8f-4885-b400-c1d79e0595cf button');\n",
              "      quickchartButtonEl.style.display =\n",
              "        google.colab.kernel.accessAllowed ? 'block' : 'none';\n",
              "    })();\n",
              "  </script>\n",
              "</div>\n",
              "\n",
              "    </div>\n",
              "  </div>\n"
            ]
          },
          "metadata": {},
          "execution_count": 30
        }
      ]
    },
    {
      "cell_type": "code",
      "source": [
        "print(len(train['comment_text'][10]), 'Total Characters')\n",
        "train['comment_text'][10]"
      ],
      "metadata": {
        "execution": {
          "iopub.status.busy": "2021-10-10T10:28:51.597429Z",
          "iopub.execute_input": "2021-10-10T10:28:51.598133Z",
          "iopub.status.idle": "2021-10-10T10:28:51.609669Z",
          "shell.execute_reply.started": "2021-10-10T10:28:51.598092Z",
          "shell.execute_reply": "2021-10-10T10:28:51.608118Z"
        },
        "trusted": true,
        "colab": {
          "base_uri": "https://localhost:8080/",
          "height": 122
        },
        "id": "b6o5Q-VkNOYH",
        "outputId": "ea8acdf1-5b58-466a-8944-995f120cf23c"
      },
      "execution_count": 31,
      "outputs": [
        {
          "output_type": "stream",
          "name": "stdout",
          "text": [
            "2875 Total Characters\n"
          ]
        },
        {
          "output_type": "execute_result",
          "data": {
            "text/plain": [
              "'\"\\nFair use rationale for Image:Wonju.jpg\\n\\nThanks for uploading Image:Wonju.jpg. I notice the image page specifies that the image is being used under fair use but there is no explanation or rationale as to why its use in Wikipedia articles constitutes fair use. In addition to the boilerplate fair use template, you must also write out on the image description page a specific explanation or rationale for why using this image in each article is consistent with fair use.\\n\\nPlease go to the image description page and edit it to include a fair use rationale.\\n\\nIf you have uploaded other fair use media, consider checking that you have specified the fair use rationale on those pages too. You can find a list of \\'image\\' pages you have edited by clicking on the \"\"my contributions\"\" link (it is located at the very top of any Wikipedia page when you are logged in), and then selecting \"\"Image\"\" from the dropdown box. Note that any fair use images uploaded after 4 May, 2006, and lacking such an explanation will be deleted one week after they have been uploaded, as described on criteria for speedy deletion. If you have any questions please ask them at the Media copyright questions page. Thank you. (talk • contribs • ) \\nUnspecified source for Image:Wonju.jpg\\n\\nThanks for uploading Image:Wonju.jpg. I noticed that the file\\'s description page currently doesn\\'t specify who created the content, so the copyright status is unclear. If you did not create this file yourself, then you will need to specify the owner of the copyright. If you obtained it from a website, then a link to the website from which it was taken, together with a restatement of that website\\'s terms of use of its content, is usually sufficient information. However, if the copyright holder is different from the website\\'s publisher, then their copyright should also be acknowledged.\\n\\nAs well as adding the source, please add a proper copyright licensing tag if the file doesn\\'t have one already. If you created/took the picture, audio, or video then the  tag can be used to release it under the GFDL. If you believe the media meets the criteria at Wikipedia:Fair use, use a tag such as  or one of the other tags listed at Wikipedia:Image copyright tags#Fair use. See Wikipedia:Image copyright tags for the full list of copyright tags that you can use.\\n\\nIf you have uploaded other files, consider checking that you have specified their source and tagged them, too. You can find a list of files you have uploaded by following [ this link]. Unsourced and untagged images may be deleted one week after they have been tagged, as described on criteria for speedy deletion. If the image is copyrighted under a non-free license (per Wikipedia:Fair use) then the image will be deleted 48 hours after . If you have any questions please ask them at the Media copyright questions page. Thank you. (talk • contribs • ) \"'"
            ],
            "application/vnd.google.colaboratory.intrinsic+json": {
              "type": "string"
            }
          },
          "metadata": {},
          "execution_count": 31
        }
      ]
    },
    {
      "cell_type": "markdown",
      "source": [
        "A comment can be toxic, severe_toxic, obscene and insult at the same time. So the class for each comment is not limited to one.\n",
        "<br>Now let's check the values for each column in train dataset."
      ],
      "metadata": {
        "id": "FzI_4-d0NOYH"
      }
    },
    {
      "cell_type": "code",
      "source": [
        "labels = train.drop(['id', 'comment_text'], axis = 1)\n",
        "unique_values = lambda x: train[x].unique()\n",
        "[unique_values(col) for col in labels.columns.tolist()]"
      ],
      "metadata": {
        "execution": {
          "iopub.status.busy": "2021-10-10T10:28:51.611528Z",
          "iopub.execute_input": "2021-10-10T10:28:51.612016Z",
          "iopub.status.idle": "2021-10-10T10:28:51.625648Z",
          "shell.execute_reply.started": "2021-10-10T10:28:51.611975Z",
          "shell.execute_reply": "2021-10-10T10:28:51.624038Z"
        },
        "trusted": true,
        "colab": {
          "base_uri": "https://localhost:8080/"
        },
        "id": "UWjwjuvfNOYI",
        "outputId": "0c4bcb81-cb5d-4df7-f8fe-c8476fbee636"
      },
      "execution_count": 32,
      "outputs": [
        {
          "output_type": "execute_result",
          "data": {
            "text/plain": [
              "[array([0, 1]),\n",
              " array([0, 1]),\n",
              " array([0, 1]),\n",
              " array([0, 1]),\n",
              " array([0, 1]),\n",
              " array([0, 1])]"
            ]
          },
          "metadata": {},
          "execution_count": 32
        }
      ]
    },
    {
      "cell_type": "code",
      "source": [
        "test = pd.read_csv('./toxic-comment-classification-dataset/test.csv.zip', nrows = 100)\n",
        "test.head()"
      ],
      "metadata": {
        "execution": {
          "iopub.status.busy": "2021-10-10T10:28:51.627794Z",
          "iopub.execute_input": "2021-10-10T10:28:51.628607Z",
          "iopub.status.idle": "2021-10-10T10:28:51.702187Z",
          "shell.execute_reply.started": "2021-10-10T10:28:51.628548Z",
          "shell.execute_reply": "2021-10-10T10:28:51.700706Z"
        },
        "trusted": true,
        "colab": {
          "base_uri": "https://localhost:8080/",
          "height": 206
        },
        "id": "-RPJ_pvINOYI",
        "outputId": "db3f8c72-1261-4969-87cf-a2fecbb12e82"
      },
      "execution_count": 33,
      "outputs": [
        {
          "output_type": "execute_result",
          "data": {
            "text/plain": [
              "                 id                                       comment_text\n",
              "0  00001cee341fdb12  Yo bitch Ja Rule is more succesful then you'll...\n",
              "1  0000247867823ef7  == From RfC == \\n\\n The title is fine as it is...\n",
              "2  00013b17ad220c46  \" \\n\\n == Sources == \\n\\n * Zawe Ashton on Lap...\n",
              "3  00017563c3f7919a  :If you have a look back at the source, the in...\n",
              "4  00017695ad8997eb          I don't anonymously edit articles at all."
            ],
            "text/html": [
              "\n",
              "  <div id=\"df-1b1a0f46-9cc8-4665-ad61-1a4489b45730\" class=\"colab-df-container\">\n",
              "    <div>\n",
              "<style scoped>\n",
              "    .dataframe tbody tr th:only-of-type {\n",
              "        vertical-align: middle;\n",
              "    }\n",
              "\n",
              "    .dataframe tbody tr th {\n",
              "        vertical-align: top;\n",
              "    }\n",
              "\n",
              "    .dataframe thead th {\n",
              "        text-align: right;\n",
              "    }\n",
              "</style>\n",
              "<table border=\"1\" class=\"dataframe\">\n",
              "  <thead>\n",
              "    <tr style=\"text-align: right;\">\n",
              "      <th></th>\n",
              "      <th>id</th>\n",
              "      <th>comment_text</th>\n",
              "    </tr>\n",
              "  </thead>\n",
              "  <tbody>\n",
              "    <tr>\n",
              "      <th>0</th>\n",
              "      <td>00001cee341fdb12</td>\n",
              "      <td>Yo bitch Ja Rule is more succesful then you'll...</td>\n",
              "    </tr>\n",
              "    <tr>\n",
              "      <th>1</th>\n",
              "      <td>0000247867823ef7</td>\n",
              "      <td>== From RfC == \\n\\n The title is fine as it is...</td>\n",
              "    </tr>\n",
              "    <tr>\n",
              "      <th>2</th>\n",
              "      <td>00013b17ad220c46</td>\n",
              "      <td>\" \\n\\n == Sources == \\n\\n * Zawe Ashton on Lap...</td>\n",
              "    </tr>\n",
              "    <tr>\n",
              "      <th>3</th>\n",
              "      <td>00017563c3f7919a</td>\n",
              "      <td>:If you have a look back at the source, the in...</td>\n",
              "    </tr>\n",
              "    <tr>\n",
              "      <th>4</th>\n",
              "      <td>00017695ad8997eb</td>\n",
              "      <td>I don't anonymously edit articles at all.</td>\n",
              "    </tr>\n",
              "  </tbody>\n",
              "</table>\n",
              "</div>\n",
              "    <div class=\"colab-df-buttons\">\n",
              "\n",
              "  <div class=\"colab-df-container\">\n",
              "    <button class=\"colab-df-convert\" onclick=\"convertToInteractive('df-1b1a0f46-9cc8-4665-ad61-1a4489b45730')\"\n",
              "            title=\"Convert this dataframe to an interactive table.\"\n",
              "            style=\"display:none;\">\n",
              "\n",
              "  <svg xmlns=\"http://www.w3.org/2000/svg\" height=\"24px\" viewBox=\"0 -960 960 960\">\n",
              "    <path d=\"M120-120v-720h720v720H120Zm60-500h600v-160H180v160Zm220 220h160v-160H400v160Zm0 220h160v-160H400v160ZM180-400h160v-160H180v160Zm440 0h160v-160H620v160ZM180-180h160v-160H180v160Zm440 0h160v-160H620v160Z\"/>\n",
              "  </svg>\n",
              "    </button>\n",
              "\n",
              "  <style>\n",
              "    .colab-df-container {\n",
              "      display:flex;\n",
              "      gap: 12px;\n",
              "    }\n",
              "\n",
              "    .colab-df-convert {\n",
              "      background-color: #E8F0FE;\n",
              "      border: none;\n",
              "      border-radius: 50%;\n",
              "      cursor: pointer;\n",
              "      display: none;\n",
              "      fill: #1967D2;\n",
              "      height: 32px;\n",
              "      padding: 0 0 0 0;\n",
              "      width: 32px;\n",
              "    }\n",
              "\n",
              "    .colab-df-convert:hover {\n",
              "      background-color: #E2EBFA;\n",
              "      box-shadow: 0px 1px 2px rgba(60, 64, 67, 0.3), 0px 1px 3px 1px rgba(60, 64, 67, 0.15);\n",
              "      fill: #174EA6;\n",
              "    }\n",
              "\n",
              "    .colab-df-buttons div {\n",
              "      margin-bottom: 4px;\n",
              "    }\n",
              "\n",
              "    [theme=dark] .colab-df-convert {\n",
              "      background-color: #3B4455;\n",
              "      fill: #D2E3FC;\n",
              "    }\n",
              "\n",
              "    [theme=dark] .colab-df-convert:hover {\n",
              "      background-color: #434B5C;\n",
              "      box-shadow: 0px 1px 3px 1px rgba(0, 0, 0, 0.15);\n",
              "      filter: drop-shadow(0px 1px 2px rgba(0, 0, 0, 0.3));\n",
              "      fill: #FFFFFF;\n",
              "    }\n",
              "  </style>\n",
              "\n",
              "    <script>\n",
              "      const buttonEl =\n",
              "        document.querySelector('#df-1b1a0f46-9cc8-4665-ad61-1a4489b45730 button.colab-df-convert');\n",
              "      buttonEl.style.display =\n",
              "        google.colab.kernel.accessAllowed ? 'block' : 'none';\n",
              "\n",
              "      async function convertToInteractive(key) {\n",
              "        const element = document.querySelector('#df-1b1a0f46-9cc8-4665-ad61-1a4489b45730');\n",
              "        const dataTable =\n",
              "          await google.colab.kernel.invokeFunction('convertToInteractive',\n",
              "                                                    [key], {});\n",
              "        if (!dataTable) return;\n",
              "\n",
              "        const docLinkHtml = 'Like what you see? Visit the ' +\n",
              "          '<a target=\"_blank\" href=https://colab.research.google.com/notebooks/data_table.ipynb>data table notebook</a>'\n",
              "          + ' to learn more about interactive tables.';\n",
              "        element.innerHTML = '';\n",
              "        dataTable['output_type'] = 'display_data';\n",
              "        await google.colab.output.renderOutput(dataTable, element);\n",
              "        const docLink = document.createElement('div');\n",
              "        docLink.innerHTML = docLinkHtml;\n",
              "        element.appendChild(docLink);\n",
              "      }\n",
              "    </script>\n",
              "  </div>\n",
              "\n",
              "\n",
              "<div id=\"df-066894fe-76dd-4eaa-93b4-02ac7e62ce6c\">\n",
              "  <button class=\"colab-df-quickchart\" onclick=\"quickchart('df-066894fe-76dd-4eaa-93b4-02ac7e62ce6c')\"\n",
              "            title=\"Suggest charts\"\n",
              "            style=\"display:none;\">\n",
              "\n",
              "<svg xmlns=\"http://www.w3.org/2000/svg\" height=\"24px\"viewBox=\"0 0 24 24\"\n",
              "     width=\"24px\">\n",
              "    <g>\n",
              "        <path d=\"M19 3H5c-1.1 0-2 .9-2 2v14c0 1.1.9 2 2 2h14c1.1 0 2-.9 2-2V5c0-1.1-.9-2-2-2zM9 17H7v-7h2v7zm4 0h-2V7h2v10zm4 0h-2v-4h2v4z\"/>\n",
              "    </g>\n",
              "</svg>\n",
              "  </button>\n",
              "\n",
              "<style>\n",
              "  .colab-df-quickchart {\n",
              "      --bg-color: #E8F0FE;\n",
              "      --fill-color: #1967D2;\n",
              "      --hover-bg-color: #E2EBFA;\n",
              "      --hover-fill-color: #174EA6;\n",
              "      --disabled-fill-color: #AAA;\n",
              "      --disabled-bg-color: #DDD;\n",
              "  }\n",
              "\n",
              "  [theme=dark] .colab-df-quickchart {\n",
              "      --bg-color: #3B4455;\n",
              "      --fill-color: #D2E3FC;\n",
              "      --hover-bg-color: #434B5C;\n",
              "      --hover-fill-color: #FFFFFF;\n",
              "      --disabled-bg-color: #3B4455;\n",
              "      --disabled-fill-color: #666;\n",
              "  }\n",
              "\n",
              "  .colab-df-quickchart {\n",
              "    background-color: var(--bg-color);\n",
              "    border: none;\n",
              "    border-radius: 50%;\n",
              "    cursor: pointer;\n",
              "    display: none;\n",
              "    fill: var(--fill-color);\n",
              "    height: 32px;\n",
              "    padding: 0;\n",
              "    width: 32px;\n",
              "  }\n",
              "\n",
              "  .colab-df-quickchart:hover {\n",
              "    background-color: var(--hover-bg-color);\n",
              "    box-shadow: 0 1px 2px rgba(60, 64, 67, 0.3), 0 1px 3px 1px rgba(60, 64, 67, 0.15);\n",
              "    fill: var(--button-hover-fill-color);\n",
              "  }\n",
              "\n",
              "  .colab-df-quickchart-complete:disabled,\n",
              "  .colab-df-quickchart-complete:disabled:hover {\n",
              "    background-color: var(--disabled-bg-color);\n",
              "    fill: var(--disabled-fill-color);\n",
              "    box-shadow: none;\n",
              "  }\n",
              "\n",
              "  .colab-df-spinner {\n",
              "    border: 2px solid var(--fill-color);\n",
              "    border-color: transparent;\n",
              "    border-bottom-color: var(--fill-color);\n",
              "    animation:\n",
              "      spin 1s steps(1) infinite;\n",
              "  }\n",
              "\n",
              "  @keyframes spin {\n",
              "    0% {\n",
              "      border-color: transparent;\n",
              "      border-bottom-color: var(--fill-color);\n",
              "      border-left-color: var(--fill-color);\n",
              "    }\n",
              "    20% {\n",
              "      border-color: transparent;\n",
              "      border-left-color: var(--fill-color);\n",
              "      border-top-color: var(--fill-color);\n",
              "    }\n",
              "    30% {\n",
              "      border-color: transparent;\n",
              "      border-left-color: var(--fill-color);\n",
              "      border-top-color: var(--fill-color);\n",
              "      border-right-color: var(--fill-color);\n",
              "    }\n",
              "    40% {\n",
              "      border-color: transparent;\n",
              "      border-right-color: var(--fill-color);\n",
              "      border-top-color: var(--fill-color);\n",
              "    }\n",
              "    60% {\n",
              "      border-color: transparent;\n",
              "      border-right-color: var(--fill-color);\n",
              "    }\n",
              "    80% {\n",
              "      border-color: transparent;\n",
              "      border-right-color: var(--fill-color);\n",
              "      border-bottom-color: var(--fill-color);\n",
              "    }\n",
              "    90% {\n",
              "      border-color: transparent;\n",
              "      border-bottom-color: var(--fill-color);\n",
              "    }\n",
              "  }\n",
              "</style>\n",
              "\n",
              "  <script>\n",
              "    async function quickchart(key) {\n",
              "      const quickchartButtonEl =\n",
              "        document.querySelector('#' + key + ' button');\n",
              "      quickchartButtonEl.disabled = true;  // To prevent multiple clicks.\n",
              "      quickchartButtonEl.classList.add('colab-df-spinner');\n",
              "      try {\n",
              "        const charts = await google.colab.kernel.invokeFunction(\n",
              "            'suggestCharts', [key], {});\n",
              "      } catch (error) {\n",
              "        console.error('Error during call to suggestCharts:', error);\n",
              "      }\n",
              "      quickchartButtonEl.classList.remove('colab-df-spinner');\n",
              "      quickchartButtonEl.classList.add('colab-df-quickchart-complete');\n",
              "    }\n",
              "    (() => {\n",
              "      let quickchartButtonEl =\n",
              "        document.querySelector('#df-066894fe-76dd-4eaa-93b4-02ac7e62ce6c button');\n",
              "      quickchartButtonEl.style.display =\n",
              "        google.colab.kernel.accessAllowed ? 'block' : 'none';\n",
              "    })();\n",
              "  </script>\n",
              "</div>\n",
              "\n",
              "    </div>\n",
              "  </div>\n"
            ]
          },
          "metadata": {},
          "execution_count": 33
        }
      ]
    },
    {
      "cell_type": "code",
      "source": [
        "test_labels = pd.read_csv('./toxic-comment-classification-dataset/test_labels.csv.zip', nrows = 10)\n",
        "test_labels.head()"
      ],
      "metadata": {
        "execution": {
          "iopub.status.busy": "2021-10-10T10:28:51.703900Z",
          "iopub.execute_input": "2021-10-10T10:28:51.704366Z",
          "iopub.status.idle": "2021-10-10T10:28:51.775534Z",
          "shell.execute_reply.started": "2021-10-10T10:28:51.704325Z",
          "shell.execute_reply": "2021-10-10T10:28:51.773926Z"
        },
        "trusted": true,
        "colab": {
          "base_uri": "https://localhost:8080/",
          "height": 206
        },
        "id": "doEd4AwENOYI",
        "outputId": "f631fa9e-d293-4ba4-9901-6484a03785a3"
      },
      "execution_count": 34,
      "outputs": [
        {
          "output_type": "execute_result",
          "data": {
            "text/plain": [
              "                 id  toxic  severe_toxic  obscene  threat  insult  \\\n",
              "0  00001cee341fdb12     -1            -1       -1      -1      -1   \n",
              "1  0000247867823ef7     -1            -1       -1      -1      -1   \n",
              "2  00013b17ad220c46     -1            -1       -1      -1      -1   \n",
              "3  00017563c3f7919a     -1            -1       -1      -1      -1   \n",
              "4  00017695ad8997eb     -1            -1       -1      -1      -1   \n",
              "\n",
              "   identity_hate  \n",
              "0             -1  \n",
              "1             -1  \n",
              "2             -1  \n",
              "3             -1  \n",
              "4             -1  "
            ],
            "text/html": [
              "\n",
              "  <div id=\"df-65fa6b17-7bd0-44b9-8152-38717c6ecef7\" class=\"colab-df-container\">\n",
              "    <div>\n",
              "<style scoped>\n",
              "    .dataframe tbody tr th:only-of-type {\n",
              "        vertical-align: middle;\n",
              "    }\n",
              "\n",
              "    .dataframe tbody tr th {\n",
              "        vertical-align: top;\n",
              "    }\n",
              "\n",
              "    .dataframe thead th {\n",
              "        text-align: right;\n",
              "    }\n",
              "</style>\n",
              "<table border=\"1\" class=\"dataframe\">\n",
              "  <thead>\n",
              "    <tr style=\"text-align: right;\">\n",
              "      <th></th>\n",
              "      <th>id</th>\n",
              "      <th>toxic</th>\n",
              "      <th>severe_toxic</th>\n",
              "      <th>obscene</th>\n",
              "      <th>threat</th>\n",
              "      <th>insult</th>\n",
              "      <th>identity_hate</th>\n",
              "    </tr>\n",
              "  </thead>\n",
              "  <tbody>\n",
              "    <tr>\n",
              "      <th>0</th>\n",
              "      <td>00001cee341fdb12</td>\n",
              "      <td>-1</td>\n",
              "      <td>-1</td>\n",
              "      <td>-1</td>\n",
              "      <td>-1</td>\n",
              "      <td>-1</td>\n",
              "      <td>-1</td>\n",
              "    </tr>\n",
              "    <tr>\n",
              "      <th>1</th>\n",
              "      <td>0000247867823ef7</td>\n",
              "      <td>-1</td>\n",
              "      <td>-1</td>\n",
              "      <td>-1</td>\n",
              "      <td>-1</td>\n",
              "      <td>-1</td>\n",
              "      <td>-1</td>\n",
              "    </tr>\n",
              "    <tr>\n",
              "      <th>2</th>\n",
              "      <td>00013b17ad220c46</td>\n",
              "      <td>-1</td>\n",
              "      <td>-1</td>\n",
              "      <td>-1</td>\n",
              "      <td>-1</td>\n",
              "      <td>-1</td>\n",
              "      <td>-1</td>\n",
              "    </tr>\n",
              "    <tr>\n",
              "      <th>3</th>\n",
              "      <td>00017563c3f7919a</td>\n",
              "      <td>-1</td>\n",
              "      <td>-1</td>\n",
              "      <td>-1</td>\n",
              "      <td>-1</td>\n",
              "      <td>-1</td>\n",
              "      <td>-1</td>\n",
              "    </tr>\n",
              "    <tr>\n",
              "      <th>4</th>\n",
              "      <td>00017695ad8997eb</td>\n",
              "      <td>-1</td>\n",
              "      <td>-1</td>\n",
              "      <td>-1</td>\n",
              "      <td>-1</td>\n",
              "      <td>-1</td>\n",
              "      <td>-1</td>\n",
              "    </tr>\n",
              "  </tbody>\n",
              "</table>\n",
              "</div>\n",
              "    <div class=\"colab-df-buttons\">\n",
              "\n",
              "  <div class=\"colab-df-container\">\n",
              "    <button class=\"colab-df-convert\" onclick=\"convertToInteractive('df-65fa6b17-7bd0-44b9-8152-38717c6ecef7')\"\n",
              "            title=\"Convert this dataframe to an interactive table.\"\n",
              "            style=\"display:none;\">\n",
              "\n",
              "  <svg xmlns=\"http://www.w3.org/2000/svg\" height=\"24px\" viewBox=\"0 -960 960 960\">\n",
              "    <path d=\"M120-120v-720h720v720H120Zm60-500h600v-160H180v160Zm220 220h160v-160H400v160Zm0 220h160v-160H400v160ZM180-400h160v-160H180v160Zm440 0h160v-160H620v160ZM180-180h160v-160H180v160Zm440 0h160v-160H620v160Z\"/>\n",
              "  </svg>\n",
              "    </button>\n",
              "\n",
              "  <style>\n",
              "    .colab-df-container {\n",
              "      display:flex;\n",
              "      gap: 12px;\n",
              "    }\n",
              "\n",
              "    .colab-df-convert {\n",
              "      background-color: #E8F0FE;\n",
              "      border: none;\n",
              "      border-radius: 50%;\n",
              "      cursor: pointer;\n",
              "      display: none;\n",
              "      fill: #1967D2;\n",
              "      height: 32px;\n",
              "      padding: 0 0 0 0;\n",
              "      width: 32px;\n",
              "    }\n",
              "\n",
              "    .colab-df-convert:hover {\n",
              "      background-color: #E2EBFA;\n",
              "      box-shadow: 0px 1px 2px rgba(60, 64, 67, 0.3), 0px 1px 3px 1px rgba(60, 64, 67, 0.15);\n",
              "      fill: #174EA6;\n",
              "    }\n",
              "\n",
              "    .colab-df-buttons div {\n",
              "      margin-bottom: 4px;\n",
              "    }\n",
              "\n",
              "    [theme=dark] .colab-df-convert {\n",
              "      background-color: #3B4455;\n",
              "      fill: #D2E3FC;\n",
              "    }\n",
              "\n",
              "    [theme=dark] .colab-df-convert:hover {\n",
              "      background-color: #434B5C;\n",
              "      box-shadow: 0px 1px 3px 1px rgba(0, 0, 0, 0.15);\n",
              "      filter: drop-shadow(0px 1px 2px rgba(0, 0, 0, 0.3));\n",
              "      fill: #FFFFFF;\n",
              "    }\n",
              "  </style>\n",
              "\n",
              "    <script>\n",
              "      const buttonEl =\n",
              "        document.querySelector('#df-65fa6b17-7bd0-44b9-8152-38717c6ecef7 button.colab-df-convert');\n",
              "      buttonEl.style.display =\n",
              "        google.colab.kernel.accessAllowed ? 'block' : 'none';\n",
              "\n",
              "      async function convertToInteractive(key) {\n",
              "        const element = document.querySelector('#df-65fa6b17-7bd0-44b9-8152-38717c6ecef7');\n",
              "        const dataTable =\n",
              "          await google.colab.kernel.invokeFunction('convertToInteractive',\n",
              "                                                    [key], {});\n",
              "        if (!dataTable) return;\n",
              "\n",
              "        const docLinkHtml = 'Like what you see? Visit the ' +\n",
              "          '<a target=\"_blank\" href=https://colab.research.google.com/notebooks/data_table.ipynb>data table notebook</a>'\n",
              "          + ' to learn more about interactive tables.';\n",
              "        element.innerHTML = '';\n",
              "        dataTable['output_type'] = 'display_data';\n",
              "        await google.colab.output.renderOutput(dataTable, element);\n",
              "        const docLink = document.createElement('div');\n",
              "        docLink.innerHTML = docLinkHtml;\n",
              "        element.appendChild(docLink);\n",
              "      }\n",
              "    </script>\n",
              "  </div>\n",
              "\n",
              "\n",
              "<div id=\"df-f3f96574-fa05-4923-84f5-0bc8df14710c\">\n",
              "  <button class=\"colab-df-quickchart\" onclick=\"quickchart('df-f3f96574-fa05-4923-84f5-0bc8df14710c')\"\n",
              "            title=\"Suggest charts\"\n",
              "            style=\"display:none;\">\n",
              "\n",
              "<svg xmlns=\"http://www.w3.org/2000/svg\" height=\"24px\"viewBox=\"0 0 24 24\"\n",
              "     width=\"24px\">\n",
              "    <g>\n",
              "        <path d=\"M19 3H5c-1.1 0-2 .9-2 2v14c0 1.1.9 2 2 2h14c1.1 0 2-.9 2-2V5c0-1.1-.9-2-2-2zM9 17H7v-7h2v7zm4 0h-2V7h2v10zm4 0h-2v-4h2v4z\"/>\n",
              "    </g>\n",
              "</svg>\n",
              "  </button>\n",
              "\n",
              "<style>\n",
              "  .colab-df-quickchart {\n",
              "      --bg-color: #E8F0FE;\n",
              "      --fill-color: #1967D2;\n",
              "      --hover-bg-color: #E2EBFA;\n",
              "      --hover-fill-color: #174EA6;\n",
              "      --disabled-fill-color: #AAA;\n",
              "      --disabled-bg-color: #DDD;\n",
              "  }\n",
              "\n",
              "  [theme=dark] .colab-df-quickchart {\n",
              "      --bg-color: #3B4455;\n",
              "      --fill-color: #D2E3FC;\n",
              "      --hover-bg-color: #434B5C;\n",
              "      --hover-fill-color: #FFFFFF;\n",
              "      --disabled-bg-color: #3B4455;\n",
              "      --disabled-fill-color: #666;\n",
              "  }\n",
              "\n",
              "  .colab-df-quickchart {\n",
              "    background-color: var(--bg-color);\n",
              "    border: none;\n",
              "    border-radius: 50%;\n",
              "    cursor: pointer;\n",
              "    display: none;\n",
              "    fill: var(--fill-color);\n",
              "    height: 32px;\n",
              "    padding: 0;\n",
              "    width: 32px;\n",
              "  }\n",
              "\n",
              "  .colab-df-quickchart:hover {\n",
              "    background-color: var(--hover-bg-color);\n",
              "    box-shadow: 0 1px 2px rgba(60, 64, 67, 0.3), 0 1px 3px 1px rgba(60, 64, 67, 0.15);\n",
              "    fill: var(--button-hover-fill-color);\n",
              "  }\n",
              "\n",
              "  .colab-df-quickchart-complete:disabled,\n",
              "  .colab-df-quickchart-complete:disabled:hover {\n",
              "    background-color: var(--disabled-bg-color);\n",
              "    fill: var(--disabled-fill-color);\n",
              "    box-shadow: none;\n",
              "  }\n",
              "\n",
              "  .colab-df-spinner {\n",
              "    border: 2px solid var(--fill-color);\n",
              "    border-color: transparent;\n",
              "    border-bottom-color: var(--fill-color);\n",
              "    animation:\n",
              "      spin 1s steps(1) infinite;\n",
              "  }\n",
              "\n",
              "  @keyframes spin {\n",
              "    0% {\n",
              "      border-color: transparent;\n",
              "      border-bottom-color: var(--fill-color);\n",
              "      border-left-color: var(--fill-color);\n",
              "    }\n",
              "    20% {\n",
              "      border-color: transparent;\n",
              "      border-left-color: var(--fill-color);\n",
              "      border-top-color: var(--fill-color);\n",
              "    }\n",
              "    30% {\n",
              "      border-color: transparent;\n",
              "      border-left-color: var(--fill-color);\n",
              "      border-top-color: var(--fill-color);\n",
              "      border-right-color: var(--fill-color);\n",
              "    }\n",
              "    40% {\n",
              "      border-color: transparent;\n",
              "      border-right-color: var(--fill-color);\n",
              "      border-top-color: var(--fill-color);\n",
              "    }\n",
              "    60% {\n",
              "      border-color: transparent;\n",
              "      border-right-color: var(--fill-color);\n",
              "    }\n",
              "    80% {\n",
              "      border-color: transparent;\n",
              "      border-right-color: var(--fill-color);\n",
              "      border-bottom-color: var(--fill-color);\n",
              "    }\n",
              "    90% {\n",
              "      border-color: transparent;\n",
              "      border-bottom-color: var(--fill-color);\n",
              "    }\n",
              "  }\n",
              "</style>\n",
              "\n",
              "  <script>\n",
              "    async function quickchart(key) {\n",
              "      const quickchartButtonEl =\n",
              "        document.querySelector('#' + key + ' button');\n",
              "      quickchartButtonEl.disabled = true;  // To prevent multiple clicks.\n",
              "      quickchartButtonEl.classList.add('colab-df-spinner');\n",
              "      try {\n",
              "        const charts = await google.colab.kernel.invokeFunction(\n",
              "            'suggestCharts', [key], {});\n",
              "      } catch (error) {\n",
              "        console.error('Error during call to suggestCharts:', error);\n",
              "      }\n",
              "      quickchartButtonEl.classList.remove('colab-df-spinner');\n",
              "      quickchartButtonEl.classList.add('colab-df-quickchart-complete');\n",
              "    }\n",
              "    (() => {\n",
              "      let quickchartButtonEl =\n",
              "        document.querySelector('#df-f3f96574-fa05-4923-84f5-0bc8df14710c button');\n",
              "      quickchartButtonEl.style.display =\n",
              "        google.colab.kernel.accessAllowed ? 'block' : 'none';\n",
              "    })();\n",
              "  </script>\n",
              "</div>\n",
              "\n",
              "    </div>\n",
              "  </div>\n"
            ]
          },
          "metadata": {},
          "execution_count": 34
        }
      ]
    },
    {
      "cell_type": "code",
      "source": [
        "submission = pd.read_csv('./toxic-comment-classification-dataset/sample_submission.csv.zip', nrows = 10)\n",
        "submission.head()"
      ],
      "metadata": {
        "execution": {
          "iopub.status.busy": "2021-10-10T10:28:51.779942Z",
          "iopub.execute_input": "2021-10-10T10:28:51.780244Z",
          "iopub.status.idle": "2021-10-10T10:28:51.856110Z",
          "shell.execute_reply.started": "2021-10-10T10:28:51.780215Z",
          "shell.execute_reply": "2021-10-10T10:28:51.854855Z"
        },
        "trusted": true,
        "colab": {
          "base_uri": "https://localhost:8080/",
          "height": 206
        },
        "id": "gd1yFPKBNOYI",
        "outputId": "168817af-c25d-411e-8cb1-5de5a603110d"
      },
      "execution_count": 35,
      "outputs": [
        {
          "output_type": "execute_result",
          "data": {
            "text/plain": [
              "                 id  toxic  severe_toxic  obscene  threat  insult  \\\n",
              "0  00001cee341fdb12    0.5           0.5      0.5     0.5     0.5   \n",
              "1  0000247867823ef7    0.5           0.5      0.5     0.5     0.5   \n",
              "2  00013b17ad220c46    0.5           0.5      0.5     0.5     0.5   \n",
              "3  00017563c3f7919a    0.5           0.5      0.5     0.5     0.5   \n",
              "4  00017695ad8997eb    0.5           0.5      0.5     0.5     0.5   \n",
              "\n",
              "   identity_hate  \n",
              "0            0.5  \n",
              "1            0.5  \n",
              "2            0.5  \n",
              "3            0.5  \n",
              "4            0.5  "
            ],
            "text/html": [
              "\n",
              "  <div id=\"df-7c358537-fbe6-4fe7-b9dc-2e5de8608cbf\" class=\"colab-df-container\">\n",
              "    <div>\n",
              "<style scoped>\n",
              "    .dataframe tbody tr th:only-of-type {\n",
              "        vertical-align: middle;\n",
              "    }\n",
              "\n",
              "    .dataframe tbody tr th {\n",
              "        vertical-align: top;\n",
              "    }\n",
              "\n",
              "    .dataframe thead th {\n",
              "        text-align: right;\n",
              "    }\n",
              "</style>\n",
              "<table border=\"1\" class=\"dataframe\">\n",
              "  <thead>\n",
              "    <tr style=\"text-align: right;\">\n",
              "      <th></th>\n",
              "      <th>id</th>\n",
              "      <th>toxic</th>\n",
              "      <th>severe_toxic</th>\n",
              "      <th>obscene</th>\n",
              "      <th>threat</th>\n",
              "      <th>insult</th>\n",
              "      <th>identity_hate</th>\n",
              "    </tr>\n",
              "  </thead>\n",
              "  <tbody>\n",
              "    <tr>\n",
              "      <th>0</th>\n",
              "      <td>00001cee341fdb12</td>\n",
              "      <td>0.5</td>\n",
              "      <td>0.5</td>\n",
              "      <td>0.5</td>\n",
              "      <td>0.5</td>\n",
              "      <td>0.5</td>\n",
              "      <td>0.5</td>\n",
              "    </tr>\n",
              "    <tr>\n",
              "      <th>1</th>\n",
              "      <td>0000247867823ef7</td>\n",
              "      <td>0.5</td>\n",
              "      <td>0.5</td>\n",
              "      <td>0.5</td>\n",
              "      <td>0.5</td>\n",
              "      <td>0.5</td>\n",
              "      <td>0.5</td>\n",
              "    </tr>\n",
              "    <tr>\n",
              "      <th>2</th>\n",
              "      <td>00013b17ad220c46</td>\n",
              "      <td>0.5</td>\n",
              "      <td>0.5</td>\n",
              "      <td>0.5</td>\n",
              "      <td>0.5</td>\n",
              "      <td>0.5</td>\n",
              "      <td>0.5</td>\n",
              "    </tr>\n",
              "    <tr>\n",
              "      <th>3</th>\n",
              "      <td>00017563c3f7919a</td>\n",
              "      <td>0.5</td>\n",
              "      <td>0.5</td>\n",
              "      <td>0.5</td>\n",
              "      <td>0.5</td>\n",
              "      <td>0.5</td>\n",
              "      <td>0.5</td>\n",
              "    </tr>\n",
              "    <tr>\n",
              "      <th>4</th>\n",
              "      <td>00017695ad8997eb</td>\n",
              "      <td>0.5</td>\n",
              "      <td>0.5</td>\n",
              "      <td>0.5</td>\n",
              "      <td>0.5</td>\n",
              "      <td>0.5</td>\n",
              "      <td>0.5</td>\n",
              "    </tr>\n",
              "  </tbody>\n",
              "</table>\n",
              "</div>\n",
              "    <div class=\"colab-df-buttons\">\n",
              "\n",
              "  <div class=\"colab-df-container\">\n",
              "    <button class=\"colab-df-convert\" onclick=\"convertToInteractive('df-7c358537-fbe6-4fe7-b9dc-2e5de8608cbf')\"\n",
              "            title=\"Convert this dataframe to an interactive table.\"\n",
              "            style=\"display:none;\">\n",
              "\n",
              "  <svg xmlns=\"http://www.w3.org/2000/svg\" height=\"24px\" viewBox=\"0 -960 960 960\">\n",
              "    <path d=\"M120-120v-720h720v720H120Zm60-500h600v-160H180v160Zm220 220h160v-160H400v160Zm0 220h160v-160H400v160ZM180-400h160v-160H180v160Zm440 0h160v-160H620v160ZM180-180h160v-160H180v160Zm440 0h160v-160H620v160Z\"/>\n",
              "  </svg>\n",
              "    </button>\n",
              "\n",
              "  <style>\n",
              "    .colab-df-container {\n",
              "      display:flex;\n",
              "      gap: 12px;\n",
              "    }\n",
              "\n",
              "    .colab-df-convert {\n",
              "      background-color: #E8F0FE;\n",
              "      border: none;\n",
              "      border-radius: 50%;\n",
              "      cursor: pointer;\n",
              "      display: none;\n",
              "      fill: #1967D2;\n",
              "      height: 32px;\n",
              "      padding: 0 0 0 0;\n",
              "      width: 32px;\n",
              "    }\n",
              "\n",
              "    .colab-df-convert:hover {\n",
              "      background-color: #E2EBFA;\n",
              "      box-shadow: 0px 1px 2px rgba(60, 64, 67, 0.3), 0px 1px 3px 1px rgba(60, 64, 67, 0.15);\n",
              "      fill: #174EA6;\n",
              "    }\n",
              "\n",
              "    .colab-df-buttons div {\n",
              "      margin-bottom: 4px;\n",
              "    }\n",
              "\n",
              "    [theme=dark] .colab-df-convert {\n",
              "      background-color: #3B4455;\n",
              "      fill: #D2E3FC;\n",
              "    }\n",
              "\n",
              "    [theme=dark] .colab-df-convert:hover {\n",
              "      background-color: #434B5C;\n",
              "      box-shadow: 0px 1px 3px 1px rgba(0, 0, 0, 0.15);\n",
              "      filter: drop-shadow(0px 1px 2px rgba(0, 0, 0, 0.3));\n",
              "      fill: #FFFFFF;\n",
              "    }\n",
              "  </style>\n",
              "\n",
              "    <script>\n",
              "      const buttonEl =\n",
              "        document.querySelector('#df-7c358537-fbe6-4fe7-b9dc-2e5de8608cbf button.colab-df-convert');\n",
              "      buttonEl.style.display =\n",
              "        google.colab.kernel.accessAllowed ? 'block' : 'none';\n",
              "\n",
              "      async function convertToInteractive(key) {\n",
              "        const element = document.querySelector('#df-7c358537-fbe6-4fe7-b9dc-2e5de8608cbf');\n",
              "        const dataTable =\n",
              "          await google.colab.kernel.invokeFunction('convertToInteractive',\n",
              "                                                    [key], {});\n",
              "        if (!dataTable) return;\n",
              "\n",
              "        const docLinkHtml = 'Like what you see? Visit the ' +\n",
              "          '<a target=\"_blank\" href=https://colab.research.google.com/notebooks/data_table.ipynb>data table notebook</a>'\n",
              "          + ' to learn more about interactive tables.';\n",
              "        element.innerHTML = '';\n",
              "        dataTable['output_type'] = 'display_data';\n",
              "        await google.colab.output.renderOutput(dataTable, element);\n",
              "        const docLink = document.createElement('div');\n",
              "        docLink.innerHTML = docLinkHtml;\n",
              "        element.appendChild(docLink);\n",
              "      }\n",
              "    </script>\n",
              "  </div>\n",
              "\n",
              "\n",
              "<div id=\"df-95444a0a-9906-4160-bcef-b9dc9a89055a\">\n",
              "  <button class=\"colab-df-quickchart\" onclick=\"quickchart('df-95444a0a-9906-4160-bcef-b9dc9a89055a')\"\n",
              "            title=\"Suggest charts\"\n",
              "            style=\"display:none;\">\n",
              "\n",
              "<svg xmlns=\"http://www.w3.org/2000/svg\" height=\"24px\"viewBox=\"0 0 24 24\"\n",
              "     width=\"24px\">\n",
              "    <g>\n",
              "        <path d=\"M19 3H5c-1.1 0-2 .9-2 2v14c0 1.1.9 2 2 2h14c1.1 0 2-.9 2-2V5c0-1.1-.9-2-2-2zM9 17H7v-7h2v7zm4 0h-2V7h2v10zm4 0h-2v-4h2v4z\"/>\n",
              "    </g>\n",
              "</svg>\n",
              "  </button>\n",
              "\n",
              "<style>\n",
              "  .colab-df-quickchart {\n",
              "      --bg-color: #E8F0FE;\n",
              "      --fill-color: #1967D2;\n",
              "      --hover-bg-color: #E2EBFA;\n",
              "      --hover-fill-color: #174EA6;\n",
              "      --disabled-fill-color: #AAA;\n",
              "      --disabled-bg-color: #DDD;\n",
              "  }\n",
              "\n",
              "  [theme=dark] .colab-df-quickchart {\n",
              "      --bg-color: #3B4455;\n",
              "      --fill-color: #D2E3FC;\n",
              "      --hover-bg-color: #434B5C;\n",
              "      --hover-fill-color: #FFFFFF;\n",
              "      --disabled-bg-color: #3B4455;\n",
              "      --disabled-fill-color: #666;\n",
              "  }\n",
              "\n",
              "  .colab-df-quickchart {\n",
              "    background-color: var(--bg-color);\n",
              "    border: none;\n",
              "    border-radius: 50%;\n",
              "    cursor: pointer;\n",
              "    display: none;\n",
              "    fill: var(--fill-color);\n",
              "    height: 32px;\n",
              "    padding: 0;\n",
              "    width: 32px;\n",
              "  }\n",
              "\n",
              "  .colab-df-quickchart:hover {\n",
              "    background-color: var(--hover-bg-color);\n",
              "    box-shadow: 0 1px 2px rgba(60, 64, 67, 0.3), 0 1px 3px 1px rgba(60, 64, 67, 0.15);\n",
              "    fill: var(--button-hover-fill-color);\n",
              "  }\n",
              "\n",
              "  .colab-df-quickchart-complete:disabled,\n",
              "  .colab-df-quickchart-complete:disabled:hover {\n",
              "    background-color: var(--disabled-bg-color);\n",
              "    fill: var(--disabled-fill-color);\n",
              "    box-shadow: none;\n",
              "  }\n",
              "\n",
              "  .colab-df-spinner {\n",
              "    border: 2px solid var(--fill-color);\n",
              "    border-color: transparent;\n",
              "    border-bottom-color: var(--fill-color);\n",
              "    animation:\n",
              "      spin 1s steps(1) infinite;\n",
              "  }\n",
              "\n",
              "  @keyframes spin {\n",
              "    0% {\n",
              "      border-color: transparent;\n",
              "      border-bottom-color: var(--fill-color);\n",
              "      border-left-color: var(--fill-color);\n",
              "    }\n",
              "    20% {\n",
              "      border-color: transparent;\n",
              "      border-left-color: var(--fill-color);\n",
              "      border-top-color: var(--fill-color);\n",
              "    }\n",
              "    30% {\n",
              "      border-color: transparent;\n",
              "      border-left-color: var(--fill-color);\n",
              "      border-top-color: var(--fill-color);\n",
              "      border-right-color: var(--fill-color);\n",
              "    }\n",
              "    40% {\n",
              "      border-color: transparent;\n",
              "      border-right-color: var(--fill-color);\n",
              "      border-top-color: var(--fill-color);\n",
              "    }\n",
              "    60% {\n",
              "      border-color: transparent;\n",
              "      border-right-color: var(--fill-color);\n",
              "    }\n",
              "    80% {\n",
              "      border-color: transparent;\n",
              "      border-right-color: var(--fill-color);\n",
              "      border-bottom-color: var(--fill-color);\n",
              "    }\n",
              "    90% {\n",
              "      border-color: transparent;\n",
              "      border-bottom-color: var(--fill-color);\n",
              "    }\n",
              "  }\n",
              "</style>\n",
              "\n",
              "  <script>\n",
              "    async function quickchart(key) {\n",
              "      const quickchartButtonEl =\n",
              "        document.querySelector('#' + key + ' button');\n",
              "      quickchartButtonEl.disabled = true;  // To prevent multiple clicks.\n",
              "      quickchartButtonEl.classList.add('colab-df-spinner');\n",
              "      try {\n",
              "        const charts = await google.colab.kernel.invokeFunction(\n",
              "            'suggestCharts', [key], {});\n",
              "      } catch (error) {\n",
              "        console.error('Error during call to suggestCharts:', error);\n",
              "      }\n",
              "      quickchartButtonEl.classList.remove('colab-df-spinner');\n",
              "      quickchartButtonEl.classList.add('colab-df-quickchart-complete');\n",
              "    }\n",
              "    (() => {\n",
              "      let quickchartButtonEl =\n",
              "        document.querySelector('#df-95444a0a-9906-4160-bcef-b9dc9a89055a button');\n",
              "      quickchartButtonEl.style.display =\n",
              "        google.colab.kernel.accessAllowed ? 'block' : 'none';\n",
              "    })();\n",
              "  </script>\n",
              "</div>\n",
              "\n",
              "    </div>\n",
              "  </div>\n"
            ]
          },
          "metadata": {},
          "execution_count": 35
        }
      ]
    },
    {
      "cell_type": "markdown",
      "source": [
        "## 2. Summerize data\n",
        "### a. Descriptive statistics\n",
        "### Missing values"
      ],
      "metadata": {
        "id": "DAb8RKDyNOYI"
      }
    },
    {
      "cell_type": "code",
      "source": [
        "train.isnull().sum()"
      ],
      "metadata": {
        "execution": {
          "iopub.status.busy": "2021-10-10T10:28:51.858990Z",
          "iopub.execute_input": "2021-10-10T10:28:51.859503Z",
          "iopub.status.idle": "2021-10-10T10:28:51.870580Z",
          "shell.execute_reply.started": "2021-10-10T10:28:51.859463Z",
          "shell.execute_reply": "2021-10-10T10:28:51.869078Z"
        },
        "trusted": true,
        "colab": {
          "base_uri": "https://localhost:8080/"
        },
        "id": "O5PJLxYsNOYJ",
        "outputId": "34a114a2-0485-49ad-fbef-5955e63d5b3f"
      },
      "execution_count": 14,
      "outputs": [
        {
          "output_type": "execute_result",
          "data": {
            "text/plain": [
              "id               0\n",
              "comment_text     0\n",
              "toxic            0\n",
              "severe_toxic     0\n",
              "obscene          0\n",
              "threat           0\n",
              "insult           0\n",
              "identity_hate    0\n",
              "dtype: int64"
            ]
          },
          "metadata": {},
          "execution_count": 14
        }
      ]
    },
    {
      "cell_type": "code",
      "source": [
        "test.isnull().sum()"
      ],
      "metadata": {
        "execution": {
          "iopub.status.busy": "2021-10-10T10:28:51.872532Z",
          "iopub.execute_input": "2021-10-10T10:28:51.873146Z",
          "iopub.status.idle": "2021-10-10T10:28:51.885748Z",
          "shell.execute_reply.started": "2021-10-10T10:28:51.873103Z",
          "shell.execute_reply": "2021-10-10T10:28:51.884325Z"
        },
        "trusted": true,
        "colab": {
          "base_uri": "https://localhost:8080/"
        },
        "id": "pIInMAMCNOYJ",
        "outputId": "519c7849-da9d-4897-c8fe-11b17ca19c50"
      },
      "execution_count": 15,
      "outputs": [
        {
          "output_type": "execute_result",
          "data": {
            "text/plain": [
              "id              0\n",
              "comment_text    0\n",
              "dtype: int64"
            ]
          },
          "metadata": {},
          "execution_count": 15
        }
      ]
    },
    {
      "cell_type": "markdown",
      "source": [
        "Great! we have no missing value!\n",
        "### Distribution of each class in the train set and test labels\n",
        "Let's check how many of each category is found in our training data:"
      ],
      "metadata": {
        "id": "YsH-tXcPNOYJ"
      }
    },
    {
      "cell_type": "code",
      "source": [
        "df_train = train.drop(['id', 'comment_text'], axis = 1)\n",
        "label_counts = df_train.sum()\n",
        "df_counts = pd.DataFrame(label_counts)\n",
        "df_counts.rename(columns = {0:'counts'}, inplace = True)\n",
        "df_counts = df_counts.sort_values('counts', ascending = False)\n",
        "df_counts"
      ],
      "metadata": {
        "execution": {
          "iopub.status.busy": "2021-10-10T10:28:51.887799Z",
          "iopub.execute_input": "2021-10-10T10:28:51.888258Z",
          "iopub.status.idle": "2021-10-10T10:28:51.903582Z",
          "shell.execute_reply.started": "2021-10-10T10:28:51.888214Z",
          "shell.execute_reply": "2021-10-10T10:28:51.902145Z"
        },
        "trusted": true,
        "colab": {
          "base_uri": "https://localhost:8080/",
          "height": 237
        },
        "id": "Dpe05MXSNOYJ",
        "outputId": "ade988f6-c4c5-40bc-9068-d3a11feea038"
      },
      "execution_count": 16,
      "outputs": [
        {
          "output_type": "execute_result",
          "data": {
            "text/plain": [
              "               counts\n",
              "toxic              20\n",
              "insult             12\n",
              "obscene            11\n",
              "severe_toxic        3\n",
              "identity_hate       3\n",
              "threat              2"
            ],
            "text/html": [
              "\n",
              "  <div id=\"df-291f182c-4ba7-4a45-9b99-b3b079ca7355\" class=\"colab-df-container\">\n",
              "    <div>\n",
              "<style scoped>\n",
              "    .dataframe tbody tr th:only-of-type {\n",
              "        vertical-align: middle;\n",
              "    }\n",
              "\n",
              "    .dataframe tbody tr th {\n",
              "        vertical-align: top;\n",
              "    }\n",
              "\n",
              "    .dataframe thead th {\n",
              "        text-align: right;\n",
              "    }\n",
              "</style>\n",
              "<table border=\"1\" class=\"dataframe\">\n",
              "  <thead>\n",
              "    <tr style=\"text-align: right;\">\n",
              "      <th></th>\n",
              "      <th>counts</th>\n",
              "    </tr>\n",
              "  </thead>\n",
              "  <tbody>\n",
              "    <tr>\n",
              "      <th>toxic</th>\n",
              "      <td>20</td>\n",
              "    </tr>\n",
              "    <tr>\n",
              "      <th>insult</th>\n",
              "      <td>12</td>\n",
              "    </tr>\n",
              "    <tr>\n",
              "      <th>obscene</th>\n",
              "      <td>11</td>\n",
              "    </tr>\n",
              "    <tr>\n",
              "      <th>severe_toxic</th>\n",
              "      <td>3</td>\n",
              "    </tr>\n",
              "    <tr>\n",
              "      <th>identity_hate</th>\n",
              "      <td>3</td>\n",
              "    </tr>\n",
              "    <tr>\n",
              "      <th>threat</th>\n",
              "      <td>2</td>\n",
              "    </tr>\n",
              "  </tbody>\n",
              "</table>\n",
              "</div>\n",
              "    <div class=\"colab-df-buttons\">\n",
              "\n",
              "  <div class=\"colab-df-container\">\n",
              "    <button class=\"colab-df-convert\" onclick=\"convertToInteractive('df-291f182c-4ba7-4a45-9b99-b3b079ca7355')\"\n",
              "            title=\"Convert this dataframe to an interactive table.\"\n",
              "            style=\"display:none;\">\n",
              "\n",
              "  <svg xmlns=\"http://www.w3.org/2000/svg\" height=\"24px\" viewBox=\"0 -960 960 960\">\n",
              "    <path d=\"M120-120v-720h720v720H120Zm60-500h600v-160H180v160Zm220 220h160v-160H400v160Zm0 220h160v-160H400v160ZM180-400h160v-160H180v160Zm440 0h160v-160H620v160ZM180-180h160v-160H180v160Zm440 0h160v-160H620v160Z\"/>\n",
              "  </svg>\n",
              "    </button>\n",
              "\n",
              "  <style>\n",
              "    .colab-df-container {\n",
              "      display:flex;\n",
              "      gap: 12px;\n",
              "    }\n",
              "\n",
              "    .colab-df-convert {\n",
              "      background-color: #E8F0FE;\n",
              "      border: none;\n",
              "      border-radius: 50%;\n",
              "      cursor: pointer;\n",
              "      display: none;\n",
              "      fill: #1967D2;\n",
              "      height: 32px;\n",
              "      padding: 0 0 0 0;\n",
              "      width: 32px;\n",
              "    }\n",
              "\n",
              "    .colab-df-convert:hover {\n",
              "      background-color: #E2EBFA;\n",
              "      box-shadow: 0px 1px 2px rgba(60, 64, 67, 0.3), 0px 1px 3px 1px rgba(60, 64, 67, 0.15);\n",
              "      fill: #174EA6;\n",
              "    }\n",
              "\n",
              "    .colab-df-buttons div {\n",
              "      margin-bottom: 4px;\n",
              "    }\n",
              "\n",
              "    [theme=dark] .colab-df-convert {\n",
              "      background-color: #3B4455;\n",
              "      fill: #D2E3FC;\n",
              "    }\n",
              "\n",
              "    [theme=dark] .colab-df-convert:hover {\n",
              "      background-color: #434B5C;\n",
              "      box-shadow: 0px 1px 3px 1px rgba(0, 0, 0, 0.15);\n",
              "      filter: drop-shadow(0px 1px 2px rgba(0, 0, 0, 0.3));\n",
              "      fill: #FFFFFF;\n",
              "    }\n",
              "  </style>\n",
              "\n",
              "    <script>\n",
              "      const buttonEl =\n",
              "        document.querySelector('#df-291f182c-4ba7-4a45-9b99-b3b079ca7355 button.colab-df-convert');\n",
              "      buttonEl.style.display =\n",
              "        google.colab.kernel.accessAllowed ? 'block' : 'none';\n",
              "\n",
              "      async function convertToInteractive(key) {\n",
              "        const element = document.querySelector('#df-291f182c-4ba7-4a45-9b99-b3b079ca7355');\n",
              "        const dataTable =\n",
              "          await google.colab.kernel.invokeFunction('convertToInteractive',\n",
              "                                                    [key], {});\n",
              "        if (!dataTable) return;\n",
              "\n",
              "        const docLinkHtml = 'Like what you see? Visit the ' +\n",
              "          '<a target=\"_blank\" href=https://colab.research.google.com/notebooks/data_table.ipynb>data table notebook</a>'\n",
              "          + ' to learn more about interactive tables.';\n",
              "        element.innerHTML = '';\n",
              "        dataTable['output_type'] = 'display_data';\n",
              "        await google.colab.output.renderOutput(dataTable, element);\n",
              "        const docLink = document.createElement('div');\n",
              "        docLink.innerHTML = docLinkHtml;\n",
              "        element.appendChild(docLink);\n",
              "      }\n",
              "    </script>\n",
              "  </div>\n",
              "\n",
              "\n",
              "<div id=\"df-b0d15718-0c97-464a-a05c-874686a85db7\">\n",
              "  <button class=\"colab-df-quickchart\" onclick=\"quickchart('df-b0d15718-0c97-464a-a05c-874686a85db7')\"\n",
              "            title=\"Suggest charts\"\n",
              "            style=\"display:none;\">\n",
              "\n",
              "<svg xmlns=\"http://www.w3.org/2000/svg\" height=\"24px\"viewBox=\"0 0 24 24\"\n",
              "     width=\"24px\">\n",
              "    <g>\n",
              "        <path d=\"M19 3H5c-1.1 0-2 .9-2 2v14c0 1.1.9 2 2 2h14c1.1 0 2-.9 2-2V5c0-1.1-.9-2-2-2zM9 17H7v-7h2v7zm4 0h-2V7h2v10zm4 0h-2v-4h2v4z\"/>\n",
              "    </g>\n",
              "</svg>\n",
              "  </button>\n",
              "\n",
              "<style>\n",
              "  .colab-df-quickchart {\n",
              "      --bg-color: #E8F0FE;\n",
              "      --fill-color: #1967D2;\n",
              "      --hover-bg-color: #E2EBFA;\n",
              "      --hover-fill-color: #174EA6;\n",
              "      --disabled-fill-color: #AAA;\n",
              "      --disabled-bg-color: #DDD;\n",
              "  }\n",
              "\n",
              "  [theme=dark] .colab-df-quickchart {\n",
              "      --bg-color: #3B4455;\n",
              "      --fill-color: #D2E3FC;\n",
              "      --hover-bg-color: #434B5C;\n",
              "      --hover-fill-color: #FFFFFF;\n",
              "      --disabled-bg-color: #3B4455;\n",
              "      --disabled-fill-color: #666;\n",
              "  }\n",
              "\n",
              "  .colab-df-quickchart {\n",
              "    background-color: var(--bg-color);\n",
              "    border: none;\n",
              "    border-radius: 50%;\n",
              "    cursor: pointer;\n",
              "    display: none;\n",
              "    fill: var(--fill-color);\n",
              "    height: 32px;\n",
              "    padding: 0;\n",
              "    width: 32px;\n",
              "  }\n",
              "\n",
              "  .colab-df-quickchart:hover {\n",
              "    background-color: var(--hover-bg-color);\n",
              "    box-shadow: 0 1px 2px rgba(60, 64, 67, 0.3), 0 1px 3px 1px rgba(60, 64, 67, 0.15);\n",
              "    fill: var(--button-hover-fill-color);\n",
              "  }\n",
              "\n",
              "  .colab-df-quickchart-complete:disabled,\n",
              "  .colab-df-quickchart-complete:disabled:hover {\n",
              "    background-color: var(--disabled-bg-color);\n",
              "    fill: var(--disabled-fill-color);\n",
              "    box-shadow: none;\n",
              "  }\n",
              "\n",
              "  .colab-df-spinner {\n",
              "    border: 2px solid var(--fill-color);\n",
              "    border-color: transparent;\n",
              "    border-bottom-color: var(--fill-color);\n",
              "    animation:\n",
              "      spin 1s steps(1) infinite;\n",
              "  }\n",
              "\n",
              "  @keyframes spin {\n",
              "    0% {\n",
              "      border-color: transparent;\n",
              "      border-bottom-color: var(--fill-color);\n",
              "      border-left-color: var(--fill-color);\n",
              "    }\n",
              "    20% {\n",
              "      border-color: transparent;\n",
              "      border-left-color: var(--fill-color);\n",
              "      border-top-color: var(--fill-color);\n",
              "    }\n",
              "    30% {\n",
              "      border-color: transparent;\n",
              "      border-left-color: var(--fill-color);\n",
              "      border-top-color: var(--fill-color);\n",
              "      border-right-color: var(--fill-color);\n",
              "    }\n",
              "    40% {\n",
              "      border-color: transparent;\n",
              "      border-right-color: var(--fill-color);\n",
              "      border-top-color: var(--fill-color);\n",
              "    }\n",
              "    60% {\n",
              "      border-color: transparent;\n",
              "      border-right-color: var(--fill-color);\n",
              "    }\n",
              "    80% {\n",
              "      border-color: transparent;\n",
              "      border-right-color: var(--fill-color);\n",
              "      border-bottom-color: var(--fill-color);\n",
              "    }\n",
              "    90% {\n",
              "      border-color: transparent;\n",
              "      border-bottom-color: var(--fill-color);\n",
              "    }\n",
              "  }\n",
              "</style>\n",
              "\n",
              "  <script>\n",
              "    async function quickchart(key) {\n",
              "      const quickchartButtonEl =\n",
              "        document.querySelector('#' + key + ' button');\n",
              "      quickchartButtonEl.disabled = true;  // To prevent multiple clicks.\n",
              "      quickchartButtonEl.classList.add('colab-df-spinner');\n",
              "      try {\n",
              "        const charts = await google.colab.kernel.invokeFunction(\n",
              "            'suggestCharts', [key], {});\n",
              "      } catch (error) {\n",
              "        console.error('Error during call to suggestCharts:', error);\n",
              "      }\n",
              "      quickchartButtonEl.classList.remove('colab-df-spinner');\n",
              "      quickchartButtonEl.classList.add('colab-df-quickchart-complete');\n",
              "    }\n",
              "    (() => {\n",
              "      let quickchartButtonEl =\n",
              "        document.querySelector('#df-b0d15718-0c97-464a-a05c-874686a85db7 button');\n",
              "      quickchartButtonEl.style.display =\n",
              "        google.colab.kernel.accessAllowed ? 'block' : 'none';\n",
              "    })();\n",
              "  </script>\n",
              "</div>\n",
              "\n",
              "  <div id=\"id_58bd0ac8-cd00-4b14-b920-35122f21b4aa\">\n",
              "    <style>\n",
              "      .colab-df-generate {\n",
              "        background-color: #E8F0FE;\n",
              "        border: none;\n",
              "        border-radius: 50%;\n",
              "        cursor: pointer;\n",
              "        display: none;\n",
              "        fill: #1967D2;\n",
              "        height: 32px;\n",
              "        padding: 0 0 0 0;\n",
              "        width: 32px;\n",
              "      }\n",
              "\n",
              "      .colab-df-generate:hover {\n",
              "        background-color: #E2EBFA;\n",
              "        box-shadow: 0px 1px 2px rgba(60, 64, 67, 0.3), 0px 1px 3px 1px rgba(60, 64, 67, 0.15);\n",
              "        fill: #174EA6;\n",
              "      }\n",
              "\n",
              "      [theme=dark] .colab-df-generate {\n",
              "        background-color: #3B4455;\n",
              "        fill: #D2E3FC;\n",
              "      }\n",
              "\n",
              "      [theme=dark] .colab-df-generate:hover {\n",
              "        background-color: #434B5C;\n",
              "        box-shadow: 0px 1px 3px 1px rgba(0, 0, 0, 0.15);\n",
              "        filter: drop-shadow(0px 1px 2px rgba(0, 0, 0, 0.3));\n",
              "        fill: #FFFFFF;\n",
              "      }\n",
              "    </style>\n",
              "    <button class=\"colab-df-generate\" onclick=\"generateWithVariable('df_counts')\"\n",
              "            title=\"Generate code using this dataframe.\"\n",
              "            style=\"display:none;\">\n",
              "\n",
              "  <svg xmlns=\"http://www.w3.org/2000/svg\" height=\"24px\"viewBox=\"0 0 24 24\"\n",
              "       width=\"24px\">\n",
              "    <path d=\"M7,19H8.4L18.45,9,17,7.55,7,17.6ZM5,21V16.75L18.45,3.32a2,2,0,0,1,2.83,0l1.4,1.43a1.91,1.91,0,0,1,.58,1.4,1.91,1.91,0,0,1-.58,1.4L9.25,21ZM18.45,9,17,7.55Zm-12,3A5.31,5.31,0,0,0,4.9,8.1,5.31,5.31,0,0,0,1,6.5,5.31,5.31,0,0,0,4.9,4.9,5.31,5.31,0,0,0,6.5,1,5.31,5.31,0,0,0,8.1,4.9,5.31,5.31,0,0,0,12,6.5,5.46,5.46,0,0,0,6.5,12Z\"/>\n",
              "  </svg>\n",
              "    </button>\n",
              "    <script>\n",
              "      (() => {\n",
              "      const buttonEl =\n",
              "        document.querySelector('#id_58bd0ac8-cd00-4b14-b920-35122f21b4aa button.colab-df-generate');\n",
              "      buttonEl.style.display =\n",
              "        google.colab.kernel.accessAllowed ? 'block' : 'none';\n",
              "\n",
              "      buttonEl.onclick = () => {\n",
              "        google.colab.notebook.generateWithVariable('df_counts');\n",
              "      }\n",
              "      })();\n",
              "    </script>\n",
              "  </div>\n",
              "\n",
              "    </div>\n",
              "  </div>\n"
            ]
          },
          "metadata": {},
          "execution_count": 16
        }
      ]
    },
    {
      "cell_type": "code",
      "source": [
        "fig, ax = plt.subplots(figsize = (8,4))\n",
        "p = sns.barplot(x=df_counts.index, y=df_counts['counts'])\n",
        "x = plt.xticks(rotation = 60)\n",
        "ax.set_title('Toxic comment counts in '+ str(len(df_train))+ ' samples of data', weight = 'bold', fontsize = 18, y = 1.05)\n",
        "x = ax.set_ylabel('')"
      ],
      "metadata": {
        "execution": {
          "iopub.status.busy": "2021-10-10T10:28:51.905742Z",
          "iopub.execute_input": "2021-10-10T10:28:51.906610Z",
          "iopub.status.idle": "2021-10-10T10:28:52.147056Z",
          "shell.execute_reply.started": "2021-10-10T10:28:51.906568Z",
          "shell.execute_reply": "2021-10-10T10:28:52.146116Z"
        },
        "trusted": true,
        "colab": {
          "base_uri": "https://localhost:8080/",
          "height": 576
        },
        "id": "BXj9XFlYNOYJ",
        "outputId": "5bf78814-98a9-48e0-840e-a28683b9c9c1"
      },
      "execution_count": 23,
      "outputs": [
        {
          "output_type": "display_data",
          "data": {
            "text/plain": [
              "<Figure size 800x400 with 1 Axes>"
            ],
            "image/png": "[encoded data removed]"
          },
          "metadata": {}
        }
      ]
    },
    {
      "cell_type": "markdown",
      "source": [
        "Relative percentage gives us a better understanding."
      ],
      "metadata": {
        "id": "dIvqwymkNOYJ"
      }
    },
    {
      "cell_type": "code",
      "source": [
        "labels = np.round(df_train.sum()/len(df_train)*100, 1)\n",
        "labels"
      ],
      "metadata": {
        "execution": {
          "iopub.status.busy": "2021-10-10T10:28:52.148871Z",
          "iopub.execute_input": "2021-10-10T10:28:52.149248Z",
          "iopub.status.idle": "2021-10-10T10:28:52.161178Z",
          "shell.execute_reply.started": "2021-10-10T10:28:52.149209Z",
          "shell.execute_reply": "2021-10-10T10:28:52.159842Z"
        },
        "trusted": true,
        "colab": {
          "base_uri": "https://localhost:8080/"
        },
        "id": "eb3c1oEaNOYJ",
        "outputId": "72588aa1-f031-4eb0-f867-b3d8b3c19a33"
      },
      "execution_count": 24,
      "outputs": [
        {
          "output_type": "execute_result",
          "data": {
            "text/plain": [
              "toxic            10.0\n",
              "severe_toxic      1.5\n",
              "obscene           5.5\n",
              "threat            1.0\n",
              "insult            6.0\n",
              "identity_hate     1.5\n",
              "dtype: float64"
            ]
          },
          "metadata": {},
          "execution_count": 24
        }
      ]
    },
    {
      "cell_type": "code",
      "source": [
        "df_test_labels = test_labels.drop(['id'], axis = 1)\n",
        "count_values = lambda x: np.round(df_test_labels[x].value_counts(normalize = True)*100, 1)\n",
        "pd.DataFrame([count_values(col) for col in df_test_labels.columns.tolist()])"
      ],
      "metadata": {
        "execution": {
          "iopub.status.busy": "2021-10-10T10:28:52.163308Z",
          "iopub.execute_input": "2021-10-10T10:28:52.164376Z",
          "iopub.status.idle": "2021-10-10T10:28:52.195521Z",
          "shell.execute_reply.started": "2021-10-10T10:28:52.164260Z",
          "shell.execute_reply": "2021-10-10T10:28:52.194478Z"
        },
        "trusted": true,
        "colab": {
          "base_uri": "https://localhost:8080/",
          "height": 237
        },
        "id": "hSt7GzR4NOYK",
        "outputId": "f6812297-9aca-420c-d86a-9dafb013f1e5"
      },
      "execution_count": 25,
      "outputs": [
        {
          "output_type": "execute_result",
          "data": {
            "text/plain": [
              "                 -1     0\n",
              "toxic          80.0  20.0\n",
              "severe_toxic   80.0  20.0\n",
              "obscene        80.0  20.0\n",
              "threat         80.0  20.0\n",
              "insult         80.0  20.0\n",
              "identity_hate  80.0  20.0"
            ],
            "text/html": [
              "\n",
              "  <div id=\"df-da36829a-25fe-4c57-92f9-d365f04b006d\" class=\"colab-df-container\">\n",
              "    <div>\n",
              "<style scoped>\n",
              "    .dataframe tbody tr th:only-of-type {\n",
              "        vertical-align: middle;\n",
              "    }\n",
              "\n",
              "    .dataframe tbody tr th {\n",
              "        vertical-align: top;\n",
              "    }\n",
              "\n",
              "    .dataframe thead th {\n",
              "        text-align: right;\n",
              "    }\n",
              "</style>\n",
              "<table border=\"1\" class=\"dataframe\">\n",
              "  <thead>\n",
              "    <tr style=\"text-align: right;\">\n",
              "      <th></th>\n",
              "      <th>-1</th>\n",
              "      <th>0</th>\n",
              "    </tr>\n",
              "  </thead>\n",
              "  <tbody>\n",
              "    <tr>\n",
              "      <th>toxic</th>\n",
              "      <td>80.0</td>\n",
              "      <td>20.0</td>\n",
              "    </tr>\n",
              "    <tr>\n",
              "      <th>severe_toxic</th>\n",
              "      <td>80.0</td>\n",
              "      <td>20.0</td>\n",
              "    </tr>\n",
              "    <tr>\n",
              "      <th>obscene</th>\n",
              "      <td>80.0</td>\n",
              "      <td>20.0</td>\n",
              "    </tr>\n",
              "    <tr>\n",
              "      <th>threat</th>\n",
              "      <td>80.0</td>\n",
              "      <td>20.0</td>\n",
              "    </tr>\n",
              "    <tr>\n",
              "      <th>insult</th>\n",
              "      <td>80.0</td>\n",
              "      <td>20.0</td>\n",
              "    </tr>\n",
              "    <tr>\n",
              "      <th>identity_hate</th>\n",
              "      <td>80.0</td>\n",
              "      <td>20.0</td>\n",
              "    </tr>\n",
              "  </tbody>\n",
              "</table>\n",
              "</div>\n",
              "    <div class=\"colab-df-buttons\">\n",
              "\n",
              "  <div class=\"colab-df-container\">\n",
              "    <button class=\"colab-df-convert\" onclick=\"convertToInteractive('df-da36829a-25fe-4c57-92f9-d365f04b006d')\"\n",
              "            title=\"Convert this dataframe to an interactive table.\"\n",
              "            style=\"display:none;\">\n",
              "\n",
              "  <svg xmlns=\"http://www.w3.org/2000/svg\" height=\"24px\" viewBox=\"0 -960 960 960\">\n",
              "    <path d=\"M120-120v-720h720v720H120Zm60-500h600v-160H180v160Zm220 220h160v-160H400v160Zm0 220h160v-160H400v160ZM180-400h160v-160H180v160Zm440 0h160v-160H620v160ZM180-180h160v-160H180v160Zm440 0h160v-160H620v160Z\"/>\n",
              "  </svg>\n",
              "    </button>\n",
              "\n",
              "  <style>\n",
              "    .colab-df-container {\n",
              "      display:flex;\n",
              "      gap: 12px;\n",
              "    }\n",
              "\n",
              "    .colab-df-convert {\n",
              "      background-color: #E8F0FE;\n",
              "      border: none;\n",
              "      border-radius: 50%;\n",
              "      cursor: pointer;\n",
              "      display: none;\n",
              "      fill: #1967D2;\n",
              "      height: 32px;\n",
              "      padding: 0 0 0 0;\n",
              "      width: 32px;\n",
              "    }\n",
              "\n",
              "    .colab-df-convert:hover {\n",
              "      background-color: #E2EBFA;\n",
              "      box-shadow: 0px 1px 2px rgba(60, 64, 67, 0.3), 0px 1px 3px 1px rgba(60, 64, 67, 0.15);\n",
              "      fill: #174EA6;\n",
              "    }\n",
              "\n",
              "    .colab-df-buttons div {\n",
              "      margin-bottom: 4px;\n",
              "    }\n",
              "\n",
              "    [theme=dark] .colab-df-convert {\n",
              "      background-color: #3B4455;\n",
              "      fill: #D2E3FC;\n",
              "    }\n",
              "\n",
              "    [theme=dark] .colab-df-convert:hover {\n",
              "      background-color: #434B5C;\n",
              "      box-shadow: 0px 1px 3px 1px rgba(0, 0, 0, 0.15);\n",
              "      filter: drop-shadow(0px 1px 2px rgba(0, 0, 0, 0.3));\n",
              "      fill: #FFFFFF;\n",
              "    }\n",
              "  </style>\n",
              "\n",
              "    <script>\n",
              "      const buttonEl =\n",
              "        document.querySelector('#df-da36829a-25fe-4c57-92f9-d365f04b006d button.colab-df-convert');\n",
              "      buttonEl.style.display =\n",
              "        google.colab.kernel.accessAllowed ? 'block' : 'none';\n",
              "\n",
              "      async function convertToInteractive(key) {\n",
              "        const element = document.querySelector('#df-da36829a-25fe-4c57-92f9-d365f04b006d');\n",
              "        const dataTable =\n",
              "          await google.colab.kernel.invokeFunction('convertToInteractive',\n",
              "                                                    [key], {});\n",
              "        if (!dataTable) return;\n",
              "\n",
              "        const docLinkHtml = 'Like what you see? Visit the ' +\n",
              "          '<a target=\"_blank\" href=https://colab.research.google.com/notebooks/data_table.ipynb>data table notebook</a>'\n",
              "          + ' to learn more about interactive tables.';\n",
              "        element.innerHTML = '';\n",
              "        dataTable['output_type'] = 'display_data';\n",
              "        await google.colab.output.renderOutput(dataTable, element);\n",
              "        const docLink = document.createElement('div');\n",
              "        docLink.innerHTML = docLinkHtml;\n",
              "        element.appendChild(docLink);\n",
              "      }\n",
              "    </script>\n",
              "  </div>\n",
              "\n",
              "\n",
              "<div id=\"df-ba8925e8-29d2-4863-991d-7b5462ba7687\">\n",
              "  <button class=\"colab-df-quickchart\" onclick=\"quickchart('df-ba8925e8-29d2-4863-991d-7b5462ba7687')\"\n",
              "            title=\"Suggest charts\"\n",
              "            style=\"display:none;\">\n",
              "\n",
              "<svg xmlns=\"http://www.w3.org/2000/svg\" height=\"24px\"viewBox=\"0 0 24 24\"\n",
              "     width=\"24px\">\n",
              "    <g>\n",
              "        <path d=\"M19 3H5c-1.1 0-2 .9-2 2v14c0 1.1.9 2 2 2h14c1.1 0 2-.9 2-2V5c0-1.1-.9-2-2-2zM9 17H7v-7h2v7zm4 0h-2V7h2v10zm4 0h-2v-4h2v4z\"/>\n",
              "    </g>\n",
              "</svg>\n",
              "  </button>\n",
              "\n",
              "<style>\n",
              "  .colab-df-quickchart {\n",
              "      --bg-color: #E8F0FE;\n",
              "      --fill-color: #1967D2;\n",
              "      --hover-bg-color: #E2EBFA;\n",
              "      --hover-fill-color: #174EA6;\n",
              "      --disabled-fill-color: #AAA;\n",
              "      --disabled-bg-color: #DDD;\n",
              "  }\n",
              "\n",
              "  [theme=dark] .colab-df-quickchart {\n",
              "      --bg-color: #3B4455;\n",
              "      --fill-color: #D2E3FC;\n",
              "      --hover-bg-color: #434B5C;\n",
              "      --hover-fill-color: #FFFFFF;\n",
              "      --disabled-bg-color: #3B4455;\n",
              "      --disabled-fill-color: #666;\n",
              "  }\n",
              "\n",
              "  .colab-df-quickchart {\n",
              "    background-color: var(--bg-color);\n",
              "    border: none;\n",
              "    border-radius: 50%;\n",
              "    cursor: pointer;\n",
              "    display: none;\n",
              "    fill: var(--fill-color);\n",
              "    height: 32px;\n",
              "    padding: 0;\n",
              "    width: 32px;\n",
              "  }\n",
              "\n",
              "  .colab-df-quickchart:hover {\n",
              "    background-color: var(--hover-bg-color);\n",
              "    box-shadow: 0 1px 2px rgba(60, 64, 67, 0.3), 0 1px 3px 1px rgba(60, 64, 67, 0.15);\n",
              "    fill: var(--button-hover-fill-color);\n",
              "  }\n",
              "\n",
              "  .colab-df-quickchart-complete:disabled,\n",
              "  .colab-df-quickchart-complete:disabled:hover {\n",
              "    background-color: var(--disabled-bg-color);\n",
              "    fill: var(--disabled-fill-color);\n",
              "    box-shadow: none;\n",
              "  }\n",
              "\n",
              "  .colab-df-spinner {\n",
              "    border: 2px solid var(--fill-color);\n",
              "    border-color: transparent;\n",
              "    border-bottom-color: var(--fill-color);\n",
              "    animation:\n",
              "      spin 1s steps(1) infinite;\n",
              "  }\n",
              "\n",
              "  @keyframes spin {\n",
              "    0% {\n",
              "      border-color: transparent;\n",
              "      border-bottom-color: var(--fill-color);\n",
              "      border-left-color: var(--fill-color);\n",
              "    }\n",
              "    20% {\n",
              "      border-color: transparent;\n",
              "      border-left-color: var(--fill-color);\n",
              "      border-top-color: var(--fill-color);\n",
              "    }\n",
              "    30% {\n",
              "      border-color: transparent;\n",
              "      border-left-color: var(--fill-color);\n",
              "      border-top-color: var(--fill-color);\n",
              "      border-right-color: var(--fill-color);\n",
              "    }\n",
              "    40% {\n",
              "      border-color: transparent;\n",
              "      border-right-color: var(--fill-color);\n",
              "      border-top-color: var(--fill-color);\n",
              "    }\n",
              "    60% {\n",
              "      border-color: transparent;\n",
              "      border-right-color: var(--fill-color);\n",
              "    }\n",
              "    80% {\n",
              "      border-color: transparent;\n",
              "      border-right-color: var(--fill-color);\n",
              "      border-bottom-color: var(--fill-color);\n",
              "    }\n",
              "    90% {\n",
              "      border-color: transparent;\n",
              "      border-bottom-color: var(--fill-color);\n",
              "    }\n",
              "  }\n",
              "</style>\n",
              "\n",
              "  <script>\n",
              "    async function quickchart(key) {\n",
              "      const quickchartButtonEl =\n",
              "        document.querySelector('#' + key + ' button');\n",
              "      quickchartButtonEl.disabled = true;  // To prevent multiple clicks.\n",
              "      quickchartButtonEl.classList.add('colab-df-spinner');\n",
              "      try {\n",
              "        const charts = await google.colab.kernel.invokeFunction(\n",
              "            'suggestCharts', [key], {});\n",
              "      } catch (error) {\n",
              "        console.error('Error during call to suggestCharts:', error);\n",
              "      }\n",
              "      quickchartButtonEl.classList.remove('colab-df-spinner');\n",
              "      quickchartButtonEl.classList.add('colab-df-quickchart-complete');\n",
              "    }\n",
              "    (() => {\n",
              "      let quickchartButtonEl =\n",
              "        document.querySelector('#df-ba8925e8-29d2-4863-991d-7b5462ba7687 button');\n",
              "      quickchartButtonEl.style.display =\n",
              "        google.colab.kernel.accessAllowed ? 'block' : 'none';\n",
              "    })();\n",
              "  </script>\n",
              "</div>\n",
              "\n",
              "    </div>\n",
              "  </div>\n"
            ]
          },
          "metadata": {},
          "execution_count": 25
        }
      ]
    },
    {
      "cell_type": "code",
      "source": [
        "train.shape, test.shape"
      ],
      "metadata": {
        "execution": {
          "iopub.status.busy": "2021-10-10T10:28:52.196948Z",
          "iopub.execute_input": "2021-10-10T10:28:52.197539Z",
          "iopub.status.idle": "2021-10-10T10:28:52.206496Z",
          "shell.execute_reply.started": "2021-10-10T10:28:52.197495Z",
          "shell.execute_reply": "2021-10-10T10:28:52.204728Z"
        },
        "trusted": true,
        "colab": {
          "base_uri": "https://localhost:8080/"
        },
        "id": "R27n4mR7NOYK",
        "outputId": "9ba237f7-8802-439b-bc6f-cc5f94917d5e"
      },
      "execution_count": 26,
      "outputs": [
        {
          "output_type": "execute_result",
          "data": {
            "text/plain": [
              "((200, 8), (100, 2))"
            ]
          },
          "metadata": {},
          "execution_count": 26
        }
      ]
    },
    {
      "cell_type": "markdown",
      "source": [
        "## 3. Prepare Data\n",
        "### a. Data cleaning\n",
        "We need to clean, tokenize and convert the data to tensors. <br>\n",
        "The function below helps us with:\n",
        "\n",
        "- Removing hyperlinks, punctuation and numbers\n",
        "- Tokenizeation\n",
        "\n",
        "We skip changing it all to lower case and keep the letters sensetive to case. <br>\n",
        "We also do not remove the stop words, Since with contextual models such as BERT and ROBERTA it is almost always better not to process the texts removing stopwords. These models are pretrained with stopwords: if you remove stop words your model may lose the context. This is also true for stemming and lemmatization preprocessing techniques. So we skip them too."
      ],
      "metadata": {
        "id": "emDy10mWNOYK"
      }
    },
    {
      "cell_type": "code",
      "source": [
        "# text preprocessing helper functions [1]\n",
        "\n",
        "def clean_text(text):\n",
        "    '''Make text lowercase, remove text in square brackets,remove links,remove punctuation\n",
        "    and remove words containing numbers.'''\n",
        "    #text = text.lower()\n",
        "\n",
        "    #pattern = [zero or more character]\n",
        "    text = re.sub('\\[.*?\\]', '', text)\n",
        "\n",
        "    #pattern = with or without(http),://, one or more non-white space character, OR www, .,one or more non-white space character\n",
        "    text = re.sub('https?://\\S+|www\\.\\S+', '', text)\n",
        "\n",
        "    #pattern = <, zero or more characters, >, (one or more occurance of >)\n",
        "    text = re.sub('<.*?>+', '', text)\n",
        "\n",
        "    #pattern = any punctionation\n",
        "    text = re.sub('[%s]' % re.escape(string.punctuation), '', text)\n",
        "\n",
        "    #pattern = any new line\n",
        "    text = re.sub('\\n', '', text)\n",
        "\n",
        "    #pattern = any from[a-zA-Z0-9_], any from[0-9], any from [a-zA-Z0-9_]\n",
        "    text = re.sub('\\w*\\d\\w*', '', text)\n",
        "    return text"
      ],
      "metadata": {
        "execution": {
          "iopub.status.busy": "2021-10-10T10:28:52.208858Z",
          "iopub.execute_input": "2021-10-10T10:28:52.209562Z",
          "iopub.status.idle": "2021-10-10T10:28:52.220270Z",
          "shell.execute_reply.started": "2021-10-10T10:28:52.209516Z",
          "shell.execute_reply": "2021-10-10T10:28:52.218731Z"
        },
        "trusted": true,
        "id": "hJwqVIxSNOYK"
      },
      "execution_count": null,
      "outputs": []
    },
    {
      "cell_type": "code",
      "source": [
        "%%time\n",
        "train['clean_text'] = train['comment_text'].apply(str).apply(lambda x: clean_text(x))\n",
        "test['clean_text'] = test['comment_text'].apply(str).apply(lambda x: clean_text(x))"
      ],
      "metadata": {
        "execution": {
          "iopub.status.busy": "2021-10-10T10:28:52.222489Z",
          "iopub.execute_input": "2021-10-10T10:28:52.222892Z",
          "iopub.status.idle": "2021-10-10T10:28:52.272509Z",
          "shell.execute_reply.started": "2021-10-10T10:28:52.222846Z",
          "shell.execute_reply": "2021-10-10T10:28:52.271262Z"
        },
        "trusted": true,
        "id": "XRL0w5KWNOYK",
        "outputId": "a9adc598-1fae-4ad2-bd64-475a9e299091"
      },
      "execution_count": null,
      "outputs": [
        {
          "name": "stdout",
          "text": "CPU times: user 39.6 ms, sys: 0 ns, total: 39.6 ms\nWall time: 39.9 ms\n",
          "output_type": "stream"
        }
      ]
    },
    {
      "cell_type": "markdown",
      "source": [
        "### b. Dataset and Dataloader\n",
        "We use 20% of the training data as validation set."
      ],
      "metadata": {
        "id": "SGz3GzagNOYK"
      }
    },
    {
      "cell_type": "code",
      "source": [
        "kfold = 5\n",
        "train['kfold'] = train.index % kfold\n",
        "train.index % kfold"
      ],
      "metadata": {
        "execution": {
          "iopub.status.busy": "2021-10-10T10:28:52.274101Z",
          "iopub.execute_input": "2021-10-10T10:28:52.274851Z",
          "iopub.status.idle": "2021-10-10T10:28:52.286150Z",
          "shell.execute_reply.started": "2021-10-10T10:28:52.274812Z",
          "shell.execute_reply": "2021-10-10T10:28:52.284403Z"
        },
        "trusted": true,
        "id": "YvPhm-bfNOYK",
        "outputId": "8f16648f-a841-44af-ad55-46b375364e8b"
      },
      "execution_count": null,
      "outputs": [
        {
          "execution_count": 19,
          "output_type": "execute_result",
          "data": {
            "text/plain": "Int64Index([0, 1, 2, 3, 4, 0, 1, 2, 3, 4,\n            ...\n            0, 1, 2, 3, 4, 0, 1, 2, 3, 4],\n           dtype='int64', length=200)"
          },
          "metadata": {}
        }
      ]
    },
    {
      "cell_type": "code",
      "source": [
        "#reset_index creates a column with the name of 'index' and saves the old index values in it and updates the values of index.\n",
        "#drop = True removes the column 'index' with the old index values.\n",
        "p_train = train[train[\"kfold\"] != 0].reset_index(drop = True)\n",
        "p_valid = train[train[\"kfold\"] == 0].reset_index(drop = True)"
      ],
      "metadata": {
        "execution": {
          "iopub.status.busy": "2021-10-10T10:28:52.288676Z",
          "iopub.execute_input": "2021-10-10T10:28:52.289437Z",
          "iopub.status.idle": "2021-10-10T10:28:52.301946Z",
          "shell.execute_reply.started": "2021-10-10T10:28:52.289379Z",
          "shell.execute_reply": "2021-10-10T10:28:52.300545Z"
        },
        "trusted": true,
        "id": "fsxmzpbBNOYL"
      },
      "execution_count": null,
      "outputs": []
    },
    {
      "cell_type": "code",
      "source": [
        "p_train.head()"
      ],
      "metadata": {
        "execution": {
          "iopub.status.busy": "2021-10-10T10:28:52.305489Z",
          "iopub.execute_input": "2021-10-10T10:28:52.305952Z",
          "iopub.status.idle": "2021-10-10T10:28:52.324336Z",
          "shell.execute_reply.started": "2021-10-10T10:28:52.305909Z",
          "shell.execute_reply": "2021-10-10T10:28:52.322583Z"
        },
        "trusted": true,
        "id": "kJ5mDGi9NOYL",
        "outputId": "d0a9ce17-a734-467c-a09d-f215253bbdce"
      },
      "execution_count": null,
      "outputs": [
        {
          "execution_count": 21,
          "output_type": "execute_result",
          "data": {
            "text/plain": "                 id                                       comment_text  toxic  \\\n0  000103f0d9cfb60f  D'aww! He matches this background colour I'm s...      0   \n1  000113f07ec002fd  Hey man, I'm really not trying to edit war. It...      0   \n2  0001b41b1c6bb37e  \"\\nMore\\nI can't make any real suggestions on ...      0   \n3  0001d958c54c6e35  You, sir, are my hero. Any chance you remember...      0   \n4  0002bcb3da6cb337       COCKSUCKER BEFORE YOU PISS AROUND ON MY WORK      1   \n\n   severe_toxic  obscene  threat  insult  identity_hate  \\\n0             0        0       0       0              0   \n1             0        0       0       0              0   \n2             0        0       0       0              0   \n3             0        0       0       0              0   \n4             1        1       0       1              0   \n\n                                          clean_text  kfold  \n0  Daww He matches this background colour Im seem...      1  \n1  Hey man Im really not trying to edit war Its j...      2  \n2  MoreI cant make any real suggestions on improv...      3  \n3  You sir are my hero Any chance you remember wh...      4  \n4       COCKSUCKER BEFORE YOU PISS AROUND ON MY WORK      1  ",
            "text/html": "<div>\n<style scoped>\n    .dataframe tbody tr th:only-of-type {\n        vertical-align: middle;\n    }\n\n    .dataframe tbody tr th {\n        vertical-align: top;\n    }\n\n    .dataframe thead th {\n        text-align: right;\n    }\n</style>\n<table border=\"1\" class=\"dataframe\">\n  <thead>\n    <tr style=\"text-align: right;\">\n      <th></th>\n      <th>id</th>\n      <th>comment_text</th>\n      <th>toxic</th>\n      <th>severe_toxic</th>\n      <th>obscene</th>\n      <th>threat</th>\n      <th>insult</th>\n      <th>identity_hate</th>\n      <th>clean_text</th>\n      <th>kfold</th>\n    </tr>\n  </thead>\n  <tbody>\n    <tr>\n      <th>0</th>\n      <td>000103f0d9cfb60f</td>\n      <td>D'aww! He matches this background colour I'm s...</td>\n      <td>0</td>\n      <td>0</td>\n      <td>0</td>\n      <td>0</td>\n      <td>0</td>\n      <td>0</td>\n      <td>Daww He matches this background colour Im seem...</td>\n      <td>1</td>\n    </tr>\n    <tr>\n      <th>1</th>\n      <td>000113f07ec002fd</td>\n      <td>Hey man, I'm really not trying to edit war. It...</td>\n      <td>0</td>\n      <td>0</td>\n      <td>0</td>\n      <td>0</td>\n      <td>0</td>\n      <td>0</td>\n      <td>Hey man Im really not trying to edit war Its j...</td>\n      <td>2</td>\n    </tr>\n    <tr>\n      <th>2</th>\n      <td>0001b41b1c6bb37e</td>\n      <td>\"\\nMore\\nI can't make any real suggestions on ...</td>\n      <td>0</td>\n      <td>0</td>\n      <td>0</td>\n      <td>0</td>\n      <td>0</td>\n      <td>0</td>\n      <td>MoreI cant make any real suggestions on improv...</td>\n      <td>3</td>\n    </tr>\n    <tr>\n      <th>3</th>\n      <td>0001d958c54c6e35</td>\n      <td>You, sir, are my hero. Any chance you remember...</td>\n      <td>0</td>\n      <td>0</td>\n      <td>0</td>\n      <td>0</td>\n      <td>0</td>\n      <td>0</td>\n      <td>You sir are my hero Any chance you remember wh...</td>\n      <td>4</td>\n    </tr>\n    <tr>\n      <th>4</th>\n      <td>0002bcb3da6cb337</td>\n      <td>COCKSUCKER BEFORE YOU PISS AROUND ON MY WORK</td>\n      <td>1</td>\n      <td>1</td>\n      <td>1</td>\n      <td>0</td>\n      <td>1</td>\n      <td>0</td>\n      <td>COCKSUCKER BEFORE YOU PISS AROUND ON MY WORK</td>\n      <td>1</td>\n    </tr>\n  </tbody>\n</table>\n</div>"
          },
          "metadata": {}
        }
      ]
    },
    {
      "cell_type": "code",
      "source": [
        "tokenizer = transformers.BertTokenizer.from_pretrained('bert-base-cased')"
      ],
      "metadata": {
        "execution": {
          "iopub.status.busy": "2021-10-10T10:28:52.326379Z",
          "iopub.execute_input": "2021-10-10T10:28:52.327596Z",
          "iopub.status.idle": "2021-10-10T10:28:56.862917Z",
          "shell.execute_reply.started": "2021-10-10T10:28:52.327551Z",
          "shell.execute_reply": "2021-10-10T10:28:56.861952Z"
        },
        "trusted": true,
        "colab": {
          "referenced_widgets": [
            "1c26a0a502cb4ce99627abcfaa1dcf2c",
            "4e050309e1a440d9bfaa9255d49864b0",
            "0e44fc656e4e41788f6237a1587e2f25"
          ]
        },
        "id": "1X_h_xZ6NOYL",
        "outputId": "c747fb54-6741-4f66-e514-ebaeecc1ffaf"
      },
      "execution_count": null,
      "outputs": [
        {
          "output_type": "display_data",
          "data": {
            "text/plain": "Downloading:   0%|          | 0.00/213k [00:00<?, ?B/s]",
            "application/vnd.jupyter.widget-view+json": {
              "version_major": 2,
              "version_minor": 0,
              "model_id": "1c26a0a502cb4ce99627abcfaa1dcf2c"
            }
          },
          "metadata": {}
        },
        {
          "output_type": "display_data",
          "data": {
            "text/plain": "Downloading:   0%|          | 0.00/29.0 [00:00<?, ?B/s]",
            "application/vnd.jupyter.widget-view+json": {
              "version_major": 2,
              "version_minor": 0,
              "model_id": "4e050309e1a440d9bfaa9255d49864b0"
            }
          },
          "metadata": {}
        },
        {
          "output_type": "display_data",
          "data": {
            "text/plain": "Downloading:   0%|          | 0.00/436k [00:00<?, ?B/s]",
            "application/vnd.jupyter.widget-view+json": {
              "version_major": 2,
              "version_minor": 0,
              "model_id": "0e44fc656e4e41788f6237a1587e2f25"
            }
          },
          "metadata": {}
        }
      ]
    },
    {
      "cell_type": "code",
      "source": [
        "%%time\n",
        "senten_len = []\n",
        "for sentence in tqdm(p_train['clean_text']):\n",
        "    token_words = tokenizer.encode_plus(sentence)['input_ids']\n",
        "    senten_len.append(len(token_words))"
      ],
      "metadata": {
        "execution": {
          "iopub.status.busy": "2021-10-10T10:28:56.864528Z",
          "iopub.execute_input": "2021-10-10T10:28:56.864983Z",
          "iopub.status.idle": "2021-10-10T10:28:57.140891Z",
          "shell.execute_reply.started": "2021-10-10T10:28:56.864940Z",
          "shell.execute_reply": "2021-10-10T10:28:57.139654Z"
        },
        "trusted": true,
        "id": "zivYPqR7NOYL",
        "outputId": "37439c8e-f375-469d-e9ef-2a2b6ac935f4"
      },
      "execution_count": null,
      "outputs": [
        {
          "name": "stderr",
          "text": "  0%|          | 0/160 [00:00<?, ?it/s]Token indices sequence length is longer than the specified maximum sequence length for this model (541 > 512). Running this sequence through the model will result in indexing errors\n100%|██████████| 160/160 [00:00<00:00, 607.81it/s]",
          "output_type": "stream"
        },
        {
          "name": "stdout",
          "text": "CPU times: user 265 ms, sys: 4.21 ms, total: 270 ms\nWall time: 269 ms\n",
          "output_type": "stream"
        },
        {
          "name": "stderr",
          "text": "\n",
          "output_type": "stream"
        }
      ]
    },
    {
      "cell_type": "markdown",
      "source": [
        "We'll have a look at the distribution of the length for tokenized comments to have an intuation about what to set as max_length for our tokenized comments."
      ],
      "metadata": {
        "id": "jkrk-CSCNOYL"
      }
    },
    {
      "cell_type": "code",
      "source": [
        "sns.distplot(senten_len)\n",
        "plt.xlim([0, 300])\n",
        "plt.xlabel('Tocken count')"
      ],
      "metadata": {
        "execution": {
          "iopub.status.busy": "2021-10-10T10:28:57.142865Z",
          "iopub.execute_input": "2021-10-10T10:28:57.143254Z",
          "iopub.status.idle": "2021-10-10T10:28:57.519509Z",
          "shell.execute_reply.started": "2021-10-10T10:28:57.143215Z",
          "shell.execute_reply": "2021-10-10T10:28:57.517963Z"
        },
        "trusted": true,
        "id": "HX_JpLVxNOYL",
        "outputId": "362ea796-db24-4c3b-ee50-fee49316b503"
      },
      "execution_count": null,
      "outputs": [
        {
          "execution_count": 24,
          "output_type": "execute_result",
          "data": {
            "text/plain": "Text(0.5, 0, 'Tocken count')"
          },
          "metadata": {}
        },
        {
          "output_type": "display_data",
          "data": {
            "text/plain": "<Figure size 432x288 with 1 Axes>",
            "image/png": "[encoded data removed]"
          },
          "metadata": {}
        }
      ]
    },
    {
      "cell_type": "markdown",
      "source": [
        "It seems that 200 is good size move on with."
      ],
      "metadata": {
        "id": "QbIomvvGNOYL"
      }
    },
    {
      "cell_type": "code",
      "source": [
        "max_len = 200"
      ],
      "metadata": {
        "execution": {
          "iopub.status.busy": "2021-10-10T10:28:57.521484Z",
          "iopub.execute_input": "2021-10-10T10:28:57.521956Z",
          "iopub.status.idle": "2021-10-10T10:28:57.527030Z",
          "shell.execute_reply.started": "2021-10-10T10:28:57.521900Z",
          "shell.execute_reply": "2021-10-10T10:28:57.525795Z"
        },
        "trusted": true,
        "id": "KM4bb5UlNOYL"
      },
      "execution_count": null,
      "outputs": []
    },
    {
      "cell_type": "markdown",
      "source": [
        "We define a class BertDataSet with Dataset as super class and overwirte the__init_, __ len__ and __ getitem__ function in it. It will get the comment list and relevant toxic labels (6 labels in this case) and creates token ids and attention mask to distinguish the comments from the zero padding."
      ],
      "metadata": {
        "id": "lGDXjF_NNOYM"
      }
    },
    {
      "cell_type": "code",
      "source": [
        "class BertDataSet(Dataset):\n",
        "\n",
        "    def __init__(self, sentences, toxic_labels):\n",
        "        self.sentences = sentences\n",
        "        #target is a matrix with shape [#1 x #6(toxic, obscene, etc)]\n",
        "        self.targets = toxic_labels.to_numpy()\n",
        "\n",
        "    def __len__(self):\n",
        "        return len(self.sentences)\n",
        "\n",
        "\n",
        "    def __getitem__(self, idx):\n",
        "        sentence = self.sentences[idx]\n",
        "        bert_senten = tokenizer.encode_plus(sentence,\n",
        "                                            add_special_tokens = True, # [CLS],[SEP]\n",
        "                                            max_length = max_len,\n",
        "                                            pad_to_max_length = True,\n",
        "                                            truncation = True,\n",
        "                                            return_attention_mask = True\n",
        "                                             )\n",
        "        ids = torch.tensor(bert_senten['input_ids'], dtype = torch.long)\n",
        "        mask = torch.tensor(bert_senten['attention_mask'], dtype = torch.long)\n",
        "        toxic_label = torch.tensor(self.targets[idx], dtype = torch.float)\n",
        "\n",
        "\n",
        "        return {\n",
        "            'ids' : ids,\n",
        "            'mask' : mask,\n",
        "            'toxic_label':toxic_label\n",
        "        }"
      ],
      "metadata": {
        "execution": {
          "iopub.status.busy": "2021-10-10T10:28:57.528879Z",
          "iopub.execute_input": "2021-10-10T10:28:57.529707Z",
          "iopub.status.idle": "2021-10-10T10:28:57.541436Z",
          "shell.execute_reply.started": "2021-10-10T10:28:57.529664Z",
          "shell.execute_reply": "2021-10-10T10:28:57.540238Z"
        },
        "trusted": true,
        "id": "ZSvgYotFNOYM"
      },
      "execution_count": null,
      "outputs": []
    },
    {
      "cell_type": "code",
      "source": [
        "train_dataset = BertDataSet(p_train['clean_text'], p_train[['toxic', 'severe_toxic','obscene', 'threat', 'insult','identity_hate']])\n",
        "valid_dataset = BertDataSet(p_valid['clean_text'], p_valid[['toxic', 'severe_toxic','obscene', 'threat', 'insult','identity_hate']])"
      ],
      "metadata": {
        "execution": {
          "iopub.status.busy": "2021-10-10T10:28:57.549700Z",
          "iopub.execute_input": "2021-10-10T10:28:57.550031Z",
          "iopub.status.idle": "2021-10-10T10:28:57.558661Z",
          "shell.execute_reply.started": "2021-10-10T10:28:57.550004Z",
          "shell.execute_reply": "2021-10-10T10:28:57.556918Z"
        },
        "trusted": true,
        "id": "i3bGsXGnNOYT"
      },
      "execution_count": null,
      "outputs": []
    },
    {
      "cell_type": "markdown",
      "source": [
        "Let's have a look what's inside a dataset:"
      ],
      "metadata": {
        "id": "tcPkZCZCNOYT"
      }
    },
    {
      "cell_type": "code",
      "source": [
        "for a in train_dataset:\n",
        "    print(a)\n",
        "    break"
      ],
      "metadata": {
        "execution": {
          "iopub.status.busy": "2021-10-10T10:28:57.562420Z",
          "iopub.execute_input": "2021-10-10T10:28:57.562863Z",
          "iopub.status.idle": "2021-10-10T10:28:57.626169Z",
          "shell.execute_reply.started": "2021-10-10T10:28:57.562822Z",
          "shell.execute_reply": "2021-10-10T10:28:57.625251Z"
        },
        "trusted": true,
        "id": "x5Oo5H_dNOYT",
        "outputId": "27a8648b-26b5-451c-d63a-028e5b7d5d06"
      },
      "execution_count": null,
      "outputs": [
        {
          "name": "stdout",
          "text": "{'ids': tensor([  101, 10136,  2246,  2246,  1124,  2697,  1142,  3582,  5922,   146,\n         1306,  9321,  5342,  1114,  5749,  2037,  1356, 11390,   102,     0,\n            0,     0,     0,     0,     0,     0,     0,     0,     0,     0,\n            0,     0,     0,     0,     0,     0,     0,     0,     0,     0,\n            0,     0,     0,     0,     0,     0,     0,     0,     0,     0,\n            0,     0,     0,     0,     0,     0,     0,     0,     0,     0,\n            0,     0,     0,     0,     0,     0,     0,     0,     0,     0,\n            0,     0,     0,     0,     0,     0,     0,     0,     0,     0,\n            0,     0,     0,     0,     0,     0,     0,     0,     0,     0,\n            0,     0,     0,     0,     0,     0,     0,     0,     0,     0,\n            0,     0,     0,     0,     0,     0,     0,     0,     0,     0,\n            0,     0,     0,     0,     0,     0,     0,     0,     0,     0,\n            0,     0,     0,     0,     0,     0,     0,     0,     0,     0,\n            0,     0,     0,     0,     0,     0,     0,     0,     0,     0,\n            0,     0,     0,     0,     0,     0,     0,     0,     0,     0,\n            0,     0,     0,     0,     0,     0,     0,     0,     0,     0,\n            0,     0,     0,     0,     0,     0,     0,     0,     0,     0,\n            0,     0,     0,     0,     0,     0,     0,     0,     0,     0,\n            0,     0,     0,     0,     0,     0,     0,     0,     0,     0,\n            0,     0,     0,     0,     0,     0,     0,     0,     0,     0]), 'mask': tensor([1, 1, 1, 1, 1, 1, 1, 1, 1, 1, 1, 1, 1, 1, 1, 1, 1, 1, 1, 0, 0, 0, 0, 0,\n        0, 0, 0, 0, 0, 0, 0, 0, 0, 0, 0, 0, 0, 0, 0, 0, 0, 0, 0, 0, 0, 0, 0, 0,\n        0, 0, 0, 0, 0, 0, 0, 0, 0, 0, 0, 0, 0, 0, 0, 0, 0, 0, 0, 0, 0, 0, 0, 0,\n        0, 0, 0, 0, 0, 0, 0, 0, 0, 0, 0, 0, 0, 0, 0, 0, 0, 0, 0, 0, 0, 0, 0, 0,\n        0, 0, 0, 0, 0, 0, 0, 0, 0, 0, 0, 0, 0, 0, 0, 0, 0, 0, 0, 0, 0, 0, 0, 0,\n        0, 0, 0, 0, 0, 0, 0, 0, 0, 0, 0, 0, 0, 0, 0, 0, 0, 0, 0, 0, 0, 0, 0, 0,\n        0, 0, 0, 0, 0, 0, 0, 0, 0, 0, 0, 0, 0, 0, 0, 0, 0, 0, 0, 0, 0, 0, 0, 0,\n        0, 0, 0, 0, 0, 0, 0, 0, 0, 0, 0, 0, 0, 0, 0, 0, 0, 0, 0, 0, 0, 0, 0, 0,\n        0, 0, 0, 0, 0, 0, 0, 0]), 'toxic_label': tensor([0., 0., 0., 0., 0., 0.])}\n",
          "output_type": "stream"
        }
      ]
    },
    {
      "cell_type": "markdown",
      "source": [
        "Now we set the batch-size for trainig set and validation set. The bigger batch size helps to speed up the computations. However, the results confirm that using small batch sizes achieves the best generalization performance, for a given computation cost. In all cases, the best results have been obtained with batch sizes of 32 or smaller. Often mini-batch sizes as small as 2 or 4 deliver optimal results."
      ],
      "metadata": {
        "id": "Aiuo1Pt8NOYT"
      }
    },
    {
      "cell_type": "code",
      "source": [
        "train_batch = 32\n",
        "valid_batch = 32"
      ],
      "metadata": {
        "execution": {
          "iopub.status.busy": "2021-10-10T10:28:57.627558Z",
          "iopub.execute_input": "2021-10-10T10:28:57.628001Z",
          "iopub.status.idle": "2021-10-10T10:28:57.633509Z",
          "shell.execute_reply.started": "2021-10-10T10:28:57.627962Z",
          "shell.execute_reply": "2021-10-10T10:28:57.631869Z"
        },
        "trusted": true,
        "id": "WsJCnC82NOYT"
      },
      "execution_count": null,
      "outputs": []
    },
    {
      "cell_type": "code",
      "source": [
        "train_dataloader = DataLoader(train_dataset, batch_size = train_batch, pin_memory = True, num_workers = 4, shuffle = True)\n",
        "valid_dataloader = DataLoader(valid_dataset, batch_size = valid_batch, pin_memory = True, num_workers = 4, shuffle = False)"
      ],
      "metadata": {
        "execution": {
          "iopub.status.busy": "2021-10-10T10:28:57.635484Z",
          "iopub.execute_input": "2021-10-10T10:28:57.635999Z",
          "iopub.status.idle": "2021-10-10T10:28:57.645248Z",
          "shell.execute_reply.started": "2021-10-10T10:28:57.635958Z",
          "shell.execute_reply": "2021-10-10T10:28:57.643607Z"
        },
        "trusted": true,
        "id": "bpa1rtMhNOYT"
      },
      "execution_count": null,
      "outputs": []
    },
    {
      "cell_type": "markdown",
      "source": [
        "Here we can check inside the dataloader:"
      ],
      "metadata": {
        "id": "Uwnp-0zTNOYU"
      }
    },
    {
      "cell_type": "code",
      "source": [
        "%%time\n",
        "for a in train_dataloader:\n",
        "    print(a)\n",
        "    print('id shape in data laoder is',a['ids'].shape)\n",
        "    break"
      ],
      "metadata": {
        "execution": {
          "iopub.status.busy": "2021-10-10T10:28:57.647681Z",
          "iopub.execute_input": "2021-10-10T10:28:57.648321Z",
          "iopub.status.idle": "2021-10-10T10:29:04.784183Z",
          "shell.execute_reply.started": "2021-10-10T10:28:57.648280Z",
          "shell.execute_reply": "2021-10-10T10:29:04.782902Z"
        },
        "trusted": true,
        "id": "MTKsGovqNOYU",
        "outputId": "096c606c-d897-4703-9898-69a62069ea49"
      },
      "execution_count": null,
      "outputs": [
        {
          "name": "stdout",
          "text": "{'ids': tensor([[  101,   146,  1306,  ...,     0,     0,     0],\n        [  101, 23330,  1252,  ...,     0,     0,     0],\n        [  101,  6003,  2249,  ...,     0,     0,     0],\n        ...,\n        [  101,   146,  1274,  ...,     0,     0,     0],\n        [  101,  2048,  1157,  ...,     0,     0,     0],\n        [  101,  1622,  1184,  ...,     0,     0,     0]]), 'mask': tensor([[1, 1, 1,  ..., 0, 0, 0],\n        [1, 1, 1,  ..., 0, 0, 0],\n        [1, 1, 1,  ..., 0, 0, 0],\n        ...,\n        [1, 1, 1,  ..., 0, 0, 0],\n        [1, 1, 1,  ..., 0, 0, 0],\n        [1, 1, 1,  ..., 0, 0, 0]]), 'toxic_label': tensor([[0., 0., 0., 0., 0., 0.],\n        [0., 0., 0., 0., 0., 0.],\n        [0., 0., 0., 0., 0., 0.],\n        [0., 0., 0., 0., 0., 0.],\n        [0., 0., 0., 0., 0., 0.],\n        [0., 0., 0., 0., 0., 0.],\n        [0., 0., 0., 0., 0., 0.],\n        [0., 0., 0., 0., 0., 0.],\n        [0., 0., 0., 0., 0., 0.],\n        [0., 0., 0., 0., 0., 0.],\n        [1., 1., 1., 0., 1., 0.],\n        [0., 0., 0., 0., 0., 0.],\n        [0., 0., 0., 0., 0., 0.],\n        [0., 0., 0., 0., 0., 0.],\n        [0., 0., 0., 0., 0., 0.],\n        [0., 0., 0., 0., 0., 0.],\n        [0., 0., 0., 0., 0., 0.],\n        [0., 0., 0., 0., 0., 0.],\n        [0., 0., 0., 0., 1., 0.],\n        [0., 0., 0., 0., 0., 0.],\n        [1., 0., 1., 0., 1., 0.],\n        [1., 0., 0., 1., 0., 0.],\n        [0., 0., 0., 0., 0., 0.],\n        [0., 0., 0., 0., 0., 0.],\n        [0., 0., 0., 0., 0., 0.],\n        [0., 0., 0., 0., 0., 0.],\n        [1., 0., 0., 0., 0., 0.],\n        [0., 0., 0., 0., 0., 0.],\n        [0., 0., 0., 0., 0., 0.],\n        [0., 0., 0., 0., 0., 0.],\n        [0., 0., 0., 0., 0., 0.],\n        [0., 0., 0., 0., 0., 0.]])}\nid shape in data laoder is torch.Size([32, 200])\nCPU times: user 1.84 s, sys: 1.45 s, total: 3.29 s\nWall time: 7.13 s\n",
          "output_type": "stream"
        }
      ]
    },
    {
      "cell_type": "markdown",
      "source": [
        "## 4. BERT Modeling\n",
        "For faster computation, let's set the device cuda if it is available."
      ],
      "metadata": {
        "id": "TBM0VUYHNOYU"
      }
    },
    {
      "cell_type": "code",
      "source": [
        "device = torch.device('cuda' if torch.cuda.is_available() else 'cpu')\n",
        "device"
      ],
      "metadata": {
        "execution": {
          "iopub.status.busy": "2021-10-10T10:29:04.785749Z",
          "iopub.execute_input": "2021-10-10T10:29:04.786066Z",
          "iopub.status.idle": "2021-10-10T10:29:04.797299Z",
          "shell.execute_reply.started": "2021-10-10T10:29:04.786034Z",
          "shell.execute_reply": "2021-10-10T10:29:04.795721Z"
        },
        "trusted": true,
        "id": "Ib5I5GQ9NOYU",
        "outputId": "ec20612f-f0ce-408c-f91e-533a3d2d0b6f"
      },
      "execution_count": null,
      "outputs": [
        {
          "execution_count": 32,
          "output_type": "execute_result",
          "data": {
            "text/plain": "device(type='cuda')"
          },
          "metadata": {}
        }
      ]
    },
    {
      "cell_type": "code",
      "source": [
        "%%time\n",
        "model = transformers.BertForSequenceClassification.from_pretrained('bert-base-cased', num_labels = 6)\n",
        "model.to(device)\n",
        "model.train()"
      ],
      "metadata": {
        "execution": {
          "iopub.status.busy": "2021-10-10T10:29:04.799454Z",
          "iopub.execute_input": "2021-10-10T10:29:04.800236Z",
          "iopub.status.idle": "2021-10-10T10:29:23.083339Z",
          "shell.execute_reply.started": "2021-10-10T10:29:04.800183Z",
          "shell.execute_reply": "2021-10-10T10:29:23.081998Z"
        },
        "trusted": true,
        "colab": {
          "referenced_widgets": [
            "4ee2c4881e244f949c6679acf14a0f0f",
            "05f5347b92ae4aaf9c1bbc478dc102cc"
          ]
        },
        "id": "FVK9O8RkNOYU",
        "outputId": "329f961d-3ff6-482a-abde-beb7a8ad2866"
      },
      "execution_count": null,
      "outputs": [
        {
          "output_type": "display_data",
          "data": {
            "text/plain": "Downloading:   0%|          | 0.00/570 [00:00<?, ?B/s]",
            "application/vnd.jupyter.widget-view+json": {
              "version_major": 2,
              "version_minor": 0,
              "model_id": "4ee2c4881e244f949c6679acf14a0f0f"
            }
          },
          "metadata": {}
        },
        {
          "output_type": "display_data",
          "data": {
            "text/plain": "Downloading:   0%|          | 0.00/436M [00:00<?, ?B/s]",
            "application/vnd.jupyter.widget-view+json": {
              "version_major": 2,
              "version_minor": 0,
              "model_id": "05f5347b92ae4aaf9c1bbc478dc102cc"
            }
          },
          "metadata": {}
        },
        {
          "name": "stderr",
          "text": "Some weights of the model checkpoint at bert-base-cased were not used when initializing BertForSequenceClassification: ['cls.predictions.decoder.weight', 'cls.predictions.bias', 'cls.predictions.transform.dense.bias', 'cls.seq_relationship.weight', 'cls.predictions.transform.LayerNorm.weight', 'cls.predictions.transform.LayerNorm.bias', 'cls.predictions.transform.dense.weight', 'cls.seq_relationship.bias']\n- This IS expected if you are initializing BertForSequenceClassification from the checkpoint of a model trained on another task or with another architecture (e.g. initializing a BertForSequenceClassification model from a BertForPreTraining model).\n- This IS NOT expected if you are initializing BertForSequenceClassification from the checkpoint of a model that you expect to be exactly identical (initializing a BertForSequenceClassification model from a BertForSequenceClassification model).\nSome weights of BertForSequenceClassification were not initialized from the model checkpoint at bert-base-cased and are newly initialized: ['classifier.weight', 'classifier.bias']\nYou should probably TRAIN this model on a down-stream task to be able to use it for predictions and inference.\n",
          "output_type": "stream"
        },
        {
          "name": "stdout",
          "text": "CPU times: user 14 s, sys: 2.78 s, total: 16.8 s\nWall time: 18.3 s\n",
          "output_type": "stream"
        },
        {
          "execution_count": 33,
          "output_type": "execute_result",
          "data": {
            "text/plain": "BertForSequenceClassification(\n  (bert): BertModel(\n    (embeddings): BertEmbeddings(\n      (word_embeddings): Embedding(28996, 768, padding_idx=0)\n      (position_embeddings): Embedding(512, 768)\n      (token_type_embeddings): Embedding(2, 768)\n      (LayerNorm): LayerNorm((768,), eps=1e-12, elementwise_affine=True)\n      (dropout): Dropout(p=0.1, inplace=False)\n    )\n    (encoder): BertEncoder(\n      (layer): ModuleList(\n        (0): BertLayer(\n          (attention): BertAttention(\n            (self): BertSelfAttention(\n              (query): Linear(in_features=768, out_features=768, bias=True)\n              (key): Linear(in_features=768, out_features=768, bias=True)\n              (value): Linear(in_features=768, out_features=768, bias=True)\n              (dropout): Dropout(p=0.1, inplace=False)\n            )\n            (output): BertSelfOutput(\n              (dense): Linear(in_features=768, out_features=768, bias=True)\n              (LayerNorm): LayerNorm((768,), eps=1e-12, elementwise_affine=True)\n              (dropout): Dropout(p=0.1, inplace=False)\n            )\n          )\n          (intermediate): BertIntermediate(\n            (dense): Linear(in_features=768, out_features=3072, bias=True)\n          )\n          (output): BertOutput(\n            (dense): Linear(in_features=3072, out_features=768, bias=True)\n            (LayerNorm): LayerNorm((768,), eps=1e-12, elementwise_affine=True)\n            (dropout): Dropout(p=0.1, inplace=False)\n          )\n        )\n        (1): BertLayer(\n          (attention): BertAttention(\n            (self): BertSelfAttention(\n              (query): Linear(in_features=768, out_features=768, bias=True)\n              (key): Linear(in_features=768, out_features=768, bias=True)\n              (value): Linear(in_features=768, out_features=768, bias=True)\n              (dropout): Dropout(p=0.1, inplace=False)\n            )\n            (output): BertSelfOutput(\n              (dense): Linear(in_features=768, out_features=768, bias=True)\n              (LayerNorm): LayerNorm((768,), eps=1e-12, elementwise_affine=True)\n              (dropout): Dropout(p=0.1, inplace=False)\n            )\n          )\n          (intermediate): BertIntermediate(\n            (dense): Linear(in_features=768, out_features=3072, bias=True)\n          )\n          (output): BertOutput(\n            (dense): Linear(in_features=3072, out_features=768, bias=True)\n            (LayerNorm): LayerNorm((768,), eps=1e-12, elementwise_affine=True)\n            (dropout): Dropout(p=0.1, inplace=False)\n          )\n        )\n        (2): BertLayer(\n          (attention): BertAttention(\n            (self): BertSelfAttention(\n              (query): Linear(in_features=768, out_features=768, bias=True)\n              (key): Linear(in_features=768, out_features=768, bias=True)\n              (value): Linear(in_features=768, out_features=768, bias=True)\n              (dropout): Dropout(p=0.1, inplace=False)\n            )\n            (output): BertSelfOutput(\n              (dense): Linear(in_features=768, out_features=768, bias=True)\n              (LayerNorm): LayerNorm((768,), eps=1e-12, elementwise_affine=True)\n              (dropout): Dropout(p=0.1, inplace=False)\n            )\n          )\n          (intermediate): BertIntermediate(\n            (dense): Linear(in_features=768, out_features=3072, bias=True)\n          )\n          (output): BertOutput(\n            (dense): Linear(in_features=3072, out_features=768, bias=True)\n            (LayerNorm): LayerNorm((768,), eps=1e-12, elementwise_affine=True)\n            (dropout): Dropout(p=0.1, inplace=False)\n          )\n        )\n        (3): BertLayer(\n          (attention): BertAttention(\n            (self): BertSelfAttention(\n              (query): Linear(in_features=768, out_features=768, bias=True)\n              (key): Linear(in_features=768, out_features=768, bias=True)\n              (value): Linear(in_features=768, out_features=768, bias=True)\n              (dropout): Dropout(p=0.1, inplace=False)\n            )\n            (output): BertSelfOutput(\n              (dense): Linear(in_features=768, out_features=768, bias=True)\n              (LayerNorm): LayerNorm((768,), eps=1e-12, elementwise_affine=True)\n              (dropout): Dropout(p=0.1, inplace=False)\n            )\n          )\n          (intermediate): BertIntermediate(\n            (dense): Linear(in_features=768, out_features=3072, bias=True)\n          )\n          (output): BertOutput(\n            (dense): Linear(in_features=3072, out_features=768, bias=True)\n            (LayerNorm): LayerNorm((768,), eps=1e-12, elementwise_affine=True)\n            (dropout): Dropout(p=0.1, inplace=False)\n          )\n        )\n        (4): BertLayer(\n          (attention): BertAttention(\n            (self): BertSelfAttention(\n              (query): Linear(in_features=768, out_features=768, bias=True)\n              (key): Linear(in_features=768, out_features=768, bias=True)\n              (value): Linear(in_features=768, out_features=768, bias=True)\n              (dropout): Dropout(p=0.1, inplace=False)\n            )\n            (output): BertSelfOutput(\n              (dense): Linear(in_features=768, out_features=768, bias=True)\n              (LayerNorm): LayerNorm((768,), eps=1e-12, elementwise_affine=True)\n              (dropout): Dropout(p=0.1, inplace=False)\n            )\n          )\n          (intermediate): BertIntermediate(\n            (dense): Linear(in_features=768, out_features=3072, bias=True)\n          )\n          (output): BertOutput(\n            (dense): Linear(in_features=3072, out_features=768, bias=True)\n            (LayerNorm): LayerNorm((768,), eps=1e-12, elementwise_affine=True)\n            (dropout): Dropout(p=0.1, inplace=False)\n          )\n        )\n        (5): BertLayer(\n          (attention): BertAttention(\n            (self): BertSelfAttention(\n              (query): Linear(in_features=768, out_features=768, bias=True)\n              (key): Linear(in_features=768, out_features=768, bias=True)\n              (value): Linear(in_features=768, out_features=768, bias=True)\n              (dropout): Dropout(p=0.1, inplace=False)\n            )\n            (output): BertSelfOutput(\n              (dense): Linear(in_features=768, out_features=768, bias=True)\n              (LayerNorm): LayerNorm((768,), eps=1e-12, elementwise_affine=True)\n              (dropout): Dropout(p=0.1, inplace=False)\n            )\n          )\n          (intermediate): BertIntermediate(\n            (dense): Linear(in_features=768, out_features=3072, bias=True)\n          )\n          (output): BertOutput(\n            (dense): Linear(in_features=3072, out_features=768, bias=True)\n            (LayerNorm): LayerNorm((768,), eps=1e-12, elementwise_affine=True)\n            (dropout): Dropout(p=0.1, inplace=False)\n          )\n        )\n        (6): BertLayer(\n          (attention): BertAttention(\n            (self): BertSelfAttention(\n              (query): Linear(in_features=768, out_features=768, bias=True)\n              (key): Linear(in_features=768, out_features=768, bias=True)\n              (value): Linear(in_features=768, out_features=768, bias=True)\n              (dropout): Dropout(p=0.1, inplace=False)\n            )\n            (output): BertSelfOutput(\n              (dense): Linear(in_features=768, out_features=768, bias=True)\n              (LayerNorm): LayerNorm((768,), eps=1e-12, elementwise_affine=True)\n              (dropout): Dropout(p=0.1, inplace=False)\n            )\n          )\n          (intermediate): BertIntermediate(\n            (dense): Linear(in_features=768, out_features=3072, bias=True)\n          )\n          (output): BertOutput(\n            (dense): Linear(in_features=3072, out_features=768, bias=True)\n            (LayerNorm): LayerNorm((768,), eps=1e-12, elementwise_affine=True)\n            (dropout): Dropout(p=0.1, inplace=False)\n          )\n        )\n        (7): BertLayer(\n          (attention): BertAttention(\n            (self): BertSelfAttention(\n              (query): Linear(in_features=768, out_features=768, bias=True)\n              (key): Linear(in_features=768, out_features=768, bias=True)\n              (value): Linear(in_features=768, out_features=768, bias=True)\n              (dropout): Dropout(p=0.1, inplace=False)\n            )\n            (output): BertSelfOutput(\n              (dense): Linear(in_features=768, out_features=768, bias=True)\n              (LayerNorm): LayerNorm((768,), eps=1e-12, elementwise_affine=True)\n              (dropout): Dropout(p=0.1, inplace=False)\n            )\n          )\n          (intermediate): BertIntermediate(\n            (dense): Linear(in_features=768, out_features=3072, bias=True)\n          )\n          (output): BertOutput(\n            (dense): Linear(in_features=3072, out_features=768, bias=True)\n            (LayerNorm): LayerNorm((768,), eps=1e-12, elementwise_affine=True)\n            (dropout): Dropout(p=0.1, inplace=False)\n          )\n        )\n        (8): BertLayer(\n          (attention): BertAttention(\n            (self): BertSelfAttention(\n              (query): Linear(in_features=768, out_features=768, bias=True)\n              (key): Linear(in_features=768, out_features=768, bias=True)\n              (value): Linear(in_features=768, out_features=768, bias=True)\n              (dropout): Dropout(p=0.1, inplace=False)\n            )\n            (output): BertSelfOutput(\n              (dense): Linear(in_features=768, out_features=768, bias=True)\n              (LayerNorm): LayerNorm((768,), eps=1e-12, elementwise_affine=True)\n              (dropout): Dropout(p=0.1, inplace=False)\n            )\n          )\n          (intermediate): BertIntermediate(\n            (dense): Linear(in_features=768, out_features=3072, bias=True)\n          )\n          (output): BertOutput(\n            (dense): Linear(in_features=3072, out_features=768, bias=True)\n            (LayerNorm): LayerNorm((768,), eps=1e-12, elementwise_affine=True)\n            (dropout): Dropout(p=0.1, inplace=False)\n          )\n        )\n        (9): BertLayer(\n          (attention): BertAttention(\n            (self): BertSelfAttention(\n              (query): Linear(in_features=768, out_features=768, bias=True)\n              (key): Linear(in_features=768, out_features=768, bias=True)\n              (value): Linear(in_features=768, out_features=768, bias=True)\n              (dropout): Dropout(p=0.1, inplace=False)\n            )\n            (output): BertSelfOutput(\n              (dense): Linear(in_features=768, out_features=768, bias=True)\n              (LayerNorm): LayerNorm((768,), eps=1e-12, elementwise_affine=True)\n              (dropout): Dropout(p=0.1, inplace=False)\n            )\n          )\n          (intermediate): BertIntermediate(\n            (dense): Linear(in_features=768, out_features=3072, bias=True)\n          )\n          (output): BertOutput(\n            (dense): Linear(in_features=3072, out_features=768, bias=True)\n            (LayerNorm): LayerNorm((768,), eps=1e-12, elementwise_affine=True)\n            (dropout): Dropout(p=0.1, inplace=False)\n          )\n        )\n        (10): BertLayer(\n          (attention): BertAttention(\n            (self): BertSelfAttention(\n              (query): Linear(in_features=768, out_features=768, bias=True)\n              (key): Linear(in_features=768, out_features=768, bias=True)\n              (value): Linear(in_features=768, out_features=768, bias=True)\n              (dropout): Dropout(p=0.1, inplace=False)\n            )\n            (output): BertSelfOutput(\n              (dense): Linear(in_features=768, out_features=768, bias=True)\n              (LayerNorm): LayerNorm((768,), eps=1e-12, elementwise_affine=True)\n              (dropout): Dropout(p=0.1, inplace=False)\n            )\n          )\n          (intermediate): BertIntermediate(\n            (dense): Linear(in_features=768, out_features=3072, bias=True)\n          )\n          (output): BertOutput(\n            (dense): Linear(in_features=3072, out_features=768, bias=True)\n            (LayerNorm): LayerNorm((768,), eps=1e-12, elementwise_affine=True)\n            (dropout): Dropout(p=0.1, inplace=False)\n          )\n        )\n        (11): BertLayer(\n          (attention): BertAttention(\n            (self): BertSelfAttention(\n              (query): Linear(in_features=768, out_features=768, bias=True)\n              (key): Linear(in_features=768, out_features=768, bias=True)\n              (value): Linear(in_features=768, out_features=768, bias=True)\n              (dropout): Dropout(p=0.1, inplace=False)\n            )\n            (output): BertSelfOutput(\n              (dense): Linear(in_features=768, out_features=768, bias=True)\n              (LayerNorm): LayerNorm((768,), eps=1e-12, elementwise_affine=True)\n              (dropout): Dropout(p=0.1, inplace=False)\n            )\n          )\n          (intermediate): BertIntermediate(\n            (dense): Linear(in_features=768, out_features=3072, bias=True)\n          )\n          (output): BertOutput(\n            (dense): Linear(in_features=3072, out_features=768, bias=True)\n            (LayerNorm): LayerNorm((768,), eps=1e-12, elementwise_affine=True)\n            (dropout): Dropout(p=0.1, inplace=False)\n          )\n        )\n      )\n    )\n    (pooler): BertPooler(\n      (dense): Linear(in_features=768, out_features=768, bias=True)\n      (activation): Tanh()\n    )\n  )\n  (dropout): Dropout(p=0.1, inplace=False)\n  (classifier): Linear(in_features=768, out_features=6, bias=True)\n)"
          },
          "metadata": {}
        }
      ]
    },
    {
      "cell_type": "markdown",
      "source": [
        "The model makes use of id and mask from token encoding in the trian set. At this state, there is no need to feed in the model with the target values such as toxic, obscene, etc."
      ],
      "metadata": {
        "id": "3WL-KbFZNOYU"
      }
    },
    {
      "cell_type": "code",
      "source": [
        "%%time\n",
        "for a in train_dataloader:\n",
        "    ids = a['ids'].to(device)\n",
        "    mask = a['mask'].to(device)\n",
        "    output = model(ids, mask)\n",
        "    break"
      ],
      "metadata": {
        "execution": {
          "iopub.status.busy": "2021-10-10T10:29:23.085235Z",
          "iopub.execute_input": "2021-10-10T10:29:23.085691Z",
          "iopub.status.idle": "2021-10-10T10:29:24.793233Z",
          "shell.execute_reply.started": "2021-10-10T10:29:23.085624Z",
          "shell.execute_reply": "2021-10-10T10:29:24.791106Z"
        },
        "trusted": true,
        "id": "CGDtWGKqNOYU",
        "outputId": "5420d50b-a7a3-423c-a161-270247cd4d3f"
      },
      "execution_count": null,
      "outputs": [
        {
          "name": "stdout",
          "text": "CPU times: user 285 ms, sys: 438 ms, total: 723 ms\nWall time: 1.7 s\n",
          "output_type": "stream"
        }
      ]
    },
    {
      "cell_type": "code",
      "source": [
        "output"
      ],
      "metadata": {
        "execution": {
          "iopub.status.busy": "2021-10-10T10:29:24.796637Z",
          "iopub.execute_input": "2021-10-10T10:29:24.796977Z",
          "iopub.status.idle": "2021-10-10T10:29:24.885169Z",
          "shell.execute_reply.started": "2021-10-10T10:29:24.796937Z",
          "shell.execute_reply": "2021-10-10T10:29:24.884051Z"
        },
        "trusted": true,
        "id": "UUjk7U0ANOYV",
        "outputId": "f04f4b1d-0051-4229-f149-0ba73d7e2f24"
      },
      "execution_count": null,
      "outputs": [
        {
          "execution_count": 35,
          "output_type": "execute_result",
          "data": {
            "text/plain": "SequenceClassifierOutput(loss=None, logits=tensor([[-0.3542, -0.1428,  0.3837,  0.1398,  0.0072, -0.4238],\n        [-0.5460,  0.0210,  0.4857,  0.0827,  0.3153, -0.5338],\n        [-0.8783,  0.3682,  0.3032, -0.0032,  0.1506, -0.6369],\n        [-0.4888,  0.3051,  0.5382,  0.0938,  0.0704, -0.7618],\n        [-0.2970,  0.2151,  0.7502,  0.0988, -0.2166, -0.4303],\n        [-0.7671,  0.0233,  0.4090,  0.2848,  0.4367, -0.7269],\n        [-0.7926,  0.1802,  0.3457,  0.0997,  0.1087, -0.8157],\n        [-0.6025,  0.2784,  0.3390,  0.0451,  0.0264, -0.3782],\n        [-0.6003,  0.4002,  0.6117,  0.1533,  0.3996, -0.6843],\n        [-0.2051,  0.0857,  0.5420,  0.2893,  0.2003, -0.5989],\n        [-1.0728,  0.3154,  0.2007,  0.1987,  0.1270, -0.6331],\n        [-0.7741,  0.1425,  0.2046,  0.2261,  0.1219, -0.7199],\n        [-0.6812,  0.3636,  0.5251,  0.3224,  0.4358, -0.7698],\n        [-0.5970,  0.2188,  0.3277,  0.4231,  0.3917, -0.7629],\n        [-0.6799,  0.3366,  0.4109, -0.0134,  0.3242, -0.7981],\n        [-0.7558,  0.3805,  0.2454,  0.2083,  0.5151, -0.7280],\n        [-0.6181,  0.0833,  0.4114,  0.3335,  0.3441, -0.9684],\n        [-1.1274,  0.5647,  0.5207,  0.3503,  0.3350, -0.7829],\n        [-0.7174,  0.0558,  0.4928,  0.2294,  0.2497, -0.7431],\n        [-0.9058,  0.4327,  0.7357,  0.1263,  0.1013, -0.4298],\n        [-0.5785,  0.3476,  0.3836,  0.1317,  0.3333, -0.6128],\n        [-0.6113,  0.2355,  0.5460,  0.1742,  0.1996, -0.8314],\n        [-0.7857,  0.0486,  0.8150,  0.1871, -0.0518, -0.4005],\n        [-1.0129,  0.6552,  0.3275,  0.2405, -0.0881, -0.6981],\n        [-0.8416,  0.1671,  0.4974,  0.1220,  0.5053, -0.5953],\n        [-0.7589,  0.2228,  0.4092,  0.4028,  0.4074, -0.5057],\n        [-0.5745, -0.1032,  0.2503,  0.1896,  0.3359, -0.5735],\n        [-0.3230, -0.0414,  0.5981,  0.1602, -0.0480, -0.8036],\n        [-0.5638,  0.4653,  0.1631,  0.2513, -0.1059, -0.7593],\n        [-0.6866,  0.2423,  0.5779,  0.3598,  0.2812, -0.3532],\n        [-0.7502,  0.0795,  0.5717,  0.2865, -0.0270, -0.4644],\n        [-0.8136,  0.0859,  0.6176,  0.2392,  0.2578, -0.7530]],\n       device='cuda:0', grad_fn=<AddmmBackward>), hidden_states=None, attentions=None)"
          },
          "metadata": {}
        }
      ]
    },
    {
      "cell_type": "markdown",
      "source": [
        "To get the output probabilities, we should use sigmoid function. This can be done either in the model or like here be applied to the output from model. I was first making the mistake and used softmax function. However, in our case a comment can be classified as toxic, obscene and insult at the same time. Hence it's not a multi-classfication and therefore, this is not applicable. <br>"
      ],
      "metadata": {
        "id": "6SeV5hBXNOYV"
      }
    },
    {
      "cell_type": "code",
      "source": [
        "func.softmax(output['logits'], dim = 1)"
      ],
      "metadata": {
        "execution": {
          "iopub.status.busy": "2021-10-10T10:29:24.886666Z",
          "iopub.execute_input": "2021-10-10T10:29:24.887108Z",
          "iopub.status.idle": "2021-10-10T10:29:25.069597Z",
          "shell.execute_reply.started": "2021-10-10T10:29:24.887063Z",
          "shell.execute_reply": "2021-10-10T10:29:25.068489Z"
        },
        "trusted": true,
        "id": "Oj_W9RH7NOYV",
        "outputId": "437c5a9e-e4b8-4264-d604-4eafbd7938ee"
      },
      "execution_count": null,
      "outputs": [
        {
          "execution_count": 36,
          "output_type": "execute_result",
          "data": {
            "text/plain": "tensor([[0.1200, 0.1482, 0.2510, 0.1967, 0.1722, 0.1119],\n        [0.0924, 0.1629, 0.2593, 0.1733, 0.2187, 0.0935],\n        [0.0704, 0.2448, 0.2294, 0.1689, 0.1969, 0.0896],\n        [0.0970, 0.2146, 0.2710, 0.1738, 0.1697, 0.0739],\n        [0.1116, 0.1862, 0.3179, 0.1657, 0.1209, 0.0976],\n        [0.0731, 0.1611, 0.2369, 0.2093, 0.2436, 0.0761],\n        [0.0791, 0.2092, 0.2468, 0.1930, 0.1947, 0.0773],\n        [0.0908, 0.2191, 0.2328, 0.1735, 0.1703, 0.1136],\n        [0.0779, 0.2118, 0.2617, 0.1654, 0.2116, 0.0716],\n        [0.1210, 0.1619, 0.2555, 0.1984, 0.1815, 0.0816],\n        [0.0588, 0.2355, 0.2100, 0.2095, 0.1950, 0.0912],\n        [0.0807, 0.2019, 0.2148, 0.2195, 0.1978, 0.0852],\n        [0.0720, 0.2048, 0.2407, 0.1965, 0.2201, 0.0659],\n        [0.0827, 0.1870, 0.2085, 0.2294, 0.2223, 0.0701],\n        [0.0813, 0.2246, 0.2419, 0.1583, 0.2218, 0.0722],\n        [0.0712, 0.2217, 0.1937, 0.1866, 0.2536, 0.0732],\n        [0.0853, 0.1720, 0.2387, 0.2208, 0.2232, 0.0601],\n        [0.0460, 0.2498, 0.2391, 0.2016, 0.1986, 0.0649],\n        [0.0787, 0.1706, 0.2640, 0.2029, 0.2071, 0.0767],\n        [0.0584, 0.2226, 0.3014, 0.1639, 0.1598, 0.0940],\n        [0.0860, 0.2171, 0.2250, 0.1749, 0.2140, 0.0831],\n        [0.0850, 0.1983, 0.2705, 0.1865, 0.1913, 0.0682],\n        [0.0692, 0.1593, 0.3428, 0.1830, 0.1441, 0.1017],\n        [0.0571, 0.3027, 0.2181, 0.1999, 0.1439, 0.0782],\n        [0.0653, 0.1792, 0.2493, 0.1713, 0.2513, 0.0836],\n        [0.0686, 0.1831, 0.2206, 0.2192, 0.2202, 0.0884],\n        [0.0951, 0.1523, 0.2169, 0.2042, 0.2363, 0.0952],\n        [0.1191, 0.1579, 0.2993, 0.1932, 0.1569, 0.0737],\n        [0.0950, 0.2658, 0.1965, 0.2146, 0.1501, 0.0781],\n        [0.0717, 0.1815, 0.2539, 0.2041, 0.1887, 0.1001],\n        [0.0754, 0.1730, 0.2829, 0.2127, 0.1555, 0.1004],\n        [0.0690, 0.1697, 0.2887, 0.1978, 0.2015, 0.0733]], device='cuda:0',\n       grad_fn=<SoftmaxBackward>)"
          },
          "metadata": {}
        }
      ]
    },
    {
      "cell_type": "code",
      "source": [
        "output_probs = func.softmax(output['logits'], dim = 1)"
      ],
      "metadata": {
        "execution": {
          "iopub.status.busy": "2021-10-10T10:29:25.071133Z",
          "iopub.execute_input": "2021-10-10T10:29:25.071657Z",
          "iopub.status.idle": "2021-10-10T10:29:25.080892Z",
          "shell.execute_reply.started": "2021-10-10T10:29:25.071612Z",
          "shell.execute_reply": "2021-10-10T10:29:25.079638Z"
        },
        "trusted": true,
        "id": "C9is-B-lNOYV"
      },
      "execution_count": null,
      "outputs": []
    },
    {
      "cell_type": "code",
      "source": [
        "torch.max(output_probs, dim = 1)"
      ],
      "metadata": {
        "execution": {
          "iopub.status.busy": "2021-10-10T10:29:25.082910Z",
          "iopub.execute_input": "2021-10-10T10:29:25.083586Z",
          "iopub.status.idle": "2021-10-10T10:29:25.102334Z",
          "shell.execute_reply.started": "2021-10-10T10:29:25.083527Z",
          "shell.execute_reply": "2021-10-10T10:29:25.100904Z"
        },
        "trusted": true,
        "id": "8T0xLiwcNOYV",
        "outputId": "b89b1143-f6e7-43d3-9ccb-a1e7b8099c33"
      },
      "execution_count": null,
      "outputs": [
        {
          "execution_count": 38,
          "output_type": "execute_result",
          "data": {
            "text/plain": "torch.return_types.max(\nvalues=tensor([0.2510, 0.2593, 0.2448, 0.2710, 0.3179, 0.2436, 0.2468, 0.2328, 0.2617,\n        0.2555, 0.2355, 0.2195, 0.2407, 0.2294, 0.2419, 0.2536, 0.2387, 0.2498,\n        0.2640, 0.3014, 0.2250, 0.2705, 0.3428, 0.3027, 0.2513, 0.2206, 0.2363,\n        0.2993, 0.2658, 0.2539, 0.2829, 0.2887], device='cuda:0',\n       grad_fn=<MaxBackward0>),\nindices=tensor([2, 2, 1, 2, 2, 4, 2, 2, 2, 2, 1, 3, 2, 3, 2, 4, 2, 1, 2, 2, 2, 2, 2, 1,\n        4, 2, 4, 2, 1, 2, 2, 2], device='cuda:0'))"
          },
          "metadata": {}
        }
      ]
    },
    {
      "cell_type": "markdown",
      "source": [
        "## 5. Functions for training and validating\n",
        "### a. Setting up some parameters"
      ],
      "metadata": {
        "id": "Q4AVl02DNOYV"
      }
    },
    {
      "cell_type": "code",
      "source": [
        "epochs = 5\n",
        "LR = 2e-5 #Learning rate\n",
        "optimizer = AdamW(model.parameters(), LR, betas = (0.9, 0.999), weight_decay = 1e-2, correct_bias = False)"
      ],
      "metadata": {
        "execution": {
          "iopub.status.busy": "2021-10-10T10:29:25.104159Z",
          "iopub.execute_input": "2021-10-10T10:29:25.104628Z",
          "iopub.status.idle": "2021-10-10T10:29:25.116396Z",
          "shell.execute_reply.started": "2021-10-10T10:29:25.104587Z",
          "shell.execute_reply": "2021-10-10T10:29:25.114608Z"
        },
        "trusted": true,
        "id": "68oxdKwxNOYV"
      },
      "execution_count": null,
      "outputs": []
    },
    {
      "cell_type": "markdown",
      "source": [
        "We use the learning rate parameter as set above for 10% of total training time. We then decrease the learning rate gradualy to zero."
      ],
      "metadata": {
        "id": "HvQn_5wFNOYV"
      }
    },
    {
      "cell_type": "code",
      "source": [
        "train_steps = int((len(train) * epochs)/train_batch)\n",
        "num_steps = int(train_steps * 0.1)\n",
        "scheduler = get_linear_schedule_with_warmup(optimizer, num_steps, train_steps)"
      ],
      "metadata": {
        "execution": {
          "iopub.status.busy": "2021-10-10T10:29:25.118438Z",
          "iopub.execute_input": "2021-10-10T10:29:25.119096Z",
          "iopub.status.idle": "2021-10-10T10:29:25.127110Z",
          "shell.execute_reply.started": "2021-10-10T10:29:25.119049Z",
          "shell.execute_reply": "2021-10-10T10:29:25.125766Z"
        },
        "trusted": true,
        "id": "eM1y1TRnNOYW"
      },
      "execution_count": null,
      "outputs": []
    },
    {
      "cell_type": "code",
      "source": [
        "le = []\n",
        "for b in tqdm(range(epochs)):\n",
        "    for a in train_dataloader:\n",
        "        le.append(scheduler.get_last_lr())\n",
        "        scheduler.step()\n",
        "plt.plot(np.arange(len(le)), le)"
      ],
      "metadata": {
        "execution": {
          "iopub.status.busy": "2021-10-10T10:29:25.129211Z",
          "iopub.execute_input": "2021-10-10T10:29:25.130206Z",
          "iopub.status.idle": "2021-10-10T10:29:28.081605Z",
          "shell.execute_reply.started": "2021-10-10T10:29:25.130087Z",
          "shell.execute_reply": "2021-10-10T10:29:28.080126Z"
        },
        "trusted": true,
        "id": "FGJv5DFMNOYW",
        "outputId": "9c7da233-d3b6-4bab-fc98-84f2d3e3eda8"
      },
      "execution_count": null,
      "outputs": [
        {
          "name": "stderr",
          "text": "100%|██████████| 5/5 [00:02<00:00,  1.81it/s]\n",
          "output_type": "stream"
        },
        {
          "execution_count": 41,
          "output_type": "execute_result",
          "data": {
            "text/plain": "[<matplotlib.lines.Line2D at 0x7fcda4657690>]"
          },
          "metadata": {}
        },
        {
          "output_type": "display_data",
          "data": {
            "text/plain": "<Figure size 432x288 with 1 Axes>",
            "image/png": "[encoded data removed]"
          },
          "metadata": {}
        }
      ]
    },
    {
      "cell_type": "code",
      "source": [
        "loss_fn = nn.BCEWithLogitsLoss()\n",
        "loss_fn.to(device)"
      ],
      "metadata": {
        "execution": {
          "iopub.status.busy": "2021-10-10T10:29:28.084068Z",
          "iopub.execute_input": "2021-10-10T10:29:28.084521Z",
          "iopub.status.idle": "2021-10-10T10:29:28.096560Z",
          "shell.execute_reply.started": "2021-10-10T10:29:28.084474Z",
          "shell.execute_reply": "2021-10-10T10:29:28.095463Z"
        },
        "trusted": true,
        "id": "nhJ52dJiNOYW",
        "outputId": "aa18df7e-09da-4e65-9858-4092a9188b58"
      },
      "execution_count": null,
      "outputs": [
        {
          "execution_count": 42,
          "output_type": "execute_result",
          "data": {
            "text/plain": "BCEWithLogitsLoss()"
          },
          "metadata": {}
        }
      ]
    },
    {
      "cell_type": "code",
      "source": [
        "scaler = torch.cuda.amp.GradScaler()"
      ],
      "metadata": {
        "execution": {
          "iopub.status.busy": "2021-10-10T10:29:28.098343Z",
          "iopub.execute_input": "2021-10-10T10:29:28.099251Z",
          "iopub.status.idle": "2021-10-10T10:29:28.105094Z",
          "shell.execute_reply.started": "2021-10-10T10:29:28.099203Z",
          "shell.execute_reply": "2021-10-10T10:29:28.103709Z"
        },
        "trusted": true,
        "id": "4riGwsJONOYW"
      },
      "execution_count": null,
      "outputs": []
    },
    {
      "cell_type": "markdown",
      "source": [
        "### b. Training function"
      ],
      "metadata": {
        "id": "0H0ezq_VNOYW"
      }
    },
    {
      "cell_type": "code",
      "source": [
        "def training(train_dataloader, model, optimizer, scheduler):\n",
        "    model.train()\n",
        "    torch.backends.cudnn.benchmark = True\n",
        "    correct_predictions = 0\n",
        "\n",
        "    for a in train_dataloader:\n",
        "        losses = []\n",
        "        optimizer.zero_grad()\n",
        "\n",
        "        #allpreds = []\n",
        "        #alltargets = []\n",
        "\n",
        "        with torch.cuda.amp.autocast():\n",
        "\n",
        "            ids = a['ids'].to(device, non_blocking = True)\n",
        "            mask = a['mask'].to(device, non_blocking = True)\n",
        "\n",
        "            output = model(ids, mask) #This gives model as output, however we want the values at the output\n",
        "            output = output['logits'].squeeze(-1).to(torch.float32)\n",
        "\n",
        "            output_probs = torch.sigmoid(output)\n",
        "            preds = torch.where(output_probs > 0.5, 1, 0)\n",
        "\n",
        "            toxic_label = a['toxic_label'].to(device, non_blocking = True)\n",
        "            loss = loss_fn(output, toxic_label)\n",
        "\n",
        "            losses.append(loss.item())\n",
        "            #allpreds.append(output.detach().cpu().numpy())\n",
        "            #alltargets.append(toxic.detach().squeeze(-1).cpu().numpy())\n",
        "            correct_predictions += torch.sum(preds == toxic_label)\n",
        "\n",
        "        scaler.scale(loss).backward() #Multiplies (‘scales’) a tensor or list of tensors by the scale factor.\n",
        "                                      #Returns scaled outputs. If this instance of GradScaler is not enabled, outputs are returned unmodified.\n",
        "        scaler.step(optimizer) #Returns the return value of optimizer.step(*args, **kwargs).\n",
        "        scaler.update() #Updates the scale factor.If any optimizer steps were skipped the scale is multiplied by backoff_factor to reduce it.\n",
        "                        #If growth_interval unskipped iterations occurred consecutively, the scale is multiplied by growth_factor to increase it\n",
        "        scheduler.step() # Update learning rate schedule\n",
        "\n",
        "    losses = np.mean(losses)\n",
        "    corr_preds = correct_predictions.detach().cpu().numpy()\n",
        "    accuracy = corr_preds/(len(p_train)*6)\n",
        "\n",
        "    return losses, accuracy"
      ],
      "metadata": {
        "execution": {
          "iopub.status.busy": "2021-10-10T10:29:28.107274Z",
          "iopub.execute_input": "2021-10-10T10:29:28.108180Z",
          "iopub.status.idle": "2021-10-10T10:29:28.123217Z",
          "shell.execute_reply.started": "2021-10-10T10:29:28.108135Z",
          "shell.execute_reply": "2021-10-10T10:29:28.121914Z"
        },
        "trusted": true,
        "id": "aRgyyTaYNOYW"
      },
      "execution_count": null,
      "outputs": []
    },
    {
      "cell_type": "markdown",
      "source": [
        "### c. Validating function\n",
        "validating function is quite similar to training function. The difference is that there is no back-propagation and optemization for parameters in it."
      ],
      "metadata": {
        "id": "1Zwoa8kGNOYX"
      }
    },
    {
      "cell_type": "code",
      "source": [
        "def validating(valid_dataloader, model):\n",
        "\n",
        "    model.eval()\n",
        "    correct_predictions = 0\n",
        "    all_output_probs = []\n",
        "\n",
        "    for a in valid_dataloader:\n",
        "        losses = []\n",
        "        ids = a['ids'].to(device, non_blocking = True)\n",
        "        mask = a['mask'].to(device, non_blocking = True)\n",
        "        output = model(ids, mask)\n",
        "        output = output['logits'].squeeze(-1).to(torch.float32)\n",
        "        output_probs = torch.sigmoid(output)\n",
        "        preds = torch.where(output_probs > 0.5, 1, 0)\n",
        "\n",
        "        toxic_label = a['toxic_label'].to(device, non_blocking = True)\n",
        "        loss = loss_fn(output, toxic_label)\n",
        "        losses.append(loss.item())\n",
        "        all_output_probs.extend(output_probs.detach().cpu().numpy())\n",
        "\n",
        "        correct_predictions += torch.sum(preds == toxic_label)\n",
        "        corr_preds = correct_predictions.detach().cpu().numpy()\n",
        "\n",
        "    losses = np.mean(losses)\n",
        "    corr_preds = correct_predictions.detach().cpu().numpy()\n",
        "    accuracy = corr_preds/(len(p_valid)*6)\n",
        "\n",
        "    return losses, accuracy, all_output_probs"
      ],
      "metadata": {
        "execution": {
          "iopub.status.busy": "2021-10-10T10:29:28.125067Z",
          "iopub.execute_input": "2021-10-10T10:29:28.126083Z",
          "iopub.status.idle": "2021-10-10T10:29:28.140037Z",
          "shell.execute_reply.started": "2021-10-10T10:29:28.126006Z",
          "shell.execute_reply": "2021-10-10T10:29:28.138629Z"
        },
        "trusted": true,
        "id": "asPiVzYyNOYX"
      },
      "execution_count": null,
      "outputs": []
    },
    {
      "cell_type": "markdown",
      "source": [
        "## 6. Training the model\n",
        "### a. Run training function"
      ],
      "metadata": {
        "id": "4nUAOBGmNOYX"
      }
    },
    {
      "cell_type": "code",
      "source": [
        "%%time\n",
        "\n",
        "best_score = 1000\n",
        "train_accs = []\n",
        "valid_accs = []\n",
        "train_losses = []\n",
        "valid_losses = []\n",
        "\n",
        "for eboch in tqdm(range(epochs)):\n",
        "\n",
        "    train_loss, train_acc = training(train_dataloader, model, optimizer, scheduler)\n",
        "    valid_loss, valid_acc, valid_probs = validating(valid_dataloader, model)\n",
        "\n",
        "    print('train losses: %.4f' % train_loss, 'train accuracy: %.3f' % train_acc)\n",
        "    print('valid losses: %.4f' % valid_loss, 'valid accuracy: %.3f' % valid_acc)\n",
        "    train_losses.append(train_loss)\n",
        "    valid_losses.append(valid_loss)\n",
        "    train_accs.append(train_acc)\n",
        "    valid_accs.append(valid_acc)\n",
        "\n",
        "\n",
        "    if valid_loss < best_score:\n",
        "        best_score = valid_loss\n",
        "        print('Found a good model!')\n",
        "        state = {\n",
        "            'state_dict': model.state_dict(),\n",
        "            'optimizer_dict': optimizer.state_dict(),\n",
        "            'best_score': best_score\n",
        "        }\n",
        "        torch.save(state, 'best_model.pth')\n",
        "    else:\n",
        "        pass"
      ],
      "metadata": {
        "execution": {
          "iopub.status.busy": "2021-10-10T10:29:28.141949Z",
          "iopub.execute_input": "2021-10-10T10:29:28.142409Z",
          "iopub.status.idle": "2021-10-10T10:30:00.912743Z",
          "shell.execute_reply.started": "2021-10-10T10:29:28.142364Z",
          "shell.execute_reply": "2021-10-10T10:30:00.907957Z"
        },
        "trusted": true,
        "id": "usR1sicgNOYX",
        "outputId": "2ad8454b-be7d-4a5e-87c4-88f4669f5aac"
      },
      "execution_count": null,
      "outputs": [
        {
          "name": "stderr",
          "text": "  0%|          | 0/5 [00:00<?, ?it/s]",
          "output_type": "stream"
        },
        {
          "name": "stdout",
          "text": "train losses: 0.6391 train accuracy: 0.535\nvalid losses: 0.6056 valid accuracy: 0.846\nFound a good model!\n",
          "output_type": "stream"
        },
        {
          "name": "stderr",
          "text": " 20%|██        | 1/5 [00:07<00:30,  7.69s/it]",
          "output_type": "stream"
        },
        {
          "name": "stdout",
          "text": "train losses: 0.6102 train accuracy: 0.794\nvalid losses: 0.6003 valid accuracy: 0.863\nFound a good model!\n",
          "output_type": "stream"
        },
        {
          "name": "stderr",
          "text": " 60%|██████    | 3/5 [00:23<00:15,  7.53s/it]",
          "output_type": "stream"
        },
        {
          "name": "stdout",
          "text": "train losses: 0.6156 train accuracy: 0.778\nvalid losses: 0.6003 valid accuracy: 0.863\n",
          "output_type": "stream"
        },
        {
          "name": "stderr",
          "text": " 80%|████████  | 4/5 [00:28<00:06,  6.32s/it]",
          "output_type": "stream"
        },
        {
          "name": "stdout",
          "text": "train losses: 0.6144 train accuracy: 0.792\nvalid losses: 0.6003 valid accuracy: 0.863\n",
          "output_type": "stream"
        },
        {
          "name": "stderr",
          "text": "100%|██████████| 5/5 [00:32<00:00,  6.55s/it]",
          "output_type": "stream"
        },
        {
          "name": "stdout",
          "text": "train losses: 0.6172 train accuracy: 0.770\nvalid losses: 0.6003 valid accuracy: 0.863\nCPU times: user 21.3 s, sys: 4.83 s, total: 26.1 s\nWall time: 32.8 s\n",
          "output_type": "stream"
        },
        {
          "name": "stderr",
          "text": "\n",
          "output_type": "stream"
        }
      ]
    },
    {
      "cell_type": "markdown",
      "source": [
        "### b. Plotting the results"
      ],
      "metadata": {
        "id": "p9v8qFU8NOYX"
      }
    },
    {
      "cell_type": "code",
      "source": [
        "x = np.arange(epochs)\n",
        "fig, ax = plt.subplots(1, 2, figsize = (15,4))\n",
        "ax[0].plot(x, train_losses)\n",
        "ax[0].plot(x, valid_losses)\n",
        "ax[0].set_ylabel('Losses', weight = 'bold')\n",
        "ax[0].set_xlabel('Epochs')\n",
        "ax[0].grid(alpha = 0.3)\n",
        "ax[0].legend(labels = ['train losses', 'valid losses'])\n",
        "\n",
        "ax[1].plot(x, train_accs)\n",
        "ax[1].plot(x, valid_accs)\n",
        "ax[1].set_ylabel('Accuracy', weight = 'bold')\n",
        "ax[1].set_xlabel('Epochs')\n",
        "ax[1].legend(labels = ['train acc', 'valid acc'])\n",
        "\n",
        "ax[1].grid(alpha = 0.3)\n",
        "fig.suptitle('Fold = 0', weight = 'bold')\n"
      ],
      "metadata": {
        "execution": {
          "iopub.status.busy": "2021-10-10T10:30:00.914775Z",
          "iopub.execute_input": "2021-10-10T10:30:00.915194Z",
          "iopub.status.idle": "2021-10-10T10:30:01.333711Z",
          "shell.execute_reply.started": "2021-10-10T10:30:00.915161Z",
          "shell.execute_reply": "2021-10-10T10:30:01.332698Z"
        },
        "trusted": true,
        "id": "8BqTijbaNOYX",
        "outputId": "2174cebc-ed2a-4875-fbc9-3348e47bee1d"
      },
      "execution_count": null,
      "outputs": [
        {
          "execution_count": 47,
          "output_type": "execute_result",
          "data": {
            "text/plain": "Text(0.5, 0.98, 'Fold = 0')"
          },
          "metadata": {}
        },
        {
          "output_type": "display_data",
          "data": {
            "text/plain": "<Figure size 1080x288 with 2 Axes>",
            "image/png": "[encoded data removed]"
          },
          "metadata": {}
        }
      ]
    },
    {
      "cell_type": "markdown",
      "source": [
        "## 7. Evaluation\n",
        "We use auc as a metric of evaluation in this report."
      ],
      "metadata": {
        "id": "w4ib8EeLNOYY"
      }
    },
    {
      "cell_type": "code",
      "source": [
        "valid_loss, valid_acc, valid_probs = validating(valid_dataloader, model)\n",
        "valid_probs = np.asarray(valid_probs).flatten()\n",
        "y_valid = p_valid[['toxic', 'severe_toxic','obscene', 'threat', 'insult','identity_hate']].to_numpy().flatten()\n",
        "fpr, tpr, _ = roc_curve(y_valid, valid_probs)"
      ],
      "metadata": {
        "execution": {
          "iopub.status.busy": "2021-10-10T10:30:01.335337Z",
          "iopub.execute_input": "2021-10-10T10:30:01.336046Z",
          "iopub.status.idle": "2021-10-10T10:30:01.926407Z",
          "shell.execute_reply.started": "2021-10-10T10:30:01.335997Z",
          "shell.execute_reply": "2021-10-10T10:30:01.925100Z"
        },
        "trusted": true,
        "id": "rY0sBTs4NOYY"
      },
      "execution_count": null,
      "outputs": []
    },
    {
      "cell_type": "code",
      "source": [
        "fig, ax = plt.subplots()\n",
        "ax.plot(fpr, tpr)\n",
        "ax.set_title('ROC Curv')\n",
        "ax.set_xlabel('FPR')\n",
        "ax.set_ylabel('TPR')\n",
        "plt.show()"
      ],
      "metadata": {
        "execution": {
          "iopub.status.busy": "2021-10-10T10:30:01.928424Z",
          "iopub.execute_input": "2021-10-10T10:30:01.928908Z",
          "iopub.status.idle": "2021-10-10T10:30:02.091557Z",
          "shell.execute_reply.started": "2021-10-10T10:30:01.928854Z",
          "shell.execute_reply": "2021-10-10T10:30:02.090343Z"
        },
        "trusted": true,
        "id": "vg1B81EFNOYY",
        "outputId": "7094e68f-3ed8-4fde-f1c6-743913c10eae"
      },
      "execution_count": null,
      "outputs": [
        {
          "output_type": "display_data",
          "data": {
            "text/plain": "<Figure size 432x288 with 1 Axes>",
            "image/png": "[encoded data removed]"
          },
          "metadata": {}
        }
      ]
    },
    {
      "cell_type": "code",
      "source": [
        "auc(fpr, tpr)"
      ],
      "metadata": {
        "execution": {
          "iopub.status.busy": "2021-10-10T10:30:02.093253Z",
          "iopub.execute_input": "2021-10-10T10:30:02.093896Z",
          "iopub.status.idle": "2021-10-10T10:30:02.102052Z",
          "shell.execute_reply.started": "2021-10-10T10:30:02.093820Z",
          "shell.execute_reply": "2021-10-10T10:30:02.100624Z"
        },
        "trusted": true,
        "id": "Zaj4iyogNOYY",
        "outputId": "9e3a90f7-81fb-4818-9369-2b1a95b5cae7"
      },
      "execution_count": null,
      "outputs": [
        {
          "execution_count": 50,
          "output_type": "execute_result",
          "data": {
            "text/plain": "0.5486304088924175"
          },
          "metadata": {}
        }
      ]
    },
    {
      "cell_type": "markdown",
      "source": [
        "## PART II"
      ],
      "metadata": {
        "id": "mn5GkU1eNOYY"
      }
    },
    {
      "cell_type": "markdown",
      "source": [
        "The objective here is to show how the model works for 5 different folds. epochs is set to 5 and the first 2000 rows of the trianing set is used."
      ],
      "metadata": {
        "id": "jU6bGzaENOYY"
      }
    },
    {
      "cell_type": "code",
      "source": [
        "%%time\n",
        "import numpy as np\n",
        "import pandas as pd\n",
        "import os\n",
        "import random\n",
        "import time\n",
        "\n",
        "import re\n",
        "import string\n",
        "import nltk\n",
        "from nltk.corpus import stopwords\n",
        "\n",
        "import matplotlib.pyplot as plt\n",
        "import seaborn as sns\n",
        "sns.set(style=\"ticks\", context=\"talk\")\n",
        "plt.style.use('dark_background')\n",
        "\n",
        "from tqdm import tqdm\n",
        "\n",
        "import torch\n",
        "import torch.nn as nn\n",
        "import torch.nn.functional as func\n",
        "from torch.utils.data import DataLoader, Dataset\n",
        "\n",
        "import transformers\n",
        "from transformers import AdamW, get_linear_schedule_with_warmup\n",
        "\n",
        "import tokenizers\n",
        "from sklearn.metrics import mean_squared_error, roc_auc_score, roc_curve, auc\n",
        "\n",
        "import warnings\n",
        "warnings.simplefilter('ignore')\n",
        "\n",
        "train = pd.read_csv('./toxic-comment-classification-dataset/train.csv.zip', nrows = 2000)\n",
        "test = pd.read_csv('./toxic-comment-classification-dataset/test.csv.zip', nrows = 100)\n",
        "submission = pd.read_csv('./toxic-comment-classification-dataset/sample_submission.csv.zip')\n",
        "\n",
        "SEED = 34\n",
        "def random_seed(SEED):\n",
        "    random.seed(SEED)\n",
        "    os.environ['PYTHONHASHSEED'] = str(SEED)\n",
        "    np.random.seed(SEED)\n",
        "    torch.manual_seed(SEED)\n",
        "    torch.cuda.manual_seed(SEED)\n",
        "    torch.cuda.manual_seed_all(SEED)\n",
        "    torch.backends.cudnn.deterministic = True\n",
        "random_seed(SEED)\n",
        "\n",
        "def clean_text(text):\n",
        "\n",
        "    text = re.sub('\\[.*?\\]', '', text)\n",
        "    text = re.sub('https?://\\S+|www\\.\\S+', '', text)\n",
        "    text = re.sub('<.*?>+', '', text)\n",
        "    text = re.sub('[%s]' % re.escape(string.punctuation), '', text)\n",
        "    text = re.sub('\\n', '', text)\n",
        "    text = re.sub('\\w*\\d\\w*', '', text)\n",
        "    return text\n",
        "\n",
        "\n",
        "train['clean_text'] = train['comment_text'].apply(str).apply(lambda x: clean_text(x))\n",
        "test['clean_text'] = test['comment_text'].apply(str).apply(lambda x: clean_text(x))\n",
        "\n",
        "kfold = 5\n",
        "train['kfold'] = train.index % kfold\n",
        "\n",
        "tokenizer = transformers.BertTokenizer.from_pretrained('bert-base-cased')\n",
        "max_len = 200\n",
        "\n",
        "class BertDataSet(Dataset):\n",
        "\n",
        "    def __init__(self, sentences, toxic_labels):\n",
        "        self.sentences = sentences\n",
        "        #target is a matrix with shape [#1 x #6(toxic, obscene, etc)]\n",
        "        self.targets = toxic_labels.to_numpy()\n",
        "\n",
        "    def __len__(self):\n",
        "        return len(self.sentences)\n",
        "\n",
        "\n",
        "    def __getitem__(self, idx):\n",
        "        sentence = self.sentences[idx]\n",
        "        bert_senten = tokenizer.encode_plus(sentence,\n",
        "                                            add_special_tokens = True, # [CLS],[SEP]\n",
        "                                            max_length = max_len,\n",
        "                                            pad_to_max_length = True,\n",
        "                                            truncation = True,\n",
        "                                            return_attention_mask = True\n",
        "                                             )\n",
        "        ids = torch.tensor(bert_senten['input_ids'], dtype = torch.long)\n",
        "        mask = torch.tensor(bert_senten['attention_mask'], dtype = torch.long)\n",
        "        toxic_label = torch.tensor(self.targets[idx], dtype = torch.float)\n",
        "\n",
        "\n",
        "        return {\n",
        "            'ids' : ids,\n",
        "            'mask' : mask,\n",
        "            'toxic_label':toxic_label\n",
        "        }\n",
        "\n",
        "epochs = 5\n",
        "train_batch = 32\n",
        "valid_batch = 32\n",
        "device = torch.device('cuda' if torch.cuda.is_available() else 'cpu')\n",
        "\n",
        "loss_fn = nn.BCEWithLogitsLoss()\n",
        "loss_fn.to(device)\n",
        "scaler = torch.cuda.amp.GradScaler()\n",
        "\n",
        "def training(train_dataloader, model, optimizer, scheduler):\n",
        "    model.train()\n",
        "    torch.backends.cudnn.benchmark = True\n",
        "    correct_predictions = 0\n",
        "\n",
        "    for a in train_dataloader:\n",
        "        losses = []\n",
        "        optimizer.zero_grad()\n",
        "\n",
        "        #allpreds = []\n",
        "        #alltargets = []\n",
        "\n",
        "        with torch.cuda.amp.autocast():\n",
        "\n",
        "            ids = a['ids'].to(device, non_blocking = True)\n",
        "            mask = a['mask'].to(device, non_blocking = True)\n",
        "\n",
        "            output = model(ids, mask) #This gives model as output, however we want the values at the output\n",
        "            output = output['logits'].squeeze(-1).to(torch.float32)\n",
        "\n",
        "            output_probs = torch.sigmoid(output)\n",
        "            preds = torch.where(output_probs > 0.5, 1, 0)\n",
        "\n",
        "            toxic_label = a['toxic_label'].to(device, non_blocking = True)\n",
        "            loss = loss_fn(output, toxic_label)\n",
        "\n",
        "            losses.append(loss.item())\n",
        "            #allpreds.append(output.detach().cpu().numpy())\n",
        "            #alltargets.append(toxic.detach().squeeze(-1).cpu().numpy())\n",
        "            correct_predictions += torch.sum(preds == toxic_label)\n",
        "\n",
        "        scaler.scale(loss).backward() #Multiplies (‘scales’) a tensor or list of tensors by the scale factor.\n",
        "                                      #Returns scaled outputs. If this instance of GradScaler is not enabled, outputs are returned unmodified.\n",
        "        scaler.step(optimizer) #Returns the return value of optimizer.step(*args, **kwargs).\n",
        "        scaler.update() #Updates the scale factor.If any optimizer steps were skipped the scale is multiplied by backoff_factor to reduce it.\n",
        "                        #If growth_interval unskipped iterations occurred consecutively, the scale is multiplied by growth_factor to increase it\n",
        "        scheduler.step() # Update learning rate schedule\n",
        "\n",
        "    losses = np.mean(losses)\n",
        "    corr_preds = correct_predictions.detach().cpu().numpy()\n",
        "    accuracy = corr_preds/(len(p_train)*6)\n",
        "\n",
        "    return losses, accuracy\n",
        "\n",
        "def validating(valid_dataloader, model):\n",
        "\n",
        "    model.eval()\n",
        "    correct_predictions = 0\n",
        "    all_output_probs = []\n",
        "\n",
        "    for a in valid_dataloader:\n",
        "        losses = []\n",
        "        ids = a['ids'].to(device, non_blocking = True)\n",
        "        mask = a['mask'].to(device, non_blocking = True)\n",
        "        output = model(ids, mask)\n",
        "        output = output['logits'].squeeze(-1).to(torch.float32)\n",
        "        output_probs = torch.sigmoid(output)\n",
        "        preds = torch.where(output_probs > 0.5, 1, 0)\n",
        "\n",
        "        toxic_label = a['toxic_label'].to(device, non_blocking = True)\n",
        "        loss = loss_fn(output, toxic_label)\n",
        "        losses.append(loss.item())\n",
        "        all_output_probs.extend(output_probs.detach().cpu().numpy())\n",
        "\n",
        "        correct_predictions += torch.sum(preds == toxic_label)\n",
        "        corr_preds = correct_predictions.detach().cpu().numpy()\n",
        "\n",
        "    losses = np.mean(losses)\n",
        "    corr_preds = correct_predictions.detach().cpu().numpy()\n",
        "    accuracy = corr_preds/(len(p_valid)*6)\n",
        "\n",
        "    return losses, accuracy, all_output_probs"
      ],
      "metadata": {
        "execution": {
          "iopub.status.busy": "2021-10-10T10:45:47.288362Z",
          "iopub.execute_input": "2021-10-10T10:45:47.288695Z",
          "iopub.status.idle": "2021-10-10T10:45:55.930182Z",
          "shell.execute_reply.started": "2021-10-10T10:45:47.288665Z",
          "shell.execute_reply": "2021-10-10T10:45:55.929352Z"
        },
        "trusted": true,
        "colab": {
          "referenced_widgets": [
            "6c431abef97d47cfac932160674a7d26",
            "b7815caca7ae4d9891132f7f9eb19fc2",
            "899e8eb689a6451489d4ecdecc2cc07b"
          ]
        },
        "id": "eLu94-ATNOYZ",
        "outputId": "6f9a5b0b-856c-4f11-ca0d-b2756e18ed61"
      },
      "execution_count": null,
      "outputs": [
        {
          "output_type": "display_data",
          "data": {
            "text/plain": "Downloading:   0%|          | 0.00/213k [00:00<?, ?B/s]",
            "application/vnd.jupyter.widget-view+json": {
              "version_major": 2,
              "version_minor": 0,
              "model_id": "6c431abef97d47cfac932160674a7d26"
            }
          },
          "metadata": {}
        },
        {
          "output_type": "display_data",
          "data": {
            "text/plain": "Downloading:   0%|          | 0.00/29.0 [00:00<?, ?B/s]",
            "application/vnd.jupyter.widget-view+json": {
              "version_major": 2,
              "version_minor": 0,
              "model_id": "b7815caca7ae4d9891132f7f9eb19fc2"
            }
          },
          "metadata": {}
        },
        {
          "output_type": "display_data",
          "data": {
            "text/plain": "Downloading:   0%|          | 0.00/436k [00:00<?, ?B/s]",
            "application/vnd.jupyter.widget-view+json": {
              "version_major": 2,
              "version_minor": 0,
              "model_id": "899e8eb689a6451489d4ecdecc2cc07b"
            }
          },
          "metadata": {}
        },
        {
          "name": "stdout",
          "text": "CPU times: user 3.39 s, sys: 758 ms, total: 4.15 s\nWall time: 8.62 s\n",
          "output_type": "stream"
        }
      ]
    },
    {
      "cell_type": "markdown",
      "source": [
        "## 8. Repeat training for k-fold"
      ],
      "metadata": {
        "id": "CWZmfrs5NOYZ"
      }
    },
    {
      "cell_type": "markdown",
      "source": [
        "To improve our model we repeat the same process of training for each fold of k-folds."
      ],
      "metadata": {
        "id": "zR2oAOVfNOYZ"
      }
    },
    {
      "cell_type": "code",
      "source": [
        "%%time\n",
        "\n",
        "best_scores = []\n",
        "for fold in tqdm(range(0,5)):\n",
        "\n",
        "    # initializing the data\n",
        "    p_train = train[train['kfold'] != fold].reset_index(drop = True)\n",
        "    p_valid = train[train['kfold'] == fold].reset_index(drop = True)\n",
        "\n",
        "    train_dataset = BertDataSet(p_train['clean_text'], p_train[['toxic', 'severe_toxic','obscene', 'threat', 'insult','identity_hate']])\n",
        "    valid_dataset = BertDataSet(p_valid['clean_text'], p_valid[['toxic', 'severe_toxic','obscene', 'threat', 'insult','identity_hate']])\n",
        "\n",
        "    train_dataloader = DataLoader(train_dataset, batch_size = train_batch, shuffle = True, num_workers = 4, pin_memory = True)\n",
        "    valid_dataloader = DataLoader(valid_dataset, batch_size = valid_batch, shuffle = False, num_workers = 4, pin_memory = True)\n",
        "\n",
        "    model = transformers.BertForSequenceClassification.from_pretrained(\"bert-base-cased\", num_labels = 6)\n",
        "    model.to(device)\n",
        "\n",
        "    LR = 2e-5\n",
        "    optimizer = AdamW(model.parameters(), LR,betas = (0.9, 0.999), weight_decay = 1e-2) # AdamW optimizer\n",
        "\n",
        "    train_steps = int(len(p_train)/train_batch * epochs)\n",
        "    num_steps = int(train_steps * 0.1)\n",
        "\n",
        "    scheduler = get_linear_schedule_with_warmup(optimizer, num_steps, train_steps)\n",
        "\n",
        "    best_score = 1000\n",
        "    train_accs = []\n",
        "    valid_accs = []\n",
        "    train_losses = []\n",
        "    valid_losses = []\n",
        "    best_valid_probs = []\n",
        "\n",
        "    print(\"-------------- Fold = \" + str(fold) + \"-------------\")\n",
        "\n",
        "    for epoch in tqdm(range(epochs)):\n",
        "        print(\"-------------- Epoch = \" + str(epoch) + \"-------------\")\n",
        "\n",
        "        train_loss, train_acc = training(train_dataloader, model, optimizer, scheduler)\n",
        "        valid_loss, valid_acc, valid_probs = validating(valid_dataloader, model)\n",
        "\n",
        "        train_losses.append(train_loss)\n",
        "        train_accs.append(train_acc)\n",
        "        valid_losses.append(valid_loss)\n",
        "        valid_accs.append(valid_acc)\n",
        "\n",
        "        print('train losses: %.4f' %(train_loss), 'train accuracy: %.3f' %(train_acc))\n",
        "        print('valid losses: %.4f' %(valid_loss), 'valid accuracy: %.3f' %(valid_acc))\n",
        "\n",
        "        if (valid_loss < best_score):\n",
        "\n",
        "            best_score = valid_loss\n",
        "            print(\"Found an improved model! :)\")\n",
        "\n",
        "            state = {'state_dict': model.state_dict(),\n",
        "                     'optimizer_dict': optimizer.state_dict(),\n",
        "                     'best_score':best_score\n",
        "                    }\n",
        "\n",
        "            torch.save(state, \"model\" + str(fold) + \".pth\")\n",
        "            best_valid_prob = valid_probs\n",
        "            torch.cuda.memory_summary(device = None, abbreviated = False)\n",
        "        else:\n",
        "            pass\n",
        "\n",
        "\n",
        "    best_scores.append(best_score)\n",
        "    best_valid_probs.append(best_valid_prob)\n",
        "\n",
        "    ##Plotting the result for each fold\n",
        "    x = np.arange(epochs)\n",
        "    fig, ax = plt.subplots(1, 2, figsize = (15,4))\n",
        "    ax[0].plot(x, train_losses)\n",
        "    ax[0].plot(x, valid_losses)\n",
        "    ax[0].set_ylabel('Losses', weight = 'bold')\n",
        "    ax[0].set_xlabel('Epochs')\n",
        "    ax[0].grid(alpha = 0.3)\n",
        "    ax[0].legend(labels = ['train losses', 'valid losses'])\n",
        "\n",
        "    ax[1].plot(x, train_accs)\n",
        "    ax[1].plot(x, valid_accs)\n",
        "    ax[1].set_ylabel('Accuracy', weight = 'bold')\n",
        "    ax[1].set_xlabel('Epochs')\n",
        "    ax[1].legend(labels = ['train acc', 'valid acc'])\n",
        "\n",
        "    ax[1].grid(alpha = 0.3)\n",
        "    fig.suptitle('Fold = '+str(fold), weight = 'bold')"
      ],
      "metadata": {
        "execution": {
          "iopub.status.busy": "2021-10-10T10:45:59.796820Z",
          "iopub.execute_input": "2021-10-10T10:45:59.797155Z",
          "iopub.status.idle": "2021-10-10T11:02:52.135697Z",
          "shell.execute_reply.started": "2021-10-10T10:45:59.797127Z",
          "shell.execute_reply": "2021-10-10T11:02:52.134678Z"
        },
        "trusted": true,
        "id": "6gdgARQWNOYZ",
        "outputId": "4b793555-4797-4161-b020-520d669798f0"
      },
      "execution_count": null,
      "outputs": [
        {
          "name": "stderr",
          "text": "  0%|          | 0/5 [00:00<?, ?it/s]Some weights of the model checkpoint at ../input/bert-base-cased were not used when initializing BertForSequenceClassification: ['cls.predictions.transform.LayerNorm.weight', 'cls.predictions.decoder.weight', 'cls.predictions.bias', 'cls.seq_relationship.weight', 'cls.predictions.transform.dense.bias', 'cls.seq_relationship.bias', 'cls.predictions.transform.dense.weight', 'cls.predictions.transform.LayerNorm.bias']\n- This IS expected if you are initializing BertForSequenceClassification from the checkpoint of a model trained on another task or with another architecture (e.g. initializing a BertForSequenceClassification model from a BertForPreTraining model).\n- This IS NOT expected if you are initializing BertForSequenceClassification from the checkpoint of a model that you expect to be exactly identical (initializing a BertForSequenceClassification model from a BertForSequenceClassification model).\nSome weights of BertForSequenceClassification were not initialized from the model checkpoint at ../input/bert-base-cased and are newly initialized: ['classifier.bias', 'classifier.weight']\nYou should probably TRAIN this model on a down-stream task to be able to use it for predictions and inference.\n\n  0%|          | 0/5 [00:00<?, ?it/s]\u001b[A",
          "output_type": "stream"
        },
        {
          "name": "stdout",
          "text": "-------------- Fold = 0-------------\n-------------- Epoch = 0-------------\ntrain losses: 0.2320 train accuracy: 0.743\nvalid losses: 0.1977 valid accuracy: 0.964\nFound an improved model! :)\n",
          "output_type": "stream"
        },
        {
          "name": "stderr",
          "text": "\n 20%|██        | 1/5 [00:40<02:40, 40.23s/it]\u001b[A",
          "output_type": "stream"
        },
        {
          "name": "stdout",
          "text": "-------------- Epoch = 1-------------\ntrain losses: 0.1631 train accuracy: 0.966\nvalid losses: 0.1033 valid accuracy: 0.975\nFound an improved model! :)\n",
          "output_type": "stream"
        },
        {
          "name": "stderr",
          "text": "\n 40%|████      | 2/5 [01:20<02:00, 40.31s/it]\u001b[A",
          "output_type": "stream"
        },
        {
          "name": "stdout",
          "text": "-------------- Epoch = 2-------------\ntrain losses: 0.0446 train accuracy: 0.976\nvalid losses: 0.0994 valid accuracy: 0.978\nFound an improved model! :)\n",
          "output_type": "stream"
        },
        {
          "name": "stderr",
          "text": "\n 60%|██████    | 3/5 [02:01<01:20, 40.47s/it]\u001b[A",
          "output_type": "stream"
        },
        {
          "name": "stdout",
          "text": "-------------- Epoch = 3-------------\n",
          "output_type": "stream"
        },
        {
          "name": "stderr",
          "text": "\n 80%|████████  | 4/5 [02:37<00:38, 38.99s/it]\u001b[A",
          "output_type": "stream"
        },
        {
          "name": "stdout",
          "text": "train losses: 0.1626 train accuracy: 0.979\nvalid losses: 0.1059 valid accuracy: 0.978\n-------------- Epoch = 4-------------\n",
          "output_type": "stream"
        },
        {
          "name": "stderr",
          "text": "\n100%|██████████| 5/5 [03:14<00:00, 38.91s/it]\u001b[A\n 20%|██        | 1/5 [03:27<13:48, 207.10s/it]",
          "output_type": "stream"
        },
        {
          "name": "stdout",
          "text": "train losses: 0.0464 train accuracy: 0.980\nvalid losses: 0.1031 valid accuracy: 0.978\n",
          "output_type": "stream"
        },
        {
          "name": "stderr",
          "text": "Some weights of the model checkpoint at ../input/bert-base-cased were not used when initializing BertForSequenceClassification: ['cls.predictions.transform.LayerNorm.weight', 'cls.predictions.decoder.weight', 'cls.predictions.bias', 'cls.seq_relationship.weight', 'cls.predictions.transform.dense.bias', 'cls.seq_relationship.bias', 'cls.predictions.transform.dense.weight', 'cls.predictions.transform.LayerNorm.bias']\n- This IS expected if you are initializing BertForSequenceClassification from the checkpoint of a model trained on another task or with another architecture (e.g. initializing a BertForSequenceClassification model from a BertForPreTraining model).\n- This IS NOT expected if you are initializing BertForSequenceClassification from the checkpoint of a model that you expect to be exactly identical (initializing a BertForSequenceClassification model from a BertForSequenceClassification model).\nSome weights of BertForSequenceClassification were not initialized from the model checkpoint at ../input/bert-base-cased and are newly initialized: ['classifier.bias', 'classifier.weight']\nYou should probably TRAIN this model on a down-stream task to be able to use it for predictions and inference.\n\n  0%|          | 0/5 [00:00<?, ?it/s]\u001b[A",
          "output_type": "stream"
        },
        {
          "name": "stdout",
          "text": "-------------- Fold = 1-------------\n-------------- Epoch = 0-------------\ntrain losses: 0.1976 train accuracy: 0.755\nvalid losses: 0.2751 valid accuracy: 0.955\nFound an improved model! :)\n",
          "output_type": "stream"
        },
        {
          "name": "stderr",
          "text": "\n 20%|██        | 1/5 [00:38<02:35, 38.99s/it]\u001b[A",
          "output_type": "stream"
        },
        {
          "name": "stdout",
          "text": "-------------- Epoch = 1-------------\ntrain losses: 0.1227 train accuracy: 0.964\nvalid losses: 0.2442 valid accuracy: 0.955\nFound an improved model! :)\n",
          "output_type": "stream"
        },
        {
          "name": "stderr",
          "text": "\n 40%|████      | 2/5 [01:19<01:59, 39.90s/it]\u001b[A",
          "output_type": "stream"
        },
        {
          "name": "stdout",
          "text": "-------------- Epoch = 2-------------\ntrain losses: 0.0628 train accuracy: 0.963\nvalid losses: 0.1958 valid accuracy: 0.955\nFound an improved model! :)\n",
          "output_type": "stream"
        },
        {
          "name": "stderr",
          "text": "\n 60%|██████    | 3/5 [01:59<01:19, 39.84s/it]\u001b[A",
          "output_type": "stream"
        },
        {
          "name": "stdout",
          "text": "-------------- Epoch = 3-------------\ntrain losses: 0.1446 train accuracy: 0.964\nvalid losses: 0.1673 valid accuracy: 0.955\nFound an improved model! :)\n",
          "output_type": "stream"
        },
        {
          "name": "stderr",
          "text": "\n 80%|████████  | 4/5 [02:39<00:40, 40.00s/it]\u001b[A",
          "output_type": "stream"
        },
        {
          "name": "stdout",
          "text": "-------------- Epoch = 4-------------\n",
          "output_type": "stream"
        },
        {
          "name": "stderr",
          "text": "\n100%|██████████| 5/5 [03:16<00:00, 39.24s/it]\u001b[A\n 40%|████      | 2/5 [06:44<10:04, 201.67s/it]",
          "output_type": "stream"
        },
        {
          "name": "stdout",
          "text": "train losses: 0.1334 train accuracy: 0.966\nvalid losses: 0.1801 valid accuracy: 0.958\n",
          "output_type": "stream"
        },
        {
          "name": "stderr",
          "text": "Some weights of the model checkpoint at ../input/bert-base-cased were not used when initializing BertForSequenceClassification: ['cls.predictions.transform.LayerNorm.weight', 'cls.predictions.decoder.weight', 'cls.predictions.bias', 'cls.seq_relationship.weight', 'cls.predictions.transform.dense.bias', 'cls.seq_relationship.bias', 'cls.predictions.transform.dense.weight', 'cls.predictions.transform.LayerNorm.bias']\n- This IS expected if you are initializing BertForSequenceClassification from the checkpoint of a model trained on another task or with another architecture (e.g. initializing a BertForSequenceClassification model from a BertForPreTraining model).\n- This IS NOT expected if you are initializing BertForSequenceClassification from the checkpoint of a model that you expect to be exactly identical (initializing a BertForSequenceClassification model from a BertForSequenceClassification model).\nSome weights of BertForSequenceClassification were not initialized from the model checkpoint at ../input/bert-base-cased and are newly initialized: ['classifier.bias', 'classifier.weight']\nYou should probably TRAIN this model on a down-stream task to be able to use it for predictions and inference.\n\n  0%|          | 0/5 [00:00<?, ?it/s]\u001b[A",
          "output_type": "stream"
        },
        {
          "name": "stdout",
          "text": "-------------- Fold = 2-------------\n-------------- Epoch = 0-------------\ntrain losses: 0.2794 train accuracy: 0.730\nvalid losses: 0.1263 valid accuracy: 0.956\nFound an improved model! :)\n",
          "output_type": "stream"
        },
        {
          "name": "stderr",
          "text": "\n 20%|██        | 1/5 [00:38<02:35, 38.83s/it]\u001b[A",
          "output_type": "stream"
        },
        {
          "name": "stdout",
          "text": "-------------- Epoch = 1-------------\ntrain losses: 0.1479 train accuracy: 0.967\nvalid losses: 0.0622 valid accuracy: 0.967\nFound an improved model! :)\n",
          "output_type": "stream"
        },
        {
          "name": "stderr",
          "text": "\n 40%|████      | 2/5 [01:19<01:59, 39.79s/it]\u001b[A",
          "output_type": "stream"
        },
        {
          "name": "stdout",
          "text": "-------------- Epoch = 2-------------\ntrain losses: 0.1100 train accuracy: 0.974\nvalid losses: 0.0403 valid accuracy: 0.969\nFound an improved model! :)\n",
          "output_type": "stream"
        },
        {
          "name": "stderr",
          "text": "\n 60%|██████    | 3/5 [01:59<01:19, 39.93s/it]\u001b[A",
          "output_type": "stream"
        },
        {
          "name": "stdout",
          "text": "-------------- Epoch = 3-------------\ntrain losses: 0.0799 train accuracy: 0.978\nvalid losses: 0.0328 valid accuracy: 0.971\nFound an improved model! :)\n",
          "output_type": "stream"
        },
        {
          "name": "stderr",
          "text": "\n 80%|████████  | 4/5 [02:39<00:40, 40.04s/it]\u001b[A",
          "output_type": "stream"
        },
        {
          "name": "stdout",
          "text": "-------------- Epoch = 4-------------\ntrain losses: 0.0641 train accuracy: 0.981\nvalid losses: 0.0311 valid accuracy: 0.970\nFound an improved model! :)\n",
          "output_type": "stream"
        },
        {
          "name": "stderr",
          "text": "\n100%|██████████| 5/5 [03:19<00:00, 39.96s/it]\u001b[A\n 60%|██████    | 3/5 [10:06<06:43, 201.56s/it]Some weights of the model checkpoint at ../input/bert-base-cased were not used when initializing BertForSequenceClassification: ['cls.predictions.transform.LayerNorm.weight', 'cls.predictions.decoder.weight', 'cls.predictions.bias', 'cls.seq_relationship.weight', 'cls.predictions.transform.dense.bias', 'cls.seq_relationship.bias', 'cls.predictions.transform.dense.weight', 'cls.predictions.transform.LayerNorm.bias']\n- This IS expected if you are initializing BertForSequenceClassification from the checkpoint of a model trained on another task or with another architecture (e.g. initializing a BertForSequenceClassification model from a BertForPreTraining model).\n- This IS NOT expected if you are initializing BertForSequenceClassification from the checkpoint of a model that you expect to be exactly identical (initializing a BertForSequenceClassification model from a BertForSequenceClassification model).\nSome weights of BertForSequenceClassification were not initialized from the model checkpoint at ../input/bert-base-cased and are newly initialized: ['classifier.bias', 'classifier.weight']\nYou should probably TRAIN this model on a down-stream task to be able to use it for predictions and inference.\n\n  0%|          | 0/5 [00:00<?, ?it/s]\u001b[A",
          "output_type": "stream"
        },
        {
          "name": "stdout",
          "text": "-------------- Fold = 3-------------\n-------------- Epoch = 0-------------\ntrain losses: 0.1853 train accuracy: 0.838\nvalid losses: 0.1761 valid accuracy: 0.968\nFound an improved model! :)\n",
          "output_type": "stream"
        },
        {
          "name": "stderr",
          "text": "\n 20%|██        | 1/5 [00:39<02:37, 39.34s/it]\u001b[A",
          "output_type": "stream"
        },
        {
          "name": "stdout",
          "text": "-------------- Epoch = 1-------------\ntrain losses: 0.1058 train accuracy: 0.961\nvalid losses: 0.1157 valid accuracy: 0.968\nFound an improved model! :)\n",
          "output_type": "stream"
        },
        {
          "name": "stderr",
          "text": "\n 40%|████      | 2/5 [01:20<02:00, 40.31s/it]\u001b[A",
          "output_type": "stream"
        },
        {
          "name": "stdout",
          "text": "-------------- Epoch = 2-------------\ntrain losses: 0.0716 train accuracy: 0.962\nvalid losses: 0.0974 valid accuracy: 0.968\nFound an improved model! :)\n",
          "output_type": "stream"
        },
        {
          "name": "stderr",
          "text": "\n 60%|██████    | 3/5 [02:00<01:20, 40.37s/it]\u001b[A",
          "output_type": "stream"
        },
        {
          "name": "stdout",
          "text": "-------------- Epoch = 3-------------\ntrain losses: 0.0653 train accuracy: 0.963\nvalid losses: 0.0918 valid accuracy: 0.969\nFound an improved model! :)\n",
          "output_type": "stream"
        },
        {
          "name": "stderr",
          "text": "\n 80%|████████  | 4/5 [02:40<00:40, 40.20s/it]\u001b[A",
          "output_type": "stream"
        },
        {
          "name": "stdout",
          "text": "-------------- Epoch = 4-------------\ntrain losses: 0.0637 train accuracy: 0.963\nvalid losses: 0.0918 valid accuracy: 0.969\nFound an improved model! :)\n",
          "output_type": "stream"
        },
        {
          "name": "stderr",
          "text": "\n100%|██████████| 5/5 [03:20<00:00, 40.11s/it]\u001b[A\n 80%|████████  | 4/5 [13:28<03:21, 201.81s/it]Some weights of the model checkpoint at ../input/bert-base-cased were not used when initializing BertForSequenceClassification: ['cls.predictions.transform.LayerNorm.weight', 'cls.predictions.decoder.weight', 'cls.predictions.bias', 'cls.seq_relationship.weight', 'cls.predictions.transform.dense.bias', 'cls.seq_relationship.bias', 'cls.predictions.transform.dense.weight', 'cls.predictions.transform.LayerNorm.bias']\n- This IS expected if you are initializing BertForSequenceClassification from the checkpoint of a model trained on another task or with another architecture (e.g. initializing a BertForSequenceClassification model from a BertForPreTraining model).\n- This IS NOT expected if you are initializing BertForSequenceClassification from the checkpoint of a model that you expect to be exactly identical (initializing a BertForSequenceClassification model from a BertForSequenceClassification model).\nSome weights of BertForSequenceClassification were not initialized from the model checkpoint at ../input/bert-base-cased and are newly initialized: ['classifier.bias', 'classifier.weight']\nYou should probably TRAIN this model on a down-stream task to be able to use it for predictions and inference.\n\n  0%|          | 0/5 [00:00<?, ?it/s]\u001b[A",
          "output_type": "stream"
        },
        {
          "name": "stdout",
          "text": "-------------- Fold = 4-------------\n-------------- Epoch = 0-------------\ntrain losses: 0.1759 train accuracy: 0.785\nvalid losses: 0.1299 valid accuracy: 0.967\nFound an improved model! :)\n",
          "output_type": "stream"
        },
        {
          "name": "stderr",
          "text": "\n 20%|██        | 1/5 [00:39<02:39, 39.90s/it]\u001b[A",
          "output_type": "stream"
        },
        {
          "name": "stdout",
          "text": "-------------- Epoch = 1-------------\ntrain losses: 0.1270 train accuracy: 0.961\nvalid losses: 0.0554 valid accuracy: 0.967\nFound an improved model! :)\n",
          "output_type": "stream"
        },
        {
          "name": "stderr",
          "text": "\n 40%|████      | 2/5 [01:20<02:00, 40.24s/it]\u001b[A",
          "output_type": "stream"
        },
        {
          "name": "stdout",
          "text": "-------------- Epoch = 2-------------\ntrain losses: 0.0643 train accuracy: 0.969\nvalid losses: 0.0531 valid accuracy: 0.971\nFound an improved model! :)\n",
          "output_type": "stream"
        },
        {
          "name": "stderr",
          "text": "\n 60%|██████    | 3/5 [02:00<01:20, 40.17s/it]\u001b[A",
          "output_type": "stream"
        },
        {
          "name": "stdout",
          "text": "-------------- Epoch = 3-------------\ntrain losses: 0.0399 train accuracy: 0.979\nvalid losses: 0.0346 valid accuracy: 0.974\nFound an improved model! :)\n",
          "output_type": "stream"
        },
        {
          "name": "stderr",
          "text": "\n 80%|████████  | 4/5 [02:40<00:40, 40.14s/it]\u001b[A",
          "output_type": "stream"
        },
        {
          "name": "stdout",
          "text": "-------------- Epoch = 4-------------\ntrain losses: 0.0640 train accuracy: 0.981\nvalid losses: 0.0339 valid accuracy: 0.975\nFound an improved model! :)\n",
          "output_type": "stream"
        },
        {
          "name": "stderr",
          "text": "\n100%|██████████| 5/5 [03:20<00:00, 40.09s/it]\u001b[A\n100%|██████████| 5/5 [16:50<00:00, 202.12s/it]\n",
          "output_type": "stream"
        },
        {
          "name": "stdout",
          "text": "CPU times: user 15min 13s, sys: 41.6 s, total: 15min 55s\nWall time: 16min 50s\n",
          "output_type": "stream"
        },
        {
          "output_type": "display_data",
          "data": {
            "text/plain": "<Figure size 1080x288 with 2 Axes>",
            "image/png": "[encoded data removed]"
          },
          "metadata": {}
        },
        {
          "output_type": "display_data",
          "data": {
            "text/plain": "<Figure size 1080x288 with 2 Axes>",
            "image/png": "[encoded data removed]"
          },
          "metadata": {}
        },
        {
          "output_type": "display_data",
          "data": {
            "text/plain": "<Figure size 1080x288 with 2 Axes>",
            "image/png": "[encoded data removed]"
          },
          "metadata": {}
        },
        {
          "output_type": "display_data",
          "data": {
            "text/plain": "<Figure size 1080x288 with 2 Axes>",
            "image/png": "[encoded data removed]"
          },
          "metadata": {}
        },
        {
          "output_type": "display_data",
          "data": {
            "text/plain": "<Figure size 1080x288 with 2 Axes>",
            "image/png": "[encoded data removed]"
          },
          "metadata": {}
        }
      ]
    },
    {
      "cell_type": "code",
      "source": [
        "best_scores"
      ],
      "metadata": {
        "execution": {
          "iopub.status.busy": "2021-10-10T11:08:41.345011Z",
          "iopub.execute_input": "2021-10-10T11:08:41.345396Z",
          "iopub.status.idle": "2021-10-10T11:08:41.352244Z",
          "shell.execute_reply.started": "2021-10-10T11:08:41.345362Z",
          "shell.execute_reply": "2021-10-10T11:08:41.351287Z"
        },
        "trusted": true,
        "id": "lit8HBTaNOYZ",
        "outputId": "4bfd73a2-aafc-49ce-ba3a-25d3c7eb3eb1"
      },
      "execution_count": null,
      "outputs": [
        {
          "execution_count": 4,
          "output_type": "execute_result",
          "data": {
            "text/plain": "[0.0993785560131073,\n 0.16733333468437195,\n 0.031060606241226196,\n 0.09179504960775375,\n 0.033908724784851074]"
          },
          "metadata": {}
        }
      ]
    },
    {
      "cell_type": "code",
      "source": [
        "print('Mean of',kfold, 'folds for best loss in', epochs, 'epochs cross-validation folds is %.4f.' %(np.mean(best_scores)))"
      ],
      "metadata": {
        "execution": {
          "iopub.status.busy": "2021-10-10T11:08:43.440070Z",
          "iopub.execute_input": "2021-10-10T11:08:43.440421Z",
          "iopub.status.idle": "2021-10-10T11:08:43.446236Z",
          "shell.execute_reply.started": "2021-10-10T11:08:43.440388Z",
          "shell.execute_reply": "2021-10-10T11:08:43.445097Z"
        },
        "trusted": true,
        "id": "vA-BU4D0NOYZ",
        "outputId": "8683f0dd-6209-4291-8624-4195bbdace91"
      },
      "execution_count": null,
      "outputs": [
        {
          "name": "stdout",
          "text": "Mean of 5 folds for best loss in 5 epochs cross-validation folds is 0.0847.\n",
          "output_type": "stream"
        }
      ]
    },
    {
      "cell_type": "markdown",
      "source": [
        "## 9. Evaluation for k-models"
      ],
      "metadata": {
        "id": "Ll7n2qCLNOYa"
      }
    },
    {
      "cell_type": "markdown",
      "source": [
        "We use ensemble for evaluating k-models in the validation set."
      ],
      "metadata": {
        "id": "prl6k8nZNOYa"
      }
    },
    {
      "cell_type": "code",
      "source": [
        "def predicting(test_dataloader, model, pthes):\n",
        "    allpreds = []\n",
        "\n",
        "    for pth in pthes:\n",
        "        state = torch.load(pth)\n",
        "        model.load_state_dict(state['state_dict'])\n",
        "        model.to(device)\n",
        "        model.eval()\n",
        "        preds = []\n",
        "        with torch.no_grad():\n",
        "            for a in test_dataloader:\n",
        "                ids = a['ids'].to(device)\n",
        "                mask = a['mask'].to(device)\n",
        "                output = model(ids, mask)\n",
        "                output = output['logits'].squeeze(-1)\n",
        "                output_probs = torch.sigmoid(output)\n",
        "                preds.append(output_probs.cpu().numpy())\n",
        "            preds = np.concatenate(preds)\n",
        "            allpreds.append(preds)\n",
        "\n",
        "    return allpreds"
      ],
      "metadata": {
        "execution": {
          "iopub.status.busy": "2021-10-10T11:08:51.162913Z",
          "iopub.execute_input": "2021-10-10T11:08:51.163251Z",
          "iopub.status.idle": "2021-10-10T11:08:51.170494Z",
          "shell.execute_reply.started": "2021-10-10T11:08:51.163221Z",
          "shell.execute_reply": "2021-10-10T11:08:51.169419Z"
        },
        "trusted": true,
        "id": "Y2QEt7vRNOYa"
      },
      "execution_count": null,
      "outputs": []
    },
    {
      "cell_type": "code",
      "source": [
        "pthes = [os.path.join(\"./\",s) for s in os.listdir(\"./\") if \".pth\" in s]"
      ],
      "metadata": {
        "execution": {
          "iopub.status.busy": "2021-10-10T11:08:54.722875Z",
          "iopub.execute_input": "2021-10-10T11:08:54.723210Z",
          "iopub.status.idle": "2021-10-10T11:08:54.727986Z",
          "shell.execute_reply.started": "2021-10-10T11:08:54.723180Z",
          "shell.execute_reply": "2021-10-10T11:08:54.726887Z"
        },
        "trusted": true,
        "id": "FVe8EQ8NNOYa"
      },
      "execution_count": null,
      "outputs": []
    },
    {
      "cell_type": "code",
      "source": [
        "allpreds = predicting(valid_dataloader, model, pthes)"
      ],
      "metadata": {
        "execution": {
          "iopub.status.busy": "2021-10-10T11:09:06.569281Z",
          "iopub.execute_input": "2021-10-10T11:09:06.569614Z",
          "iopub.status.idle": "2021-10-10T11:10:12.396677Z",
          "shell.execute_reply.started": "2021-10-10T11:09:06.569584Z",
          "shell.execute_reply": "2021-10-10T11:10:12.395515Z"
        },
        "trusted": true,
        "id": "pi5QdtsrNOYa"
      },
      "execution_count": null,
      "outputs": []
    },
    {
      "cell_type": "markdown",
      "source": [
        "Taking the avarage of probabilities from k-models for each sample in the validation set."
      ],
      "metadata": {
        "id": "ccuRbM7INOYa"
      }
    },
    {
      "cell_type": "code",
      "source": [
        "valid_probs = np.zeros((len(p_valid),6))\n",
        "for i in range(kfold):\n",
        "    valid_probs += allpreds[i]\n",
        "valid_probs = valid_probs / kfold"
      ],
      "metadata": {
        "execution": {
          "iopub.status.busy": "2021-10-10T11:10:12.401967Z",
          "iopub.execute_input": "2021-10-10T11:10:12.404047Z",
          "iopub.status.idle": "2021-10-10T11:10:12.411160Z",
          "shell.execute_reply.started": "2021-10-10T11:10:12.404004Z",
          "shell.execute_reply": "2021-10-10T11:10:12.409913Z"
        },
        "trusted": true,
        "id": "k8Csl_baNOYa"
      },
      "execution_count": null,
      "outputs": []
    },
    {
      "cell_type": "code",
      "source": [
        "valid_probs = np.asarray(valid_probs).flatten()"
      ],
      "metadata": {
        "execution": {
          "iopub.status.busy": "2021-10-10T11:10:25.098133Z",
          "iopub.execute_input": "2021-10-10T11:10:25.098481Z",
          "iopub.status.idle": "2021-10-10T11:10:25.102339Z",
          "shell.execute_reply.started": "2021-10-10T11:10:25.098448Z",
          "shell.execute_reply": "2021-10-10T11:10:25.101444Z"
        },
        "trusted": true,
        "id": "vROx729WNOYa"
      },
      "execution_count": null,
      "outputs": []
    },
    {
      "cell_type": "code",
      "source": [
        "#valid_probs = allpreds[0].flatten() #This line is used when trianing for one model and not k-fold model\n",
        "y_valid = p_valid[['toxic', 'severe_toxic','obscene', 'threat', 'insult','identity_hate']].to_numpy().flatten()"
      ],
      "metadata": {
        "execution": {
          "iopub.status.busy": "2021-10-10T11:10:27.154756Z",
          "iopub.execute_input": "2021-10-10T11:10:27.155089Z",
          "iopub.status.idle": "2021-10-10T11:10:27.163182Z",
          "shell.execute_reply.started": "2021-10-10T11:10:27.155059Z",
          "shell.execute_reply": "2021-10-10T11:10:27.160718Z"
        },
        "trusted": true,
        "id": "aRuhF7KXNOYa"
      },
      "execution_count": null,
      "outputs": []
    },
    {
      "cell_type": "code",
      "source": [
        "fpr, tpr, _ = roc_curve(y_valid, valid_probs)\n",
        "print('auc score for kfold =', kfold, 'models is: %.2f' %(auc(fpr, tpr)*100))"
      ],
      "metadata": {
        "execution": {
          "iopub.status.busy": "2021-10-10T11:10:29.786484Z",
          "iopub.execute_input": "2021-10-10T11:10:29.787000Z",
          "iopub.status.idle": "2021-10-10T11:10:29.796468Z",
          "shell.execute_reply.started": "2021-10-10T11:10:29.786967Z",
          "shell.execute_reply": "2021-10-10T11:10:29.795447Z"
        },
        "trusted": true,
        "id": "t0p3yPcBNOYb",
        "outputId": "db2dd435-15f0-4196-d6c2-3b00ab10c173"
      },
      "execution_count": null,
      "outputs": [
        {
          "name": "stdout",
          "text": "auc score for kfold = 5 models is: 98.86\n",
          "output_type": "stream"
        }
      ]
    },
    {
      "cell_type": "code",
      "source": [
        "fig, ax = plt.subplots()\n",
        "ax.plot(fpr, tpr)\n",
        "ax.set_title('ROC Curv')\n",
        "ax.set_xlabel('FPR')\n",
        "ax.set_ylabel('TPR')\n",
        "plt.show()"
      ],
      "metadata": {
        "execution": {
          "iopub.status.busy": "2021-10-10T11:10:32.922979Z",
          "iopub.execute_input": "2021-10-10T11:10:32.923421Z",
          "iopub.status.idle": "2021-10-10T11:10:33.052604Z",
          "shell.execute_reply.started": "2021-10-10T11:10:32.923375Z",
          "shell.execute_reply": "2021-10-10T11:10:33.051653Z"
        },
        "trusted": true,
        "id": "GQ2El6s_NOYb",
        "outputId": "e94efd29-c950-4314-f675-60a6121ea437"
      },
      "execution_count": null,
      "outputs": [
        {
          "output_type": "display_data",
          "data": {
            "text/plain": "<Figure size 432x288 with 1 Axes>",
            "image/png": "[encoded data removed]"
          },
          "metadata": {}
        }
      ]
    },
    {
      "cell_type": "markdown",
      "source": [
        "## 10. Inference"
      ],
      "metadata": {
        "id": "7gMMPIO9NOYb"
      }
    },
    {
      "cell_type": "code",
      "source": [
        "class BERTinferenceDataSet(Dataset):\n",
        "\n",
        "    def __init__(self, sentences):\n",
        "        self.sentences = sentences\n",
        "\n",
        "    def __len__(self):\n",
        "        return len(self.sentences)\n",
        "\n",
        "    def __getitem__(self, idx):\n",
        "        sentence = self.sentences[idx]\n",
        "        bert_sent = tokenizer.encode_plus(sentence,\n",
        "                                         add_special_tokens = True, #[SEP][PAD]\n",
        "                                         max_length = max_len,\n",
        "                                         pad_to_max_length = True,\n",
        "                                         truncation = True)\n",
        "\n",
        "        ids = torch.tensor(bert_sent['input_ids'], dtype = torch.long)\n",
        "        mask = torch.tensor(bert_sent['attention_mask'], dtype = torch.long)\n",
        "\n",
        "        return{\n",
        "            'ids' : ids,\n",
        "            'mask' : mask\n",
        "             }"
      ],
      "metadata": {
        "execution": {
          "iopub.status.busy": "2021-10-10T11:10:42.866167Z",
          "iopub.execute_input": "2021-10-10T11:10:42.866500Z",
          "iopub.status.idle": "2021-10-10T11:10:42.873717Z",
          "shell.execute_reply.started": "2021-10-10T11:10:42.866470Z",
          "shell.execute_reply": "2021-10-10T11:10:42.872436Z"
        },
        "trusted": true,
        "id": "S26MFxMMNOYb"
      },
      "execution_count": null,
      "outputs": []
    },
    {
      "cell_type": "code",
      "source": [
        "test_batch = 32\n",
        "test_dataset = BERTinferenceDataSet(test['clean_text'])\n",
        "test_dataloader = DataLoader(test_dataset, batch_size = test_batch, shuffle = False, num_workers = 4, pin_memory = True)\n",
        "pthes = [os.path.join(\"./bert-models\",s) for s in os.listdir('./bert-models') if \".pth\" in s]"
      ],
      "metadata": {
        "execution": {
          "iopub.status.busy": "2021-10-10T11:10:46.475375Z",
          "iopub.execute_input": "2021-10-10T11:10:46.475837Z",
          "iopub.status.idle": "2021-10-10T11:10:46.495952Z",
          "shell.execute_reply.started": "2021-10-10T11:10:46.475798Z",
          "shell.execute_reply": "2021-10-10T11:10:46.495221Z"
        },
        "trusted": true,
        "id": "nNuqsewrNOYb"
      },
      "execution_count": null,
      "outputs": []
    },
    {
      "cell_type": "code",
      "source": [
        "allpreds = predicting(test_dataloader, model, pthes)"
      ],
      "metadata": {
        "execution": {
          "iopub.status.busy": "2021-10-10T11:10:49.834601Z",
          "iopub.execute_input": "2021-10-10T11:10:49.834928Z",
          "iopub.status.idle": "2021-10-10T11:11:38.510242Z",
          "shell.execute_reply.started": "2021-10-10T11:10:49.834899Z",
          "shell.execute_reply": "2021-10-10T11:11:38.509189Z"
        },
        "trusted": true,
        "id": "7XzV1JI2NOYb"
      },
      "execution_count": null,
      "outputs": []
    },
    {
      "cell_type": "code",
      "source": [
        "print('allpreds is an array with the shape of:',len(allpreds), 'x',len(allpreds[0]), 'x',len(allpreds[0][0]))\n",
        "allpreds[0][0]"
      ],
      "metadata": {
        "execution": {
          "iopub.status.busy": "2021-10-10T11:11:38.525834Z",
          "iopub.execute_input": "2021-10-10T11:11:38.526204Z",
          "iopub.status.idle": "2021-10-10T11:11:38.536596Z",
          "shell.execute_reply.started": "2021-10-10T11:11:38.526166Z",
          "shell.execute_reply": "2021-10-10T11:11:38.535591Z"
        },
        "trusted": true,
        "id": "PRypMWsINOYb",
        "outputId": "f1bcf5db-0936-430e-ea30-2b6ea8b446ae"
      },
      "execution_count": null,
      "outputs": [
        {
          "name": "stdout",
          "text": "allpreds is an array with the shape of: 5 x 100 x 6\n",
          "output_type": "stream"
        },
        {
          "execution_count": 19,
          "output_type": "execute_result",
          "data": {
            "text/plain": "array([0.4601297 , 0.30013636, 0.4116267 , 0.17326939, 0.4308261 ,\n       0.22566721], dtype=float32)"
          },
          "metadata": {}
        }
      ]
    },
    {
      "cell_type": "markdown",
      "source": [
        "We take the average of the probabilities in 5 folds."
      ],
      "metadata": {
        "id": "osrwZaOFNOYc"
      }
    },
    {
      "cell_type": "code",
      "source": [
        "preds = np.zeros((len(test_dataset),6))\n",
        "for i in range(kfold):\n",
        "    preds += allpreds[i]\n",
        "preds = preds / kfold"
      ],
      "metadata": {
        "execution": {
          "iopub.status.busy": "2021-10-10T11:11:38.538170Z",
          "iopub.execute_input": "2021-10-10T11:11:38.538674Z",
          "iopub.status.idle": "2021-10-10T11:11:38.543796Z",
          "shell.execute_reply.started": "2021-10-10T11:11:38.538638Z",
          "shell.execute_reply": "2021-10-10T11:11:38.542820Z"
        },
        "trusted": true,
        "id": "VnykuMfVNOYc"
      },
      "execution_count": null,
      "outputs": []
    },
    {
      "cell_type": "code",
      "source": [
        "results = pd.DataFrame(preds)\n",
        "submission = pd.concat([test,results], axis = 1).drop(['comment_text', 'clean_text'], axis = 1)\n",
        "submission.rename(columns = { 0:'toxic', 1:'severe_toxic', 2:'obscene', 3:'threat', 4:'insult', 5:'identity_hate'}, inplace = True)\n",
        "submission.to_csv(\"submission.csv\", index = False)"
      ],
      "metadata": {
        "execution": {
          "iopub.status.busy": "2021-10-10T11:12:42.626795Z",
          "iopub.execute_input": "2021-10-10T11:12:42.627127Z",
          "iopub.status.idle": "2021-10-10T11:12:42.655648Z",
          "shell.execute_reply.started": "2021-10-10T11:12:42.627096Z",
          "shell.execute_reply": "2021-10-10T11:12:42.654849Z"
        },
        "trusted": true,
        "id": "lI_n4T9yNOYc"
      },
      "execution_count": null,
      "outputs": []
    },
    {
      "cell_type": "markdown",
      "source": [
        "## 11. Results\n",
        "Here we trained a bert model for comment toxicity classification. A comment can be classified with multi-label and therefore this is an example of binary classification with multiple labels (not multi-classficaiton). <br>\n",
        "You can run part I and part II of the notebook independantly. <br>\n",
        "The best score achieved after running part II is 0.9796, with trianing the model with all the trainnig data (not reducing it to fewer rows) and having epochs = 1. I didn't try with more epochs, because the trianing time would exceed 5h. <br>\n",
        "Training the model with 2000 training samples and epochs = 5 results in a faster computation and gives the score: 0.94311."
      ],
      "metadata": {
        "id": "Xr6WmLQeNOYc"
      }
    },
    {
      "cell_type": "code",
      "source": [],
      "metadata": {
        "id": "gyVSParTTvL3"
      },
      "execution_count": null,
      "outputs": []
    }
  ]
}